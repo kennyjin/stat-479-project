{
 "cells": [
  {
   "cell_type": "code",
   "execution_count": 1,
   "metadata": {},
   "outputs": [],
   "source": [
    "from os import listdir\n",
    "import numpy as np\n",
    "import math"
   ]
  },
  {
   "cell_type": "code",
   "execution_count": 2,
   "metadata": {},
   "outputs": [],
   "source": [
    "data_dir = './npy_data/'\n",
    "data_limit_per_label = 500\n",
    "npdata = None\n",
    "ind2labels = []\n",
    "labels2ind = {}\n",
    "nplabels = None\n",
    "\n",
    "# fill data\n",
    "for file_name in listdir(data_dir):\n",
    "  npdata_t = (np.load(data_dir+file_name, mmap_mode='r')).copy()\n",
    "  np.random.shuffle(npdata_t)\n",
    "  npdata_t = npdata_t[:data_limit_per_label,:]\n",
    "  if npdata is None:\n",
    "    npdata = npdata_t\n",
    "  else:\n",
    "    npdata = np.concatenate((npdata, npdata_t))\n",
    "  label = file_name.split('.')[0]\n",
    "  ind2labels.append(label)\n",
    "  labels2ind[label] = len(ind2labels)-1\n",
    "  nplabel_t = np.full((npdata_t.shape[0],1), labels2ind[label])\n",
    "  if nplabels is None:\n",
    "    nplabels = nplabel_t\n",
    "  else:\n",
    "    nplabels = np.concatenate((nplabels, nplabel_t))\n",
    "\n",
    "# shuffle data\n",
    "data_ = np.c_[npdata.reshape(len(npdata), -1), nplabels.reshape(len(nplabels), -1)]\n",
    "doodle_images = data_[:, :npdata.size//len(npdata)].reshape(npdata.shape)\n",
    "doodle_labels = data_[:, npdata.size//len(npdata):].reshape(nplabels.shape)\n",
    "data_ = np.random.shuffle(data_)\n",
    "\n",
    "\n",
    "# split data\n",
    "data_len = npdata.shape[0]\n",
    "train_data_len = int(math.floor(data_len*0.7))\n",
    "eval_data_len = int(math.floor(data_len*0.2))"
   ]
  },
  {
   "cell_type": "code",
   "execution_count": 20,
   "metadata": {},
   "outputs": [
    {
     "name": "stdout",
     "output_type": "stream",
     "text": [
      "(172500, 784)\n"
     ]
    }
   ],
   "source": [
    "np.save('all_data',data_ ) \n",
    "print(npdata.shape)"
   ]
  },
  {
   "cell_type": "code",
   "execution_count": null,
   "metadata": {},
   "outputs": [],
   "source": []
  }
 ],
 "metadata": {
  "kernelspec": {
   "display_name": "Python 3",
   "language": "python",
   "name": "python3"
  },
  "language_info": {
   "codemirror_mode": {
    "name": "ipython",
    "version": 3
   },
   "file_extension": ".py",
   "mimetype": "text/x-python",
   "name": "python",
   "nbconvert_exporter": "python",
   "pygments_lexer": "ipython3",
   "version": "3.7.3"
  }
 },
 "nbformat": 4,
 "nbformat_minor": 2
}
