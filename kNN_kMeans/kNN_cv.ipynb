{
 "cells": [
  {
   "cell_type": "code",
   "execution_count": 2,
   "metadata": {},
   "outputs": [],
   "source": [
    "import numpy as np\n",
    "import pandas as pd\n",
    "\n",
    "from sklearn.pipeline import make_pipeline\n",
    "from sklearn.model_selection import train_test_split, GridSearchCV\n",
    "from sklearn.neighbors import KNeighborsClassifier\n",
    "from sklearn.decomposition import PCA"
   ]
  },
  {
   "cell_type": "code",
   "execution_count": 3,
   "metadata": {},
   "outputs": [],
   "source": [
    "df = pd.DataFrame(np.load('Data/sample_200.npy', allow_pickle = True))\n",
    "df = df.rename(columns = {784:'label'})"
   ]
  },
  {
   "cell_type": "code",
   "execution_count": 7,
   "metadata": {},
   "outputs": [],
   "source": [
    "img = df[df.columns[0:784]].values.astype(float)\n",
    "label = df['label'].values\n",
    "x_train, x_test, y_train, y_test = train_test_split(img, label, test_size = 0.05, train_size = 0.5, random_state = 123, stratify = label)"
   ]
  },
  {
   "cell_type": "code",
   "execution_count": 8,
   "metadata": {},
   "outputs": [],
   "source": [
    "x_train, x_test = x_train / 255, x_test / 255"
   ]
  },
  {
   "cell_type": "code",
   "execution_count": null,
   "metadata": {},
   "outputs": [
    {
     "name": "stdout",
     "output_type": "stream",
     "text": [
      "Fitting 5 folds for each of 10 candidates, totalling 50 fits\n"
     ]
    },
    {
     "name": "stderr",
     "output_type": "stream",
     "text": [
      "[Parallel(n_jobs=-1)]: Using backend LokyBackend with 12 concurrent workers.\n"
     ]
    }
   ],
   "source": [
    "pipe = make_pipeline(PCA(),\n",
    "                     KNeighborsClassifier())\n",
    "\n",
    "\n",
    "param_grid = {'pca__n_components': [100, 256],\n",
    "               'kneighborsclassifier__n_neighbors': np.arange(5,26, step = 5)}\n",
    "\n",
    "gsearch = GridSearchCV(pipe,\n",
    "                       param_grid=param_grid,\n",
    "                       refit=True,\n",
    "                       iid=False,\n",
    "                       cv=5,\n",
    "                       n_jobs=-1,\n",
    "                       verbose=1)\n",
    "\n",
    "gsearch.fit(x_train, y_train)\n",
    "\n",
    "print('best params:')\n",
    "print(gsearch.best_params_)\n",
    "\n",
    "print('train acc:')\n",
    "print(gsearch.score(x_train, y_train))\n",
    "\n",
    "print('test acc:')\n",
    "print(gsearch.score(x_test, y_test))\n"
   ]
  }
 ],
 "metadata": {
  "kernelspec": {
   "display_name": "Python 3",
   "language": "python",
   "name": "python3"
  },
  "language_info": {
   "codemirror_mode": {
    "name": "ipython",
    "version": 3
   },
   "file_extension": ".py",
   "mimetype": "text/x-python",
   "name": "python",
   "nbconvert_exporter": "python",
   "pygments_lexer": "ipython3",
   "version": "3.7.5"
  }
 },
 "nbformat": 4,
 "nbformat_minor": 4
}
