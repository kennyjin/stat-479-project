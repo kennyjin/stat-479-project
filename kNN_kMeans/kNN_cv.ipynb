{
 "cells": [
  {
   "cell_type": "code",
   "execution_count": 1,
   "metadata": {},
   "outputs": [],
   "source": [
    "import numpy as np\n",
    "import pandas as pd\n",
    "\n",
    "from sklearn.pipeline import make_pipeline\n",
    "from sklearn.model_selection import train_test_split, GridSearchCV\n",
    "from sklearn.neighbors import KNeighborsClassifier\n",
    "from sklearn.decomposition import PCA"
   ]
  },
  {
   "cell_type": "code",
   "execution_count": 2,
   "metadata": {},
   "outputs": [],
   "source": [
    "df = pd.DataFrame(np.load('Data/200/sample_200.npy', allow_pickle = True))\n",
    "df = df.rename(columns = {784:'label'})"
   ]
  },
  {
   "cell_type": "code",
   "execution_count": 6,
   "metadata": {},
   "outputs": [],
   "source": [
    "img = df[df.columns[0:784]].values.astype(float) / 255\n",
    "label = df['label'].values\n",
    "x_train, x_test, y_train, y_test = train_test_split(img, label, test_size = 0.2, train_size = 0.6, random_state = 123, stratify = label)"
   ]
  },
  {
   "cell_type": "code",
   "execution_count": 8,
   "metadata": {},
   "outputs": [
    {
     "name": "stdout",
     "output_type": "stream",
     "text": [
      "Fitting 5 folds for each of 27 candidates, totalling 135 fits\n"
     ]
    },
    {
     "name": "stderr",
     "output_type": "stream",
     "text": [
      "[Parallel(n_jobs=-1)]: Using backend LokyBackend with 12 concurrent workers.\n",
      "[Parallel(n_jobs=-1)]: Done  26 tasks      | elapsed: 10.7min\n",
      "[Parallel(n_jobs=-1)]: Done 135 out of 135 | elapsed: 48.9min finished\n"
     ]
    },
    {
     "name": "stdout",
     "output_type": "stream",
     "text": [
      "best params:\n",
      "{'kneighborsclassifier__n_neighbors': 15, 'pca__n_components': 100}\n",
      "train acc:\n",
      "0.34381642512077293\n",
      "test acc:\n",
      "0.22978260869565217\n"
     ]
    }
   ],
   "source": [
    "pipe = make_pipeline(PCA(),\n",
    "                     KNeighborsClassifier())\n",
    "\n",
    "\n",
    "param_grid = {'pca__n_components': [100, 200, 256],\n",
    "               'kneighborsclassifier__n_neighbors': np.arange(5,50, step = 5)}\n",
    "\n",
    "gs = GridSearchCV(pipe,\n",
    "                       param_grid=param_grid,\n",
    "                       refit=True,\n",
    "                       iid=False,\n",
    "                       cv=5,\n",
    "                       n_jobs=-1,\n",
    "                       verbose=1)\n",
    "\n",
    "gs.fit(x_train, y_train)\n",
    "\n",
    "print('best params:')\n",
    "print(gs.best_params_)\n",
    "\n",
    "print('train acc:')\n",
    "print(gs.score(x_train, y_train))\n",
    "\n",
    "print('test acc:')\n",
    "print(gs.score(x_test, y_test))\n"
   ]
  }
 ],
 "metadata": {
  "kernelspec": {
   "display_name": "Python 3",
   "language": "python",
   "name": "python3"
  },
  "language_info": {
   "codemirror_mode": {
    "name": "ipython",
    "version": 3
   },
   "file_extension": ".py",
   "mimetype": "text/x-python",
   "name": "python",
   "nbconvert_exporter": "python",
   "pygments_lexer": "ipython3",
   "version": "3.7.5"
  }
 },
 "nbformat": 4,
 "nbformat_minor": 4
}
