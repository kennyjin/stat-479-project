{
 "cells": [
  {
   "cell_type": "code",
   "execution_count": 2,
   "metadata": {},
   "outputs": [],
   "source": [
    "import pandas as pd\n",
    "import numpy as np \n",
    "import matplotlib.pyplot as plt\n",
    "from sklearn.model_selection import train_test_split\n",
    "from sklearn.neighbors import KNeighborsClassifier\n",
    "from sklearn.decomposition import PCA"
   ]
  },
  {
   "cell_type": "code",
   "execution_count": 4,
   "metadata": {},
   "outputs": [],
   "source": [
    "df = pd.DataFrame(np.load('Data/1000/sample_1000.npy', allow_pickle = True))\n",
    "df = df.rename(columns = {784:'label'})"
   ]
  },
  {
   "cell_type": "code",
   "execution_count": 5,
   "metadata": {},
   "outputs": [],
   "source": [
    "img = df[df.columns[0:784]].values.astype(float)\n",
    "label = df['label'].values\n",
    "img = img / 255\n",
    "x_train, x_test, y_train, y_test = train_test_split(img, label, test_size = 0.10, random_state = 123, stratify = label)\n",
    "#x_train, x_valid, y_train, y_valid = train_test_split(x_train1, y_train1, test_size = 0.2, random_state = 123, stratify = y_train1)"
   ]
  },
  {
   "cell_type": "code",
   "execution_count": 6,
   "metadata": {},
   "outputs": [],
   "source": [
    "pca = PCA(n_components=100)\n",
    "pca.fit(img)\n",
    "img_new = pca.transform(img)\n",
    "X_train = pca.transform(x_train)  \n",
    "X_test = pca.transform(x_test)"
   ]
  },
  {
   "cell_type": "code",
   "execution_count": 7,
   "metadata": {},
   "outputs": [
    {
     "name": "stdout",
     "output_type": "stream",
     "text": [
      "train set accuracy: 42.28%\n"
     ]
    }
   ],
   "source": [
    "#can also try 10 and 40\n",
    "knn = KNeighborsClassifier(n_neighbors=15, algorithm = 'auto', n_jobs = -1)\n",
    "knn.fit(X_train, y_train)\n",
    "ac = knn.score(X_train, y_train) * 100\n",
    "print('train set accuracy: %.2f%%' % ac)"
   ]
  },
  {
   "cell_type": "code",
   "execution_count": 8,
   "metadata": {},
   "outputs": [
    {
     "name": "stdout",
     "output_type": "stream",
     "text": [
      "test set accuracy: 33.42%\n"
     ]
    }
   ],
   "source": [
    "acc = knn.score(X_test, y_test) * 100\n",
    "\n",
    "print('test set accuracy: %.2f%%' % acc)\n"
   ]
  }
 ],
 "metadata": {
  "kernelspec": {
   "display_name": "Python 3",
   "language": "python",
   "name": "python3"
  },
  "language_info": {
   "codemirror_mode": {
    "name": "ipython",
    "version": 3
   },
   "file_extension": ".py",
   "mimetype": "text/x-python",
   "name": "python",
   "nbconvert_exporter": "python",
   "pygments_lexer": "ipython3",
   "version": "3.7.5"
  }
 },
 "nbformat": 4,
 "nbformat_minor": 2
}
