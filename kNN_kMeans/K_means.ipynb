{
 "cells": [
  {
   "cell_type": "code",
   "execution_count": 1,
   "metadata": {},
   "outputs": [],
   "source": [
    "from sklearn.decomposition import PCA\n",
    "import numpy as np\n",
    "import matplotlib.pyplot as plt\n",
    "import pandas as pd\n",
    "import ast"
   ]
  },
  {
   "cell_type": "code",
   "execution_count": 2,
   "metadata": {},
   "outputs": [],
   "source": [
    "sample_1000_image = np.load(r\"F:/Fall 2019/stat 479-ML/Project_Group_7/GITHUB/sample_1000_image.npy\",allow_pickle=True)\n",
    "sample_1000_label = np.load(r\"F:/Fall 2019/stat 479-ML/Project_Group_7/GITHUB/sample_1000_label.npy\",allow_pickle=True)\n",
    "\n",
    "label_map = open(r\"F:/Fall 2019/stat 479-ML/Project_Group_7/GITHUB/stat-479-project/DataPrep/label_map.txt\")\n",
    "label_map = ast.literal_eval(label_map.read())\n",
    "\n",
    "sample_1000_label = list(sample_1000_label.flatten())\n",
    "sample_1000_label = list(label_map.get(k, \"\") for k in sample_1000_label )"
   ]
  },
  {
   "cell_type": "code",
   "execution_count": 3,
   "metadata": {},
   "outputs": [
    {
     "name": "stdout",
     "output_type": "stream",
     "text": [
      "(345000, 256)\n"
     ]
    }
   ],
   "source": [
    "X=sample_1000_image/255\n",
    "pca = PCA(n_components=256)\n",
    "\n",
    "X_pca = pca.fit_transform(X)\n",
    "print(X_pca.shape)"
   ]
  },
  {
   "cell_type": "code",
   "execution_count": 4,
   "metadata": {},
   "outputs": [
    {
     "name": "stdout",
     "output_type": "stream",
     "text": [
      "251\n"
     ]
    }
   ],
   "source": [
    "variance = pca.explained_variance_ratio_ #calculate variance ratios\n",
    "var=np.cumsum(np.round(pca.explained_variance_ratio_, decimals=3)*100)\n",
    "print(np.argmax(var))"
   ]
  },
  {
   "cell_type": "code",
   "execution_count": 5,
   "metadata": {},
   "outputs": [
    {
     "data": {
      "text/plain": [
       "[<matplotlib.lines.Line2D at 0x21300073dd8>]"
      ]
     },
     "execution_count": 5,
     "metadata": {},
     "output_type": "execute_result"
    },
    {
     "data": {
      "image/png": "[encoded data removed]",
      "text/plain": [
       "<Figure size 432x288 with 1 Axes>"
      ]
     },
     "metadata": {
      "needs_background": "light"
     },
     "output_type": "display_data"
    }
   ],
   "source": [
    "plt.ylabel('% Variance Explained')\n",
    "plt.xlabel('# of Features')\n",
    "plt.title('PCA Analysis')\n",
    "plt.ylim(30,100.5)\n",
    "plt.style.context('seaborn-whitegrid')\n",
    "\n",
    "plt.plot(var)"
   ]
  },
  {
   "cell_type": "code",
   "execution_count": 6,
   "metadata": {},
   "outputs": [],
   "source": [
    "# meanVals = np.mean(X, axis=0)\n",
    "# DataAdjust = X-meanVals      \n",
    "# cov_mat = np.cov(DataAdjust.astype(float).T)\n",
    "\n",
    "# eig_vals, eig_vecs = np.linalg.eig(cov_mat)\n",
    "# print('\\nEigenvalues \\n%s' %eig_vals)"
   ]
  },
  {
   "cell_type": "code",
   "execution_count": 7,
   "metadata": {},
   "outputs": [],
   "source": [
    "# plt.scatter(X,X,c='white',marker='o',edgecolor='black',s=50)\n",
    "# plt.grid()\n",
    "# plt.show()"
   ]
  },
  {
   "cell_type": "markdown",
   "metadata": {},
   "source": [
    "#### K means"
   ]
  },
  {
   "cell_type": "code",
   "execution_count": 8,
   "metadata": {},
   "outputs": [],
   "source": [
    "from sklearn.cluster import MiniBatchKMeans\n",
    "import time\n",
    "import pandas as pd\n",
    "from collections import Counter"
   ]
  },
  {
   "cell_type": "code",
   "execution_count": 9,
   "metadata": {},
   "outputs": [
    {
     "name": "stdout",
     "output_type": "stream",
     "text": [
      "1\n",
      "51\n",
      "101\n",
      "151\n",
      "201\n",
      "251\n",
      "301\n"
     ]
    }
   ],
   "source": [
    "prediction =[]\n",
    "distortions = []\n",
    "t0 = time.time()\n",
    "\n",
    "for i in range(1, 345, 50):\n",
    "    print(i)\n",
    "    km = MiniBatchKMeans(init='k-means++', n_clusters=i, batch_size=10000, n_init=10, max_iter=300)\n",
    "    prediction.append(km.fit_predict(X_pca))\n",
    "    distortions.append(km.inertia_)\n",
    "\n",
    "    \n",
    "km = MiniBatchKMeans(init='k-means++', n_clusters=345, batch_size=10000, n_init=10, max_iter=300)\n",
    "prediction.append(km.fit_predict(X_pca))\n",
    "distortions.append(km.inertia_)\n",
    "    \n",
    "t_mini_batch = time.time() - t0"
   ]
  },
  {
   "cell_type": "code",
   "execution_count": 28,
   "metadata": {},
   "outputs": [
    {
     "name": "stdout",
     "output_type": "stream",
     "text": [
      "319.715576171875\n"
     ]
    },
    {
     "data": {
      "image/png": "[encoded data removed]",
      "text/plain": [
       "<Figure size 432x288 with 1 Axes>"
      ]
     },
     "metadata": {
      "needs_background": "light"
     },
     "output_type": "display_data"
    }
   ],
   "source": [
    "print(t_mini_batch)\n",
    "\n",
    "plt.plot((1,51,100,151,201,251,301,345),distortions, marker='o')\n",
    "plt.xlabel('Number of clusters')\n",
    "plt.ylabel('Distortion')\n",
    "plt.show()"
   ]
  },
  {
   "cell_type": "code",
   "execution_count": 11,
   "metadata": {},
   "outputs": [
    {
     "name": "stdout",
     "output_type": "stream",
     "text": [
      "{0, 1, 2, 3, 4, 5, 6, 7, 8, 9, 10, 11, 12, 13, 14, 15, 16, 17, 18, 19, 20, 21, 22, 23, 24, 25, 26, 27, 28, 29, 30, 31, 32, 33, 34, 35, 36, 37, 38, 39, 40, 41, 42, 43, 44, 45, 46, 47, 48, 49, 50, 51, 52, 53, 54, 55, 56, 57, 58, 59, 60, 61, 62, 63, 64, 65, 66, 67, 68, 69, 70, 71, 72, 73, 74, 75, 76, 77, 78, 79, 80, 81, 82, 83, 84, 85, 86, 87, 88, 89, 90, 91, 92, 93, 94, 95, 96, 97, 98, 99, 100, 101, 102, 103, 104, 105, 106, 107, 108, 109, 110, 111, 112, 113, 114, 115, 116, 117, 118, 119, 120, 121, 122, 123, 124, 125, 126, 127, 128, 129, 130, 131, 132, 133, 134, 135, 136, 137, 138, 139, 140, 141, 142, 143, 144, 145, 146, 147, 148, 149, 150, 151, 152, 153, 154, 155, 156, 157, 158, 159, 160, 161, 162, 163, 164, 165, 166, 167, 168, 169, 170, 171, 172, 173, 174, 175, 176, 177, 178, 179, 180, 181, 182, 183, 184, 185, 186, 187, 188, 189, 190, 191, 192, 193, 194, 195, 196, 197, 198, 199, 200, 201, 202, 203, 204, 205, 206, 207, 208, 209, 210, 211, 212, 213, 214, 215, 216, 217, 218, 219, 220, 221, 222, 223, 224, 225, 226, 227, 228, 229, 230, 231, 232, 233, 234, 235, 236, 237, 238, 239, 240, 241, 242, 243, 244, 245, 246, 247, 248, 249, 250}\n"
     ]
    }
   ],
   "source": [
    "y_kmeans=list(prediction[5])\n",
    "y_category = np.array(sample_1000_label)\n",
    "clusters=set(y_kmeans)\n",
    "print(clusters)"
   ]
  },
  {
   "cell_type": "code",
   "execution_count": 12,
   "metadata": {},
   "outputs": [],
   "source": [
    "cluster_index = []\n",
    "for cluster in clusters:\n",
    "    indices = [i for i, x in enumerate(y_kmeans) if x == cluster]\n",
    "    cluster_index.append(indices)"
   ]
  },
  {
   "cell_type": "code",
   "execution_count": 13,
   "metadata": {},
   "outputs": [],
   "source": [
    "category_cluster=[]\n",
    "for index in cluster_index:\n",
    "    category_cluster.append(y_category[index]) "
   ]
  },
  {
   "cell_type": "code",
   "execution_count": 14,
   "metadata": {},
   "outputs": [
    {
     "name": "stdout",
     "output_type": "stream",
     "text": [
      "[('zebra', 105), ('scorpion', 56), ('cow', 43), ('horse', 40)]\n",
      "[('palmtree', 145), ('stopsign', 132), ('lollipop', 117), ('flower', 115)]\n",
      "[('bowtie', 435), ('dumbbell', 229), ('fish', 74), ('eyeglasses', 72)]\n",
      "[('star', 134), ('snowflake', 109), ('TheEiffelTower', 89), ('ceilingfan', 79)]\n",
      "[('candle', 198), ('pencil', 134), ('knife', 127), ('crayon', 106)]\n",
      "[('donut', 54), ('smileyface', 52), ('blueberry', 48), ('cloud', 47)]\n",
      "[('flyingsaucer', 109), ('submarine', 79), ('cruiseship', 75), ('hat', 70)]\n",
      "[('television', 132), ('birthdaycake', 89), ('sink', 76), ('purse', 73)]\n",
      "[('rollercoaster', 53), ('zigzag', 51), ('eyeglasses', 40), ('dolphin', 38)]\n",
      "[('dumbbell', 271), ('key', 49), ('drums', 45), ('bicycle', 44)]\n",
      "[('table', 96), ('swingset', 65), ('cannon', 58), ('dolphin', 42)]\n",
      "[('seaturtle', 63), ('airplane', 61), ('spider', 56), ('rhinoceros', 47)]\n",
      "[('rainbow', 453), ('swingset', 172), ('boomerang', 159), ('bridge', 121)]\n",
      "[('garden', 52), ('mermaid', 37), ('mosquito', 33), ('rollercoaster', 29)]\n",
      "[('beard', 108), ('toilet', 71), ('hotairballoon', 64), ('skull', 46)]\n",
      "[('strawberry', 106), ('apple', 91), ('potato', 83), ('alarmclock', 72)]\n",
      "[('brain', 72), ('spreadsheet', 60), ('pizza', 49), ('lion', 47)]\n",
      "[('streetlight', 114), ('axe', 54), ('mailbox', 48), ('hammer', 36)]\n",
      "[('remotecontrol', 114), ('skyscraper', 91), ('ladder', 87), ('door', 80)]\n",
      "[('bandage', 109), ('canoe', 61), ('airplane', 54), ('saw', 54)]\n",
      "[('eyeglasses', 158), ('canoe', 121), ('crab', 49), ('snake', 45)]\n",
      "[('blackberry', 78), ('hurricane', 72), ('brain', 53), ('camouflage', 42)]\n",
      "[('square', 168), ('shorts', 101), ('pants', 88), ('map', 61)]\n",
      "[('golfclub', 200), ('hockeystick', 138), ('broom', 130), ('giraffe', 119)]\n",
      "[('van', 112), ('truck', 93), ('car', 82), ('tractor', 45)]\n",
      "[('postcard', 190), ('envelope', 185), ('camera', 130), ('shorts', 125)]\n",
      "[('golfclub', 164), ('hockeystick', 159), ('giraffe', 102), ('leg', 75)]\n",
      "[('camouflage', 82), ('spreadsheet', 69), ('sandwich', 68), ('schoolbus', 51)]\n",
      "[('ladder', 73), ('microphone', 65), ('candle', 64), ('lipstick', 54)]\n",
      "[('van', 48), ('truck', 46), ('bulldozer', 45), ('fish', 44)]\n",
      "[('square', 120), ('washingmachine', 72), ('dishwasher', 66), ('suitcase', 49)]\n",
      "[('potato', 58), ('alarmclock', 47), ('t-shirt', 34), ('stethoscope', 26)]\n",
      "[('rake', 89), ('stairs', 64), ('broom', 50), ('stitches', 44)]\n",
      "[('shorts', 126), ('square', 114), ('envelope', 102), ('postcard', 92)]\n",
      "[('rifle', 167), ('bench', 96), ('animalmigration', 60), ('TheGreatWallofChina', 59)]\n",
      "[('brain', 79), ('camouflage', 75), ('hurricane', 65), ('hedgehog', 58)]\n",
      "[('sweater', 217), ('jacket', 144), ('t-shirt', 131), ('sun', 81)]\n",
      "[('hexagon', 87), ('octagon', 66), ('tooth', 51), ('potato', 49)]\n",
      "[('snowman', 66), ('sock', 60), ('chair', 53), ('peanut', 47)]\n",
      "[('basket', 103), ('calendar', 69), ('laptop', 54), ('computer', 50)]\n",
      "[('schoolbus', 114), ('bus', 104), ('truck', 87), ('saw', 79)]\n",
      "[('seesaw', 119), ('stairs', 78), ('stitches', 66), ('syringe', 53)]\n",
      "[('panda', 184), ('alarmclock', 70), ('squirrel', 68), ('bear', 64)]\n",
      "[('guitar', 98), ('violin', 94), ('cannon', 44), ('clarinet', 39)]\n",
      "[('palmtree', 93), ('snowflake', 67), ('hammer', 63), ('lighthouse', 63)]\n",
      "[('toothbrush', 112), ('grass', 107), ('ocean', 92), ('squiggle', 90)]\n",
      "[('microwave', 138), ('pictureframe', 77), ('oven', 65), ('stove', 60)]\n",
      "[('soccerball', 111), ('wheel', 106), ('basketball', 87), ('pizza', 63)]\n",
      "[('cello', 62), ('penguin', 58), ('harp', 57), ('kangaroo', 56)]\n",
      "[('octopus', 124), ('rollerskates', 81), ('tractor', 52), ('campfire', 48)]\n",
      "[('toaster', 147), ('suitcase', 123), ('crown', 102), ('birthdaycake', 67)]\n",
      "[('car', 160), ('van', 138), ('policecar', 122), ('ambulance', 100)]\n",
      "[('snorkel', 145), ('banana', 109), ('swan', 69), ('kangaroo', 66)]\n",
      "[('lollipop', 94), ('flower', 76), ('fork', 71), ('mailbox', 65)]\n",
      "[('octagon', 210), ('circle', 194), ('clock', 171), ('smileyface', 96)]\n",
      "[('tornado', 81), ('hurricane', 79), ('broccoli', 55), ('zebra', 40)]\n",
      "[('rifle', 152), ('bridge', 79), ('dumbbell', 79), ('bed', 62)]\n",
      "[('line', 128), ('floorlamp', 122), ('matches', 118), ('broom', 98)]\n",
      "[('mountain', 178), ('tent', 98), ('triangle', 89), ('boomerang', 41)]\n",
      "[('TheMonaLisa', 74), ('stove', 50), ('calculator', 44), ('spreadsheet', 44)]\n",
      "[('winebottle', 269), ('pear', 162), ('snowman', 77), ('vase', 77)]\n",
      "[('cello', 93), ('sword', 58), ('knife', 56), ('pencil', 49)]\n",
      "[('tornado', 214), ('hurricane', 103), ('tennisracquet', 71), ('broccoli', 56)]\n",
      "[('stairs', 242), ('seesaw', 47), ('drill', 46), ('stitches', 44)]\n",
      "[('baseballbat', 106), ('marker', 60), ('pencil', 46), ('feather', 38)]\n",
      "[('eyeglasses', 81), ('banana', 65), ('necklace', 54), ('arm', 46)]\n",
      "[('fryingpan', 121), ('fish', 50), ('moustache', 48), ('trumpet', 40)]\n",
      "[('cloud', 94), ('pond', 68), ('hexagon', 59), ('bush', 54)]\n",
      "[('megaphone', 35), ('table', 32), ('fish', 31), ('drums', 30)]\n",
      "[('wheel', 121), ('soccerball', 116), ('basketball', 99), ('baseball', 69)]\n",
      "[('bus', 140), ('schoolbus', 112), ('truck', 98), ('van', 94)]\n",
      "[('pineapple', 108), ('penguin', 61), ('teddy-bear', 59), ('owl', 57)]\n",
      "[('hamburger', 52), ('brain', 39), ('sandwich', 23), ('camouflage', 22)]\n",
      "[('sock', 99), ('foot', 54), ('house', 50), ('nose', 36)]\n",
      "[('line', 493), ('ocean', 375), ('grass', 86), ('squiggle', 84)]\n",
      "[('fireplace', 50), ('hamburger', 45), ('stereo', 41), ('snail', 40)]\n",
      "[('cow', 71), ('tiger', 65), ('mouth', 42), ('zebra', 37)]\n",
      "[('pillow', 149), ('shorts', 84), ('postcard', 71), ('envelope', 64)]\n",
      "[('pillow', 119), ('envelope', 116), ('keyboard', 105), ('postcard', 101)]\n",
      "[('giraffe', 178), ('saxophone', 108), ('hockeystick', 97), ('stethoscope', 52)]\n",
      "[('toaster', 74), ('teapot', 64), ('cruiseship', 57), ('hedgehog', 53)]\n",
      "[('harp', 70), ('teddy-bear', 64), ('rabbit', 46), ('chair', 43)]\n",
      "[('sink', 97), ('television', 71), ('radio', 66), ('bicycle', 44)]\n",
      "[('umbrella', 233), ('tree', 201), ('mushroom', 112), ('mailbox', 76)]\n",
      "[('winebottle', 230), ('lipstick', 105), ('candle', 84), ('houseplant', 83)]\n",
      "[('diamond', 165), ('t-shirt', 107), ('parachute', 61), ('mushroom', 57)]\n",
      "[('keyboard', 222), ('pillow', 66), ('envelope', 59), ('pool', 58)]\n",
      "[('bracelet', 99), ('pictureframe', 95), ('teddy-bear', 71), ('alarmclock', 56)]\n",
      "[('circle', 141), ('octagon', 124), ('hexagon', 98), ('clock', 96)]\n",
      "[('streetlight', 167), ('axe', 97), ('mailbox', 55), ('knee', 48)]\n",
      "[('dishwasher', 85), ('calculator', 63), ('stove', 63), ('toaster', 59)]\n",
      "[('lion', 65), ('pizza', 62), ('fan', 54), ('soccerball', 46)]\n",
      "[('dishwasher', 86), ('suitcase', 75), ('oven', 65), ('camera', 62)]\n",
      "[('crab', 117), ('squirrel', 75), ('cat', 45), ('diamond', 40)]\n",
      "[('mushroom', 77), ('parachute', 60), ('diamond', 45), ('squirrel', 45)]\n",
      "[('diamond', 146), ('hotairballoon', 145), ('mushroom', 139), ('lightbulb', 136)]\n",
      "[('guitar', 59), ('cello', 55), ('grapes', 54), ('campfire', 44)]\n",
      "[('tennisracquet', 104), ('carrot', 45), ('leaf', 42), ('feather', 41)]\n",
      "[('crocodile', 112), ('rifle', 100), ('skateboard', 66), ('belt', 64)]\n",
      "[('swan', 90), ('scorpion', 78), ('kangaroo', 58), ('waterslide', 58)]\n",
      "[('penguin', 58), ('snowman', 50), ('lipstick', 41), ('cactus', 38)]\n",
      "[('sock', 215), ('foot', 63), ('toilet', 63), ('banana', 57)]\n",
      "[('steak', 69), ('rollerskates', 66), ('potato', 60), ('laptop', 34)]\n",
      "[('shovel', 67), ('broom', 62), ('golfclub', 48), ('sword', 45)]\n",
      "[('pickuptruck', 53), ('shark', 51), ('flashlight', 30), ('motorbike', 30)]\n",
      "[('drill', 122), ('stairs', 93), ('dolphin', 47), ('axe', 39)]\n",
      "[('lollipop', 177), ('wineglass', 136), ('floorlamp', 130), ('stopsign', 81)]\n",
      "[('hexagon', 79), ('donut', 74), ('cloud', 61), ('cookie', 59)]\n",
      "[('tiger', 67), ('zebra', 48), ('ceilingfan', 38), ('hotdog', 38)]\n",
      "[('rain', 255), ('knee', 121), ('animalmigration', 113), ('chair', 105)]\n",
      "[('broccoli', 124), ('palmtree', 107), ('fan', 75), ('flower', 62)]\n",
      "[('cow', 103), ('horse', 102), ('zebra', 62), ('sheep', 55)]\n",
      "[('helicopter', 56), ('snail', 56), ('bulldozer', 36), ('mosquito', 35)]\n",
      "[('knee', 119), ('streetlight', 80), ('axe', 79), ('flamingo', 71)]\n",
      "[('pear', 239), ('vase', 125), ('snowman', 108), ('church', 84)]\n",
      "[('hexagon', 153), ('octagon', 94), ('bracelet', 55), ('necklace', 50)]\n",
      "[('eraser', 50), ('steak', 39), ('megaphone', 38), ('sheep', 34)]\n",
      "[('apple', 194), ('house', 102), ('television', 80), ('birthdaycake', 77)]\n",
      "[('hamburger', 95), ('calendar', 54), ('stove', 47), ('spreadsheet', 44)]\n",
      "[('butterfly', 98), ('bowtie', 90), ('camera', 77), ('fireplace', 54)]\n",
      "[('square', 98), ('dishwasher', 84), ('washingmachine', 84), ('pants', 64)]\n",
      "[('bicycle', 90), ('star', 84), ('hedgehog', 82), ('spider', 78)]\n",
      "[('sun', 137), ('popsicle', 117), ('cactus', 95), ('leaf', 84)]\n",
      "[('brain', 68), ('sandwich', 67), ('stereo', 53), ('snail', 52)]\n",
      "[('clock', 87), ('circle', 82), ('cookie', 78), ('smileyface', 73)]\n",
      "[('eyeglasses', 60), ('elbow', 45), ('banana', 44), ('beach', 43)]\n",
      "[('calculator', 138), ('poweroutlet', 138), ('TheMonaLisa', 93), ('passport', 67)]\n",
      "[('belt', 240), ('grass', 119), ('crocodile', 109), ('rifle', 103)]\n",
      "[('envelope', 148), ('microwave', 126), ('postcard', 102), ('camera', 96)]\n",
      "[('broom', 98), ('shovel', 69), ('sword', 69), ('rake', 64)]\n",
      "[('ladder', 56), ('finger', 47), ('peanut', 42), ('lipstick', 38)]\n",
      "[('hourglass', 215), ('wineglass', 180), ('hammer', 86), ('tree', 81)]\n",
      "[('knee', 97), ('lightning', 93), ('nail', 61), ('fork', 57)]\n",
      "[('policecar', 112), ('car', 98), ('flyingsaucer', 88), ('shark', 82)]\n",
      "[('octopus', 117), ('bulldozer', 93), ('ceilingfan', 71), ('sailboat', 56)]\n",
      "[('hotdog', 65), ('piano', 61), ('eye', 53), ('mouth', 53)]\n",
      "[('trafficlight', 130), ('asparagus', 115), ('fork', 97), ('carrot', 79)]\n",
      "[('ceilingfan', 82), ('snowflake', 71), ('spider', 50), ('star', 50)]\n",
      "[('tennisracquet', 141), ('microphone', 105), ('flower', 90), ('paintbrush', 82)]\n",
      "[('umbrella', 182), ('hammer', 143), ('mailbox', 140), ('parachute', 109)]\n",
      "[('spoon', 159), ('popsicle', 158), ('wineglass', 119), ('lollipop', 88)]\n",
      "[('purse', 66), ('barn', 46), ('basket', 46), ('face', 41)]\n",
      "[('TheEiffelTower', 327), ('rake', 79), ('scissors', 78), ('shovel', 53)]\n",
      "[('purse', 126), ('house', 75), ('barn', 39), ('paintcan', 33)]\n",
      "[('face', 52), ('soccerball', 50), ('baseball', 49), ('wheel', 47)]\n",
      "[('eye', 148), ('cloud', 91), ('mouth', 87), ('pond', 84)]\n",
      "[('face', 71), ('compass', 70), ('baseball', 68), ('basketball', 54)]\n",
      "[('seesaw', 142), ('snake', 85), ('stitches', 82), ('rifle', 65)]\n",
      "[('keyboard', 156), ('bandage', 85), ('pond', 60), ('sleepingbag', 59)]\n",
      "[('harp', 62), ('blackberry', 46), ('spreadsheet', 46), ('teddy-bear', 40)]\n",
      "[('t-shirt', 283), ('underwear', 145), ('anvil', 130), ('diamond', 95)]\n",
      "[('underwear', 185), ('anvil', 66), ('sheep', 51), ('watermelon', 51)]\n",
      "[('snowman', 137), ('pear', 119), ('pineapple', 117), ('houseplant', 89)]\n",
      "[('strawberry', 240), ('owl', 97), ('pineapple', 68), ('penguin', 57)]\n",
      "[('duck', 78), ('swan', 63), ('shoe', 50), ('scorpion', 35)]\n",
      "[('popsicle', 85), ('marker', 79), ('baseballbat', 61), ('crayon', 56)]\n",
      "[('swingset', 143), ('table', 130), ('castle', 106), ('rainbow', 80)]\n",
      "[('ear', 100), ('lightbulb', 92), ('popsicle', 70), ('hotairballoon', 69)]\n",
      "[('soccerball', 123), ('pizza', 112), ('wheel', 112), ('basketball', 104)]\n",
      "[('icecream', 244), ('hotairballoon', 221), ('lightbulb', 170), ('popsicle', 153)]\n",
      "[('hourglass', 402), ('nose', 81), ('vase', 68), ('wineglass', 44)]\n",
      "[('canoe', 129), ('belt', 94), ('bandage', 93), ('crocodile', 77)]\n",
      "[('hand', 103), ('owl', 62), ('teddy-bear', 50), ('windmill', 41)]\n",
      "[('saw', 154), ('skateboard', 119), ('train', 61), ('bandage', 41)]\n",
      "[('horse', 96), ('swan', 71), ('zebra', 66), ('squirrel', 55)]\n",
      "[('donut', 76), ('baseball', 73), ('cookie', 60), ('soccerball', 52)]\n",
      "[('laptop', 108), ('octopus', 96), ('beard', 93), ('basket', 73)]\n",
      "[('bracelet', 63), ('lion', 61), ('sun', 42), ('hedgehog', 28)]\n",
      "[('mosquito', 53), ('snail', 44), ('bulldozer', 40), ('trombone', 37)]\n",
      "[('apple', 185), ('blueberry', 82), ('moon', 50), ('compass', 48)]\n",
      "[('trumpet', 88), ('canoe', 70), ('speedboat', 47), ('trombone', 45)]\n",
      "[('bee', 112), ('hedgehog', 83), ('octopus', 58), ('campfire', 44)]\n",
      "[('lightbulb', 191), ('hotairballoon', 126), ('skull', 88), ('goatee', 78)]\n",
      "[('trafficlight', 147), ('lantern', 100), ('poweroutlet', 75), ('cellphone', 70)]\n",
      "[('cannon', 69), ('bandage', 59), ('dolphin', 56), ('saw', 47)]\n",
      "[('skull', 183), ('mushroom', 144), ('helmet', 71), ('parachute', 65)]\n",
      "[('pictureframe', 257), ('bracelet', 65), ('sandwich', 41), ('oven', 39)]\n",
      "[('hat', 103), ('flyingsaucer', 75), ('submarine', 75), ('cruiseship', 68)]\n",
      "[('door', 183), ('bucket', 118), ('remotecontrol', 79), ('skyscraper', 79)]\n",
      "[('baseballbat', 86), ('hockeystick', 55), ('spoon', 46), ('marker', 45)]\n",
      "[('bus', 151), ('schoolbus', 138), ('microwave', 61), ('ambulance', 54)]\n",
      "[('goatee', 140), ('skull', 85), ('beard', 75), ('rollerskates', 52)]\n",
      "[('headphones', 515), ('bicycle', 87), ('tractor', 87), ('rainbow', 81)]\n",
      "[('calculator', 108), ('passport', 88), ('TheMonaLisa', 83), ('washingmachine', 77)]\n",
      "[('rollerskates', 144), ('sock', 120), ('foot', 102), ('laptop', 60)]\n",
      "[('guitar', 103), ('pencil', 66), ('paintbrush', 63), ('violin', 60)]\n",
      "[('flamingo', 112), ('mermaid', 87), ('parrot', 60), ('saxophone', 47)]\n",
      "[('skyscraper', 119), ('finger', 97), ('ladder', 97), ('remotecontrol', 81)]\n",
      "[('asparagus', 194), ('cello', 127), ('sword', 117), ('pencil', 80)]\n",
      "[('cello', 69), ('campfire', 65), ('grapes', 62), ('broom', 59)]\n",
      "[('floorlamp', 126), ('fork', 93), ('matches', 91), ('nail', 84)]\n",
      "[('sailboat', 142), ('hat', 122), ('tent', 77), ('triangle', 73)]\n",
      "[('underwear', 156), ('anvil', 72), ('teapot', 56), ('watermelon', 47)]\n",
      "[('crown', 96), ('shoe', 68), ('submarine', 60), ('birthdaycake', 53)]\n",
      "[('fireplace', 118), ('jail', 66), ('dresser', 46), ('washingmachine', 44)]\n",
      "[('washingmachine', 96), ('TheMonaLisa', 79), ('pants', 71), ('poweroutlet', 49)]\n",
      "[('triangle', 272), ('mountain', 124), ('nose', 113), ('tent', 90)]\n",
      "[('rabbit', 111), ('cat', 56), ('pig', 56), ('teddy-bear', 51)]\n",
      "[('door', 218), ('cellphone', 103), ('bucket', 70), ('cup', 67)]\n",
      "[('jacket', 86), ('angel', 82), ('parachute', 78), ('palmtree', 71)]\n",
      "[('teapot', 79), ('sheep', 57), ('rhinoceros', 45), ('fish', 43)]\n",
      "[('duck', 80), ('teapot', 54), ('camel', 51), ('bird', 50)]\n",
      "[('toothbrush', 167), ('snake', 50), ('trumpet', 50), ('beach', 49)]\n",
      "[('seesaw', 92), ('waterslide', 66), ('stairs', 37), ('stitches', 35)]\n",
      "[('stereo', 83), ('bus', 82), ('schoolbus', 67), ('microwave', 64)]\n",
      "[('feather', 70), ('carrot', 59), ('asparagus', 52), ('lightning', 49)]\n",
      "[('door', 95), ('pants', 72), ('tooth', 59), ('calculator', 46)]\n",
      "[('fryingpan', 108), ('trumpet', 76), ('key', 63), ('fish', 51)]\n",
      "[('snowflake', 143), ('leaf', 141), ('windmill', 68), ('icecream', 58)]\n",
      "[('mug', 107), ('square', 69), ('cup', 66), ('tooth', 50)]\n",
      "[('circle', 188), ('octagon', 162), ('clock', 153), ('cookie', 105)]\n",
      "[('canoe', 99), ('speedboat', 54), ('shark', 43), ('trumpet', 42)]\n",
      "[('carrot', 77), ('paperclip', 60), ('microphone', 57), ('pineapple', 51)]\n",
      "[('eraser', 135), ('bandage', 92), ('sleepingbag', 53), ('peanut', 52)]\n",
      "[('fish', 78), ('eraser', 45), ('rhinoceros', 44), ('saw', 34)]\n",
      "[('chair', 75), ('snorkel', 70), ('kangaroo', 50), ('toilet', 42)]\n",
      "[('television', 102), ('birthdaycake', 96), ('cake', 71), ('purse', 71)]\n",
      "[('blackberry', 121), ('hurricane', 52), ('camouflage', 44), ('tornado', 35)]\n",
      "[('trombone', 65), ('train', 62), ('aircraftcarrier', 52), ('speedboat', 47)]\n",
      "[('drill', 172), ('lighthouse', 66), ('hand', 51), ('table', 51)]\n",
      "[('steak', 38), ('pond', 37), ('cloud', 34), ('potato', 34)]\n",
      "[('grass', 72), ('crocodile', 52), ('speedboat', 52), ('TheGreatWallofChina', 52)]\n",
      "[('zebra', 137), ('tiger', 115), ('cow', 56), ('horse', 30)]\n",
      "[('camouflage', 31), ('spreadsheet', 26), ('hurricane', 24), ('TheGreatWallofChina', 19)]\n",
      "[('skateboard', 66), ('ant', 64), ('airplane', 52), ('bridge', 44)]\n",
      "[('onion', 115), ('campfire', 73), ('teddy-bear', 72), ('television', 68)]\n",
      "[('triangle', 201), ('sailboat', 141), ('tent', 83), ('nose', 69)]\n",
      "[('wheel', 130), ('basketball', 99), ('soccerball', 85), ('pizza', 64)]\n",
      "[('shark', 104), ('pickuptruck', 86), ('shoe', 69), ('submarine', 47)]\n",
      "[('hand', 62), ('boomerang', 48), ('headphones', 43), ('axe', 39)]\n",
      "[('sheep', 84), ('van', 82), ('truck', 55), ('table', 40)]\n",
      "[('stairs', 184), ('mountain', 80), ('stitches', 46), ('shovel', 36)]\n",
      "[('palmtree', 88), ('windmill', 77), ('tornado', 57), ('flower', 54)]\n",
      "[('moustache', 107), ('garden', 85), ('beach', 68), ('rollercoaster', 67)]\n",
      "[('bucket', 185), ('paintcan', 137), ('calculator', 132), ('cellphone', 114)]\n",
      "[('washingmachine', 107), ('TheMonaLisa', 81), ('dresser', 51), ('stove', 49)]\n",
      "[('tennisracquet', 213), ('fan', 155), ('tornado', 102), ('broccoli', 87)]\n",
      "[('shoe', 114), ('cruiseship', 112), ('submarine', 94), ('crown', 91)]\n",
      "[('waterslide', 101), ('stairs', 77), ('saxophone', 59), ('swan', 59)]\n",
      "[('bathtub', 63), ('mouth', 56), ('canoe', 48), ('hotdog', 48)]\n",
      "[('zebra', 76), ('cow', 67), ('bee', 51), ('tiger', 46)]\n",
      "[('fish', 30), ('rhinoceros', 29), ('bench', 28), ('dolphin', 25)]\n",
      "[('hat', 106), ('tent', 59), ('sun', 53), ('sailboat', 47)]\n",
      "[('saxophone', 125), ('giraffe', 96), ('violin', 91), ('swan', 70)]\n",
      "[('ceilingfan', 89), ('snowflake', 59), ('cannon', 46), ('dragon', 41)]\n",
      "[('mug', 289), ('coffeecup', 221), ('cup', 153), ('teapot', 47)]\n",
      "[('blackberry', 147), ('campfire', 67), ('beard', 57), ('grapes', 31)]\n",
      "[('flipflops', 95), ('penguin', 73), ('lighter', 71), ('remotecontrol', 64)]\n",
      "[('shorts', 92), ('map', 59), ('oven', 46), ('camera', 43)]\n",
      "[('lipstick', 224), ('candle', 186), ('winebottle', 105), ('crayon', 74)]\n",
      "[('finger', 121), ('lipstick', 110), ('skyscraper', 94), ('ladder', 92)]\n"
     ]
    }
   ],
   "source": [
    "for new_category in category_cluster:\n",
    "#     print(new_category)\n",
    "    c = Counter(new_category)\n",
    "    print(c.most_common(4))"
   ]
  }
 ],
 "metadata": {
  "kernelspec": {
   "display_name": "Python 3",
   "language": "python",
   "name": "python3"
  },
  "language_info": {
   "codemirror_mode": {
    "name": "ipython",
    "version": 3
   },
   "file_extension": ".py",
   "mimetype": "text/x-python",
   "name": "python",
   "nbconvert_exporter": "python",
   "pygments_lexer": "ipython3",
   "version": "3.7.3"
  }
 },
 "nbformat": 4,
 "nbformat_minor": 2
}
