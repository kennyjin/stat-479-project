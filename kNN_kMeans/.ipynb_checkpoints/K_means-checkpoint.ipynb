{
 "cells": [
  {
   "cell_type": "code",
   "execution_count": 1,
   "metadata": {},
   "outputs": [],
   "source": [
    "from sklearn.decomposition import PCA\n",
    "import numpy as np\n",
    "import matplotlib.pyplot as plt"
   ]
  },
  {
   "cell_type": "code",
   "execution_count": 61,
   "metadata": {},
   "outputs": [
    {
     "name": "stdout",
     "output_type": "stream",
     "text": [
      "(345000, 785)\n",
      "[0 0 0 0 0 0 0 0 0 0 0 0 0 0 0 0 0 0 0 0 0 0 0 0 0 0 0 0 0 0 0 0 0 0 0 0 0\n",
      " 0 0 0 0 0 16 96 114 92 18 0 0 0 0 0 0 0 0 0 0 0 0 0 0 0 0 0 0 0 0 0 0 126\n",
      " 247 255 255 255 246 78 0 0 0 0 0 0 0 0 0 0 0 0 0 0 0 0 0 0 0 0 115 255\n",
      " 160 43 7 42 195 244 31 0 0 0 0 0 0 0 0 0 0 0 0 0 0 0 0 0 0 20 246 165 1 0\n",
      " 0 0 57 255 68 0 0 0 0 0 0 0 0 0 0 0 0 0 0 0 0 0 0 109 254 35 0 0 0 0 146\n",
      " 252 39 0 0 0 0 0 0 0 0 0 0 0 0 0 0 0 0 0 0 135 240 0 0 0 6 141 255 132 0\n",
      " 0 0 0 0 0 0 0 0 0 0 0 0 0 0 0 0 0 0 133 247 24 11 108 227 255 136 2 0 0 0\n",
      " 0 0 0 0 0 0 0 0 0 0 0 0 0 0 0 0 30 233 170 236 255 255 207 15 0 0 0 0 0 0\n",
      " 0 0 0 0 0 0 0 0 0 0 0 0 0 0 30 229 255 181 75 112 248 155 0 0 0 0 0 0 0 0\n",
      " 0 0 0 0 0 0 0 0 0 0 0 1 185 254 111 0 0 0 128 254 58 0 0 0 0 0 0 0 0 0 0\n",
      " 0 0 0 0 0 0 0 0 52 255 139 0 0 0 0 8 238 143 0 0 0 0 0 0 0 0 0 0 0 0 0 0\n",
      " 0 0 0 0 85 255 117 0 0 0 0 0 214 170 0 0 0 0 0 0 0 0 0 0 0 0 0 0 0 0 0 0\n",
      " 19 248 226 56 17 4 0 86 255 112 0 0 0 0 0 0 0 0 0 0 0 0 0 0 0 0 0 0 0 115\n",
      " 255 255 255 243 207 255 201 6 0 0 0 0 0 0 0 0 0 0 0 0 0 0 0 0 0 0 96 250\n",
      " 229 172 251 255 255 255 154 4 0 0 0 0 0 0 0 0 0 0 0 0 0 0 0 0 0 69 250\n",
      " 178 15 0 10 19 68 162 255 177 1 0 0 0 0 0 0 0 0 0 0 0 0 0 0 0 26 239 203\n",
      " 10 0 0 0 0 0 0 104 255 97 0 0 0 0 0 0 0 0 0 0 0 0 0 0 0 168 243 29 0 0 0\n",
      " 0 0 0 0 0 200 202 0 0 0 0 0 0 0 0 0 0 0 0 0 0 58 255 116 0 0 0 0 0 0 0 0\n",
      " 0 135 246 0 0 0 0 0 0 0 0 0 0 0 0 0 0 140 243 6 0 0 0 0 0 0 0 0 0 156 222\n",
      " 0 0 0 0 0 0 0 0 0 0 0 0 0 0 206 183 0 0 0 0 0 0 0 0 0 0 192 196 0 0 0 0 0\n",
      " 0 0 0 0 0 0 0 0 0 243 142 0 0 0 0 0 0 0 0 0 71 255 116 0 0 0 0 0 0 0 0 0\n",
      " 0 0 0 0 0 194 225 49 0 0 0 0 0 0 0 11 221 209 5 0 0 0 0 0 0 0 0 0 0 0 0 0\n",
      " 0 47 226 255 201 108 44 7 7 21 88 208 250 55 0 0 0 0 0 0 0 0 0 0 0 0 0 0\n",
      " 0 0 15 105 198 255 255 255 255 255 255 221 66 0 0 0 0 0 0 0 0 0 0 0 0 0 0\n",
      " 0 0 0 0 0 0 32 82 115 114 101 53 0 0 0 0 0 0 0 0 0 0 0 0 0 0 0 0 0 0 0 0\n",
      " 0 0 0 0 0 0 0 0 0 0 0 0 0 0 0 0 0 0 0]\n",
      "(345000, 260)\n"
     ]
    }
   ],
   "source": [
    "data_1000 = np.load(\"./sample_1000.npy\",allow_pickle=True)\n",
    "print(data_1000.shape)\n",
    "X=data_1000[:, :784]\n",
    "pca = PCA(n_components=256)\n",
    "\n",
    "X_pca = pca.fit_transform(X)\n",
    "print(X_pca.shape)"
   ]
  },
  {
   "cell_type": "code",
   "execution_count": 6,
   "metadata": {},
   "outputs": [],
   "source": [
    "variance = pca.explained_variance_ratio_ #calculate variance ratios\n",
    "var=np.cumsum(np.round(pca.explained_variance_ratio_, decimals=3)*100)"
   ]
  },
  {
   "cell_type": "code",
   "execution_count": 7,
   "metadata": {},
   "outputs": [
    {
     "data": {
      "text/plain": [
       "[<matplotlib.lines.Line2D at 0x221855bfb70>]"
      ]
     },
     "execution_count": 7,
     "metadata": {},
     "output_type": "execute_result"
    },
    {
     "data": {
      "image/png": "[encoded data removed]",
      "text/plain": [
       "<Figure size 432x288 with 1 Axes>"
      ]
     },
     "metadata": {
      "needs_background": "light"
     },
     "output_type": "display_data"
    }
   ],
   "source": [
    "plt.ylabel('% Variance Explained')\n",
    "plt.xlabel('# of Features')\n",
    "plt.title('PCA Analysis')\n",
    "plt.ylim(30,100.5)\n",
    "plt.style.context('seaborn-whitegrid')\n",
    "\n",
    "plt.plot(var)"
   ]
  },
  {
   "cell_type": "code",
   "execution_count": 5,
   "metadata": {},
   "outputs": [],
   "source": [
    "# meanVals = np.mean(X, axis=0)\n",
    "# DataAdjust = X-meanVals      \n",
    "# cov_mat = np.cov(DataAdjust.astype(float).T)\n",
    "\n",
    "# eig_vals, eig_vecs = np.linalg.eig(cov_mat)\n",
    "# print('\\nEigenvalues \\n%s' %eig_vals)"
   ]
  },
  {
   "cell_type": "code",
   "execution_count": 6,
   "metadata": {},
   "outputs": [],
   "source": [
    "# plt.scatter(X,X,c='white',marker='o',edgecolor='black',s=50)\n",
    "# plt.grid()\n",
    "# plt.show()"
   ]
  },
  {
   "cell_type": "markdown",
   "metadata": {},
   "source": [
    "#### K means"
   ]
  },
  {
   "cell_type": "code",
   "execution_count": 46,
   "metadata": {},
   "outputs": [],
   "source": [
    "from sklearn.cluster import MiniBatchKMeans\n",
    "import time\n",
    "import pandas as pd"
   ]
  },
  {
   "cell_type": "code",
   "execution_count": 19,
   "metadata": {},
   "outputs": [],
   "source": [
    "prediction =[]\n",
    "distortions = []\n",
    "t0 = time.time()\n",
    "\n",
    "for i in range(1, 351, 49):\n",
    "    km = MiniBatchKMeans(init='k-means++', n_clusters=i, batch_size=10000, n_init=10, max_iter=300)\n",
    "    prediction.append(km.fit_predict(X_pca))\n",
    "    distortions.append(km.inertia_)\n",
    "\n",
    "    \n",
    "km = MiniBatchKMeans(init='k-means++', n_clusters=345, batch_size=10000, n_init=10, max_iter=300)\n",
    "prediction.append(km.fit_predict(X_pca))\n",
    "distortions.append(km.inertia_)\n",
    "    \n",
    "t_mini_batch = time.time() - t0"
   ]
  },
  {
   "cell_type": "code",
   "execution_count": 25,
   "metadata": {},
   "outputs": [
    {
     "name": "stdout",
     "output_type": "stream",
     "text": [
      "365.7734386920929\n"
     ]
    },
    {
     "data": {
      "image/png": "[encoded data removed]",
      "text/plain": [
       "<Figure size 432x288 with 1 Axes>"
      ]
     },
     "metadata": {
      "needs_background": "light"
     },
     "output_type": "display_data"
    }
   ],
   "source": [
    "print(t_mini_batch)\n",
    "\n",
    "plt.plot( distortions, marker='o')\n",
    "plt.xlabel('Number of clusters')\n",
    "plt.ylabel('Distortion')\n",
    "plt.show()"
   ]
  },
  {
   "cell_type": "code",
   "execution_count": 78,
   "metadata": {},
   "outputs": [
    {
     "name": "stdout",
     "output_type": "stream",
     "text": [
      "[1541562620433.6497, 1160834560450.191, 1115841691013.313, 1088934925057.3672, 1070516875104.5854, 1055708865628.5374, 1045838208014.5468, 1034522155476.6755, 1034647876468.3782]\n"
     ]
    }
   ],
   "source": [
    "y_kmeans=list(prediction[5])\n",
    "y_category = data_1000[:,784]\n",
    "clusters=set(y_kmeans)"
   ]
  },
  {
   "cell_type": "code",
   "execution_count": 71,
   "metadata": {},
   "outputs": [
    {
     "name": "stdout",
     "output_type": "stream",
     "text": [
      "1154\n"
     ]
    }
   ],
   "source": [
    "cluster_index = []\n",
    "for cluster in clusters:\n",
    "    indices = [i for i, x in enumerate(y_kmeans) if x == cluster]\n",
    "    cluster_index.append(indices)"
   ]
  },
  {
   "cell_type": "code",
   "execution_count": 75,
   "metadata": {},
   "outputs": [],
   "source": [
    "category_cluster=[]\n",
    "for index in cluster_index:\n",
    "    category_cluster.append(y_category[index]) "
   ]
  },
  {
   "cell_type": "code",
   "execution_count": 90,
   "metadata": {},
   "outputs": [
    {
     "name": "stdout",
     "output_type": "stream",
     "text": [
      "[('onion', 82), ('lantern', 54), ('barn', 54), ('strawberry', 44)]\n",
      "[('envelope', 101), ('pillow', 89), ('keyboard', 83), ('postcard', 79)]\n",
      "[('floorlamp', 249), ('lollipop', 186), ('wineglass', 143), ('spoon', 70)]\n",
      "[('keyboard', 192), ('bandage', 99), ('sleepingbag', 68), ('bathtub', 61)]\n",
      "[('trombone', 55), ('tiger', 54), ('rollercoaster', 33), ('train', 33)]\n",
      "[('pillow', 139), ('postcard', 105), ('envelope', 103), ('shorts', 72)]\n",
      "[('palmtree', 133), ('angel', 73), ('ceilingfan', 49), ('monkey', 47)]\n",
      "[('candle', 216), ('lipstick', 158), ('marker', 138), ('crayon', 132)]\n",
      "[('chair', 118), ('streetlight', 88), ('toe', 58), ('door', 57)]\n",
      "[('washingmachine', 79), ('shorts', 77), ('fireplace', 63), ('jail', 60)]\n",
      "[('blackberry', 155), ('campfire', 64), ('hurricane', 53), ('onion', 39)]\n",
      "[('butterfly', 81), ('snorkel', 44), ('bee', 34), ('helicopter', 33)]\n",
      "[('streetlight', 174), ('axe', 117), ('mailbox', 73), ('knee', 70)]\n",
      "[('shorts', 132), ('square', 125), ('map', 106), ('envelope', 79)]\n",
      "[('asparagus', 173), ('matches', 168), ('line', 158), ('broom', 123)]\n",
      "[('bus', 113), ('schoolbus', 98), ('stereo', 85), ('microwave', 62)]\n",
      "[('snowflake', 402), ('ceilingfan', 138), ('spider', 69), ('mosquito', 61)]\n",
      "[('rifle', 223), ('bridge', 76), ('animalmigration', 48), ('seesaw', 47)]\n",
      "[('soccerball', 93), ('donut', 85), ('basketball', 76), ('baseball', 74)]\n",
      "[('lipstick', 328), ('candle', 216), ('winebottle', 155), ('lighter', 117)]\n",
      "[('mosquito', 46), ('motorbike', 34), ('lobster', 24), ('helicopter', 20)]\n",
      "[('strawberry', 196), ('owl', 80), ('penguin', 49), ('alarmclock', 48)]\n",
      "[('lightbulb', 265), ('hotairballoon', 179), ('popsicle', 96), ('goatee', 68)]\n",
      "[('trafficlight', 141), ('poweroutlet', 89), ('lantern', 86), ('cellphone', 61)]\n",
      "[('square', 210), ('pictureframe', 76), ('dishwasher', 73), ('map', 56)]\n",
      "[('squirrel', 95), ('pig', 73), ('panda', 63), ('cat', 50)]\n",
      "[('pineapple', 129), ('cello', 95), ('campfire', 92), ('lantern', 76)]\n",
      "[('rainbow', 115), ('drill', 108), ('swingset', 106), ('bench', 77)]\n",
      "[('keyboard', 157), ('cloud', 82), ('pond', 75), ('pool', 60)]\n",
      "[('flamingo', 142), ('knee', 64), ('lightning', 62), ('shovel', 51)]\n",
      "[('t-shirt', 184), ('diamond', 107), ('anvil', 91), ('drill', 82)]\n",
      "[('crown', 69), ('sink', 65), ('radio', 64), ('shoe', 59)]\n",
      "[('swan', 96), ('saxophone', 93), ('camel', 62), ('giraffe', 59)]\n",
      "[('toothbrush', 184), ('moustache', 82), ('canoe', 62), ('beach', 55)]\n",
      "[('shark', 85), ('pickuptruck', 68), ('canoe', 54), ('hotdog', 47)]\n",
      "[('grass', 100), ('ocean', 99), ('squiggle', 86), ('snake', 74)]\n",
      "[('potato', 91), ('circle', 70), ('apple', 48), ('octagon', 41)]\n",
      "[('clock', 97), ('baseball', 91), ('donut', 78), ('smileyface', 77)]\n",
      "[('ladder', 119), ('paperclip', 117), ('popsicle', 73), ('carrot', 44)]\n",
      "[('guitar', 84), ('cannon', 81), ('violin', 61), ('seesaw', 48)]\n",
      "[('door', 185), ('paintcan', 74), ('square', 67), ('bread', 61)]\n",
      "[('spreadsheet', 121), ('calendar', 97), ('dresser', 62), ('stove', 56)]\n",
      "[('pillow', 85), ('envelope', 78), ('crown', 75), ('postcard', 63)]\n",
      "[('skateboard', 77), ('saw', 71), ('crocodile', 66), ('flashlight', 49)]\n",
      "[('sun', 106), ('cactus', 101), ('icecream', 73), ('star', 55)]\n",
      "[('guitar', 40), ('zebra', 37), ('cannon', 36), ('tiger', 35)]\n",
      "[('schoolbus', 93), ('bus', 90), ('saw', 88), ('truck', 87)]\n",
      "[('cake', 65), ('houseplant', 53), ('coffeecup', 48), ('television', 46)]\n",
      "[('shark', 102), ('hat', 89), ('pickuptruck', 89), ('policecar', 82)]\n",
      "[('bicycle', 228), ('motorbike', 108), ('dolphin', 40), ('rainbow', 39)]\n",
      "[('duck', 81), ('rhinoceros', 79), ('camel', 70), ('horse', 60)]\n",
      "[('cloud', 119), ('pond', 68), ('bush', 61), ('potato', 50)]\n",
      "[('crab', 161), ('squirrel', 106), ('raccoon', 60), ('dog', 56)]\n",
      "[('hockeystick', 121), ('golfclub', 119), ('leg', 94), ('ear', 72)]\n",
      "[('fork', 122), ('nail', 97), ('lollipop', 69), ('floorlamp', 60)]\n",
      "[('zebra', 201), ('cow', 93), ('tiger', 69), ('horse', 48)]\n",
      "[('sweater', 148), ('sun', 95), ('jacket', 92), ('teapot', 89)]\n",
      "[('binoculars', 53), ('eye', 52), ('cow', 51), ('zebra', 43)]\n",
      "[('television', 68), ('cake', 61), ('bee', 61), ('sink', 55)]\n",
      "[('fish', 124), ('fryingpan', 90), ('rhinoceros', 39), ('whale', 36)]\n",
      "[('pineapple', 61), ('firehydrant', 57), ('lighter', 50), ('ladder', 49)]\n",
      "[('camouflage', 75), ('hurricane', 58), ('brain', 43), ('spreadsheet', 41)]\n",
      "[('anvil', 156), ('underwear', 122), ('t-shirt', 42), ('watermelon', 34)]\n",
      "[('wheel', 109), ('basketball', 93), ('pizza', 83), ('soccerball', 80)]\n",
      "[('hexagon', 45), ('smileyface', 45), ('bracelet', 41), ('cookie', 39)]\n",
      "[('pictureframe', 82), ('washingmachine', 78), ('square', 76), ('pants', 72)]\n",
      "[('schoolbus', 80), ('bus', 75), ('brain', 63), ('lion', 47)]\n",
      "[('trafficlight', 145), ('fork', 121), ('microphone', 107), ('paintbrush', 84)]\n",
      "[('broom', 124), ('golfclub', 95), ('sword', 76), ('cello', 68)]\n",
      "[('eraser', 80), ('steak', 53), ('cannon', 52), ('bandage', 49)]\n",
      "[('harp', 70), ('windmill', 64), ('grapes', 57), ('rabbit', 44)]\n",
      "[('umbrella', 255), ('mushroom', 150), ('parachute', 97), ('tree', 91)]\n",
      "[('purse', 116), ('television', 95), ('birthdaycake', 90), ('radio', 74)]\n",
      "[('sock', 135), ('foot', 87), ('hockeystick', 63), ('moon', 61)]\n",
      "[('mug', 99), ('alarmclock', 68), ('coffeecup', 68), ('cup', 56)]\n",
      "[('star', 243), ('airplane', 131), ('sun', 87), ('angel', 64)]\n",
      "[('calculator', 196), ('poweroutlet', 86), ('paintcan', 75), ('passport', 70)]\n",
      "[('octagon', 100), ('face', 96), ('clock', 93), ('circle', 92)]\n",
      "[('canoe', 212), ('speedboat', 82), ('belt', 80), ('crocodile', 74)]\n",
      "[('stairs', 109), ('stitches', 70), ('rake', 61), ('shovel', 49)]\n",
      "[('stereo', 75), ('couch', 67), ('sandwich', 53), ('microwave', 45)]\n",
      "[('drill', 87), ('camel', 58), ('spider', 42), ('table', 41)]\n",
      "[('pear', 149), ('house', 141), ('apple', 105), ('vase', 89)]\n",
      "[('teapot', 98), ('rhinoceros', 33), ('duck', 30), ('steak', 27)]\n",
      "[('car', 113), ('hamburger', 82), ('bicycle', 78), ('policecar', 71)]\n",
      "[('rollerskates', 177), ('snorkel', 64), ('banana', 57), ('hockeypuck', 39)]\n",
      "[('bucket', 118), ('paintcan', 81), ('calculator', 73), ('house', 61)]\n",
      "[('wheel', 190), ('soccerball', 163), ('basketball', 125), ('pizza', 93)]\n",
      "[('tornado', 159), ('tennisracquet', 112), ('hurricane', 65), ('fan', 50)]\n",
      "[('baseballbat', 79), ('marker', 51), ('crayon', 32), ('syringe', 30)]\n",
      "[('hamburger', 67), ('zebra', 40), ('bee', 40), ('sandwich', 39)]\n",
      "[('television', 91), ('purse', 83), ('radio', 76), ('birthdaycake', 73)]\n",
      "[('cello', 200), ('guitar', 105), ('sword', 86), ('broom', 71)]\n",
      "[('skateboard', 57), ('ant', 49), ('bench', 40), ('bridge', 39)]\n",
      "[('parrot', 97), ('axe', 70), ('flamingo', 62), ('mermaid', 59)]\n",
      "[('sailboat', 87), ('apple', 51), ('nose', 48), ('pear', 38)]\n",
      "[('bandage', 163), ('saw', 114), ('canoe', 66), ('keyboard', 65)]\n",
      "[('rollerskates', 95), ('kangaroo', 55), ('toilet', 54), ('sock', 53)]\n",
      "[('axe', 53), ('mountain', 40), ('eraser', 36), ('drill', 34)]\n",
      "[('hockeystick', 134), ('golfclub', 122), ('giraffe', 105), ('kangaroo', 77)]\n",
      "[('trafficlight', 89), ('remotecontrol', 65), ('cellphone', 58), ('ladder', 58)]\n",
      "[('toaster', 92), ('crown', 61), ('hottub', 60), ('stove', 49)]\n",
      "[('bat', 61), ('tiger', 60), ('airplane', 49), ('dragon', 48)]\n",
      "[('key', 82), ('fryingpan', 73), ('trumpet', 68), ('eyeglasses', 62)]\n",
      "[('hotairballoon', 127), ('tree', 125), ('wineglass', 70), ('lightbulb', 55)]\n",
      "[('popsicle', 223), ('leaf', 107), ('diamond', 48), ('icecream', 48)]\n",
      "[('peanut', 100), ('flipflops', 82), ('remotecontrol', 64), ('ear', 56)]\n",
      "[('mushroom', 202), ('skull', 199), ('lightbulb', 174), ('diamond', 165)]\n",
      "[('washingmachine', 123), ('dishwasher', 99), ('stove', 59), ('pictureframe', 57)]\n",
      "[('campfire', 73), ('kangaroo', 62), ('chair', 52), ('toilet', 43)]\n",
      "[('headphones', 475), ('tractor', 91), ('rainbow', 58), ('boomerang', 58)]\n",
      "[('shoe', 78), ('rollerskates', 53), ('sailboat', 45), ('foot', 43)]\n",
      "[('apple', 124), ('blueberry', 84), ('compass', 64), ('alarmclock', 58)]\n",
      "[('snail', 89), ('bee', 71), ('bulldozer', 50), ('helicopter', 41)]\n",
      "[('octagon', 160), ('circle', 146), ('clock', 127), ('donut', 84)]\n",
      "[('square', 135), ('washingmachine', 93), ('dishwasher', 79), ('pants', 54)]\n",
      "[('door', 154), ('skyscraper', 76), ('streetlight', 55), ('remotecontrol', 54)]\n",
      "[('bucket', 153), ('paintcan', 105), ('house', 59), ('remotecontrol', 43)]\n",
      "[('underwear', 119), ('anvil', 74), ('star', 49), ('airplane', 48)]\n",
      "[('brain', 58), ('hurricane', 52), ('zebra', 46), ('tornado', 46)]\n",
      "[('scorpion', 76), ('horse', 62), ('swan', 42), ('mermaid', 41)]\n",
      "[('camouflage', 42), ('spreadsheet', 39), ('hurricane', 30), ('brain', 27)]\n",
      "[('tornado', 134), ('broccoli', 111), ('hurricane', 104), ('tennisracquet', 46)]\n",
      "[('fish', 51), ('shoe', 34), ('whale', 33), ('rhinoceros', 30)]\n",
      "[('jacket', 160), ('sweater', 132), ('t-shirt', 90), ('umbrella', 85)]\n",
      "[('van', 138), ('truck', 105), ('bus', 87), ('sheep', 79)]\n",
      "[('tornado', 90), ('windmill', 50), ('pizza', 46), ('flower', 41)]\n",
      "[('zebra', 69), ('tiger', 54), ('spreadsheet', 46), ('cow', 42)]\n",
      "[('bracelet', 158), ('pictureframe', 114), ('lion', 71), ('sun', 39)]\n",
      "[('baseball', 67), ('donut', 66), ('compass', 55), ('clock', 51)]\n",
      "[('hedgehog', 87), ('brain', 85), ('spreadsheet', 36), ('hurricane', 34)]\n",
      "[('rainbow', 439), ('swingset', 199), ('boomerang', 174), ('mountain', 124)]\n",
      "[('bandage', 96), ('eraser', 74), ('sleepingbag', 44), ('paperclip', 38)]\n",
      "[('sun', 49), ('cactus', 30), ('stethoscope', 28), ('elbow', 27)]\n",
      "[('line', 478), ('ocean', 381), ('grass', 101), ('squiggle', 89)]\n",
      "[('pear', 230), ('vase', 103), ('church', 95), ('snowman', 94)]\n",
      "[('cloud', 113), ('bush', 79), ('hexagon', 77), ('pond', 69)]\n",
      "[('table', 136), ('swingset', 134), ('drill', 84), ('bench', 45)]\n",
      "[('mountain', 283), ('triangle', 227), ('tent', 136), ('TheEiffelTower', 36)]\n",
      "[('shark', 131), ('pickuptruck', 77), ('flyingsaucer', 57), ('aircraftcarrier', 55)]\n",
      "[('postcard', 129), ('envelope', 127), ('shorts', 112), ('map', 86)]\n",
      "[('stairs', 270), ('mountain', 46), ('stitches', 45), ('line', 36)]\n",
      "[('baseballbat', 51), ('mermaid', 50), ('lightning', 49), ('ladder', 42)]\n",
      "[('lollipop', 123), ('tree', 111), ('wineglass', 105), ('icecream', 91)]\n",
      "[('shoe', 80), ('swan', 44), ('rollerskates', 41), ('scorpion', 40)]\n",
      "[('mushroom', 141), ('parachute', 90), ('skull', 79), ('t-shirt', 67)]\n",
      "[('houseplant', 179), ('pineapple', 166), ('windmill', 141), ('owl', 121)]\n",
      "[('toaster', 109), ('oven', 75), ('stove', 70), ('suitcase', 67)]\n",
      "[('tennisracquet', 131), ('mermaid', 58), ('microphone', 41), ('carrot', 40)]\n",
      "[('TheMonaLisa', 126), ('washingmachine', 111), ('calculator', 100), ('poweroutlet', 74)]\n",
      "[('seesaw', 133), ('snake', 85), ('stitches', 73), ('river', 48)]\n",
      "[('cruiseship', 116), ('bathtub', 65), ('mouth', 38), ('submarine', 35)]\n",
      "[('skateboard', 96), ('mouth', 61), ('saw', 59), ('train', 46)]\n",
      "[('sock', 171), ('snorkel', 86), ('banana', 82), ('foot', 71)]\n",
      "[('flyingsaucer', 105), ('submarine', 99), ('cruiseship', 98), ('hat', 75)]\n",
      "[('bowtie', 502), ('dumbbell', 228), ('fish', 86), ('eyeglasses', 80)]\n",
      "[('seesaw', 86), ('rollercoaster', 70), ('squiggle', 58), ('gardenhose', 49)]\n",
      "[('rifle', 96), ('bench', 63), ('bridge', 48), ('animalmigration', 43)]\n",
      "[('laptop', 95), ('hamburger', 78), ('basket', 74), ('computer', 48)]\n",
      "[('bandage', 39), ('whale', 37), ('horse', 35), ('saw', 31)]\n",
      "[('mug', 86), ('suitcase', 56), ('cup', 37), ('coffeecup', 37)]\n",
      "[('streetlight', 129), ('axe', 98), ('nail', 75), ('hammer', 60)]\n",
      "[('envelope', 145), ('postcard', 138), ('microwave', 125), ('pillow', 95)]\n",
      "[('hamburger', 70), ('van', 57), ('truck', 49), ('sheep', 41)]\n",
      "[('carrot', 90), ('fork', 90), ('streetlight', 83), ('nail', 76)]\n",
      "[('suitcase', 73), ('apple', 70), ('birthdaycake', 37), ('television', 36)]\n",
      "[('fryingpan', 140), ('fish', 79), ('whale', 57), ('trumpet', 46)]\n",
      "[('grapes', 98), ('penguin', 75), ('onion', 69), ('teddy-bear', 68)]\n",
      "[('guitar', 129), ('violin', 103), ('pencil', 44), ('feather', 34)]\n",
      "[('violin', 113), ('saxophone', 105), ('guitar', 103), ('giraffe', 103)]\n",
      "[('belt', 269), ('crocodile', 151), ('grass', 131), ('rifle', 110)]\n",
      "[('flyingsaucer', 95), ('hat', 84), ('shark', 54), ('speedboat', 51)]\n",
      "[('van', 160), ('car', 138), ('ambulance', 138), ('rollerskates', 111)]\n",
      "[('teddy-bear', 149), ('cellphone', 84), ('campfire', 49), ('penguin', 37)]\n",
      "[('fan', 114), ('tennisracquet', 62), ('broccoli', 60), ('flower', 47)]\n",
      "[('sock', 136), ('potato', 69), ('circle', 42), ('apple', 39)]\n",
      "[('tennisracquet', 131), ('flower', 115), ('lollipop', 89), ('stopsign', 68)]\n",
      "[('octagon', 194), ('hexagon', 150), ('circle', 148), ('clock', 98)]\n",
      "[('dolphin', 45), ('duck', 43), ('cannon', 38), ('horse', 38)]\n",
      "[('pants', 143), ('poweroutlet', 93), ('TheMonaLisa', 80), ('washingmachine', 60)]\n",
      "[('swan', 111), ('giraffe', 80), ('saxophone', 69), ('scorpion', 63)]\n",
      "[('hotdog', 83), ('schoolbus', 56), ('bus', 49), ('sandwich', 47)]\n",
      "[('wineglass', 174), ('stethoscope', 68), ('lollipop', 67), ('mailbox', 64)]\n",
      "[('finger', 133), ('skyscraper', 131), ('ladder', 122), ('remotecontrol', 102)]\n",
      "[('eyeglasses', 144), ('banana', 57), ('arm', 54), ('snake', 44)]\n",
      "[('garden', 102), ('beach', 83), ('moustache', 67), ('speedboat', 50)]\n",
      "[('pear', 138), ('TheEiffelTower', 117), ('houseplant', 108), ('snowman', 106)]\n",
      "[('necklace', 107), ('diamond', 76), ('elbow', 63), ('t-shirt', 55)]\n",
      "[('laptop', 59), ('tractor', 57), ('snorkel', 46), ('radio', 39)]\n",
      "[('baseballbat', 117), ('feather', 72), ('pencil', 59), ('spoon', 59)]\n",
      "[('stove', 52), ('hamburger', 45), ('panda', 32), ('stopsign', 31)]\n",
      "[('beach', 72), ('hotdog', 72), ('grass', 64), ('train', 56)]\n",
      "[('TheEiffelTower', 230), ('rake', 140), ('broom', 134), ('shovel', 126)]\n",
      "[('giraffe', 164), ('saxophone', 105), ('hockeystick', 93), ('stethoscope', 58)]\n",
      "[('tiger', 55), ('trombone', 39), ('aircraftcarrier', 32), ('bee', 30)]\n",
      "[('mug', 244), ('coffeecup', 208), ('cup', 117), ('teapot', 53)]\n",
      "[('winebottle', 247), ('lipstick', 103), ('pear', 99), ('snowman', 78)]\n",
      "[('pictureframe', 134), ('cellphone', 79), ('computer', 57), ('book', 41)]\n",
      "[('lightning', 170), ('knee', 145), ('nose', 115), ('golfclub', 77)]\n",
      "[('fireplace', 121), ('camera', 75), ('microwave', 67), ('jail', 62)]\n",
      "[('apple', 114), ('alarmclock', 70), ('strawberry', 70), ('television', 65)]\n",
      "[('circle', 120), ('octagon', 108), ('clock', 105), ('smileyface', 72)]\n",
      "[('hexagon', 110), ('blueberry', 88), ('circle', 83), ('clock', 70)]\n",
      "[('rifle', 100), ('ceilingfan', 39), ('table', 38), ('bridge', 37)]\n",
      "[('barn', 58), ('wheel', 57), ('purse', 55), ('basket', 47)]\n",
      "[('lion', 77), ('fan', 59), ('pizza', 46), ('angel', 45)]\n",
      "[('scorpion', 70), ('banana', 57), ('kangaroo', 56), ('snorkel', 54)]\n",
      "[('door', 212), ('cellphone', 123), ('cup', 75), ('pants', 75)]\n",
      "[('stairs', 166), ('seesaw', 133), ('stitches', 76), ('line', 57)]\n",
      "[('icecream', 161), ('popsicle', 151), ('hotairballoon', 127), ('lightbulb', 123)]\n",
      "[('palmtree', 138), ('tennisracquet', 134), ('microphone', 95), ('flower', 82)]\n",
      "[('golfclub', 72), ('hockeystick', 59), ('syringe', 53), ('broom', 52)]\n",
      "[('hat', 146), ('submarine', 99), ('flyingsaucer', 79), ('policecar', 78)]\n",
      "[('hourglass', 539), ('wineglass', 85), ('vase', 58), ('computer', 31)]\n",
      "[('cloud', 89), ('shoe', 64), ('pond', 56), ('crown', 55)]\n",
      "[('flower', 139), ('stopsign', 121), ('palmtree', 94), ('lollipop', 90)]\n",
      "[('hand', 133), ('palmtree', 71), ('strawberry', 53), ('panda', 52)]\n",
      "[('winebottle', 192), ('lighter', 93), ('candle', 63), ('pear', 57)]\n",
      "[('underwear', 102), ('skateboard', 62), ('sheep', 61), ('rhinoceros', 56)]\n",
      "[('sweater', 136), ('t-shirt', 79), ('jacket', 58), ('teapot', 45)]\n",
      "[('blackberry', 136), ('hurricane', 76), ('camouflage', 63), ('brain', 30)]\n",
      "[('stairs', 142), ('waterslide', 132), ('stitches', 67), ('saxophone', 53)]\n",
      "[('underwear', 127), ('t-shirt', 121), ('sheep', 82), ('anvil', 57)]\n",
      "[('saw', 55), ('dolphin', 54), ('bandage', 46), ('crocodile', 35)]\n",
      "[('dumbbell', 328), ('key', 48), ('bed', 46), ('drums', 45)]\n",
      "[('octopus', 157), ('campfire', 62), ('bee', 57), ('chandelier', 51)]\n",
      "[('rain', 218), ('elbow', 106), ('necklace', 86), ('animalmigration', 76)]\n",
      "[('asparagus', 233), ('sword', 170), ('pencil', 158), ('knife', 144)]\n",
      "[('spreadsheet', 87), ('TheMonaLisa', 84), ('calendar', 79), ('calculator', 54)]\n",
      "[('sailboat', 125), ('triangle', 118), ('hat', 67), ('tent', 64)]\n",
      "[('potato', 58), ('steak', 42), ('clock', 31), ('compass', 27)]\n",
      "[('mermaid', 53), ('lighthouse', 45), ('waterslide', 44), ('monkey', 37)]\n",
      "[('hammer', 153), ('umbrella', 100), ('parachute', 99), ('mailbox', 96)]\n",
      "[('moon', 207), ('boomerang', 72), ('banana', 67), ('ear', 58)]\n",
      "[('canoe', 91), ('trumpet', 87), ('trombone', 67), ('eyeglasses', 51)]\n",
      "[('table', 118), ('hand', 56), ('drill', 36), ('stove', 35)]\n",
      "[('sailboat', 108), ('octopus', 79), ('chandelier', 76), ('tent', 70)]\n",
      "[('beard', 185), ('basket', 132), ('laptop', 85), ('octopus', 84)]\n",
      "[('tennisracquet', 41), ('mermaid', 39), ('mosquito', 27), ('feather', 23)]\n",
      "[('triangle', 200), ('nose', 91), ('birthdaycake', 76), ('sailboat', 75)]\n",
      "[('wheel', 142), ('soccerball', 120), ('basketball', 115), ('pizza', 112)]\n",
      "[('camera', 137), ('crown', 48), ('microwave', 45), ('suitcase', 41)]\n",
      "[('hourglass', 107), ('wineglass', 98), ('spoon', 97), ('microphone', 80)]\n",
      "[('schoolbus', 153), ('bus', 143), ('van', 138), ('truck', 93)]\n",
      "[('goatee', 126), ('skull', 109), ('face', 69), ('helmet', 53)]\n",
      "[('paperclip', 137), ('penguin', 90), ('teddy-bear', 48), ('lantern', 36)]\n"
     ]
    }
   ],
   "source": [
    "from collections import Counter\n",
    "for new_category in category_cluster:\n",
    "    words_to_count = (word for word in new_category )\n",
    "    c = Counter(words_to_count)\n",
    "    print(c.most_common(4))"
   ]
  },
  {
   "cell_type": "code",
   "execution_count": null,
   "metadata": {},
   "outputs": [],
   "source": [
    "###accuracy \n",
    "\n"
   ]
  }
 ],
 "metadata": {
  "kernelspec": {
   "display_name": "Python 3",
   "language": "python",
   "name": "python3"
  },
  "language_info": {
   "codemirror_mode": {
    "name": "ipython",
    "version": 3
   },
   "file_extension": ".py",
   "mimetype": "text/x-python",
   "name": "python",
   "nbconvert_exporter": "python",
   "pygments_lexer": "ipython3",
   "version": "3.7.5"
  }
 },
 "nbformat": 4,
 "nbformat_minor": 2
}
