{
 "cells": [
  {
   "cell_type": "markdown",
   "metadata": {},
   "source": [
    "#### Autoencoder"
   ]
  },
  {
   "cell_type": "code",
   "execution_count": 1,
   "metadata": {},
   "outputs": [
    {
     "name": "stdout",
     "output_type": "stream",
     "text": [
      "Device: cpu\n"
     ]
    }
   ],
   "source": [
    "import time\n",
    "import numpy as np\n",
    "import torch\n",
    "import torch.nn.functional as F\n",
    "from torchvision import datasets\n",
    "from torchvision import transforms\n",
    "from torch.utils.data import DataLoader,TensorDataset\n",
    "import pandas as pd\n",
    "from sklearn.model_selection import train_test_split\n",
    "\n",
    "if torch.cuda.is_available():\n",
    "    torch.backends.cudnn.deterministic = True\n",
    "\n",
    "##########################\n",
    "### SETTINGS\n",
    "##########################\n",
    "\n",
    "# Device\n",
    "device = torch.device(\"cuda:0\" if torch.cuda.is_available() else \"cpu\")\n",
    "print('Device:', device)\n",
    "\n",
    "# Hyperparameters\n",
    "random_seed = 123\n",
    "learning_rate = 0.005\n",
    "num_epochs = 5\n",
    "batch_size = 500\n",
    "\n",
    "# Architecture\n",
    "num_features = 784\n",
    "num_hidden_1 = 100"
   ]
  },
  {
   "cell_type": "code",
   "execution_count": 2,
   "metadata": {},
   "outputs": [],
   "source": [
    "# Load data\n",
    "images = np.load(\"F:/Fall 2019/stat 479-ML/Project_Group_7/GITHUB/sample_1000_image.npy\")\n",
    "labels = np.load(\"F:/Fall 2019/stat 479-ML/Project_Group_7/GITHUB/sample_1000_label.npy\")\n",
    "\n",
    "# Normalize image data.  0-255 to 0-1\n",
    "images = images / 255\n",
    "df = pd.DataFrame(np.concatenate((images, labels), axis=1))\n",
    "\n",
    "# Rename the last column as \"label\"\n",
    "df.rename(columns={784:\"label\"}, inplace=True)\n",
    "\n",
    "# Convert label column to integer type\n",
    "df['label'] = df['label'].astype('int64')"
   ]
  },
  {
   "cell_type": "code",
   "execution_count": 3,
   "metadata": {},
   "outputs": [],
   "source": [
    "all_=np.load(\"F:/Fall 2019/stat 479-ML/Project_Group_7/GITHUB/sample_1000.npy\",allow_pickle=True)"
   ]
  },
  {
   "cell_type": "code",
   "execution_count": 4,
   "metadata": {},
   "outputs": [
    {
     "name": "stdout",
     "output_type": "stream",
     "text": [
      "(276000, 784)\n",
      "(276000,)\n",
      "(69000, 784)\n"
     ]
    }
   ],
   "source": [
    "img = df.iloc[:, 0:-1]\n",
    "lbl = df['label']\n",
    "\n",
    "#Split dataset\n",
    "x_train1, x_test, y_train1, y_test = train_test_split(img, lbl, test_size = 0.20, random_state = 123, stratify = lbl)\n",
    "print(x_train1.shape)\n",
    "print(y_train1.shape)\n",
    "print(x_test.shape)"
   ]
  },
  {
   "cell_type": "code",
   "execution_count": 5,
   "metadata": {},
   "outputs": [],
   "source": [
    "#Convert dataframe to tensor\n",
    "x_train1 = torch.tensor(x_train1.values)\n",
    "y_train1 = torch.tensor(y_train1.values)\n",
    "\n",
    "x_test = torch.tensor(x_test.values)\n",
    "y_test = torch.tensor(y_test.values)"
   ]
  },
  {
   "cell_type": "code",
   "execution_count": 6,
   "metadata": {},
   "outputs": [],
   "source": [
    "#Create dataloaders\n",
    "train_dataset = TensorDataset(x_train1, y_train1)\n",
    "test_dataset = TensorDataset(x_test, y_test)\n",
    "\n",
    "train_loader = DataLoader(dataset=train_dataset, \n",
    "                          batch_size=batch_size, \n",
    "                          shuffle=True)\n",
    "\n",
    "test_loader = DataLoader(dataset=test_dataset, \n",
    "                         batch_size=batch_size, \n",
    "                         shuffle=False)"
   ]
  },
  {
   "cell_type": "code",
   "execution_count": 7,
   "metadata": {},
   "outputs": [
    {
     "name": "stdout",
     "output_type": "stream",
     "text": [
      "Image batch dimensions: torch.Size([256, 784])\n",
      "Image label dimensions: torch.Size([256])\n"
     ]
    }
   ],
   "source": [
    "# Checking the dataset\n",
    "for images, labels in train_loader:  \n",
    "    print('Image batch dimensions:', images.shape)\n",
    "    print('Image label dimensions:', labels.shape)\n",
    "    break"
   ]
  },
  {
   "cell_type": "code",
   "execution_count": 8,
   "metadata": {
    "code_folding": []
   },
   "outputs": [],
   "source": [
    "##########################\n",
    "### MODEL\n",
    "##########################\n",
    "\n",
    "class Autoencoder(torch.nn.Module):\n",
    "\n",
    "    def __init__(self, num_features):\n",
    "        super(Autoencoder, self).__init__()\n",
    "        \n",
    "        ### ENCODER\n",
    "        \n",
    "        self.linear_1 = torch.nn.Linear(num_features, num_hidden_1)\n",
    "        # The following to lones are not necessary, \n",
    "        # but used here to demonstrate how to access the weights\n",
    "        # and use a different weight initialization.\n",
    "        # By default, PyTorch uses Xavier/Glorot initialization, which\n",
    "        # should usually be preferred.\n",
    "        self.linear_1.weight.detach().normal_(0.0, 0.1)\n",
    "        self.linear_1.bias.detach().zero_()\n",
    "        \n",
    "        ### DECODER\n",
    "        self.linear_2 = torch.nn.Linear(num_hidden_1, num_features)\n",
    "        self.linear_1.weight.detach().normal_(0.0, 0.1)\n",
    "        self.linear_1.bias.detach().zero_()\n",
    "        \n",
    "    def encoder(self, x):\n",
    "        encoded = self.linear_1(x)\n",
    "        encoded = F.leaky_relu(encoded)\n",
    "        return encoded\n",
    "    \n",
    "    def decoder(self, encoded_x):\n",
    "        logits = self.linear_2(encoded_x)\n",
    "        decoded = torch.sigmoid(logits)\n",
    "        return decoded\n",
    "        \n",
    "\n",
    "    def forward(self, x):\n",
    "        ### ENCODER\n",
    "        encoded = self.encoder(x)\n",
    "        \n",
    "        ### DECODER\n",
    "        decoded = self.decoder(encoded)\n",
    "        \n",
    "        return decoded\n",
    "\n",
    "    \n",
    "torch.manual_seed(random_seed)\n",
    "model = Autoencoder(num_features=num_features)\n",
    "model = model.to(device)\n",
    "\n",
    "optimizer = torch.optim.Adam(model.parameters(), lr=learning_rate)"
   ]
  },
  {
   "cell_type": "code",
   "execution_count": 9,
   "metadata": {
    "code_folding": []
   },
   "outputs": [
    {
     "name": "stdout",
     "output_type": "stream",
     "text": [
      "Epoch: 001/005 | Batch 000/1079 | Cost: 0.7171\n",
      "Epoch: 001/005 | Batch 050/1079 | Cost: 0.2902\n",
      "Epoch: 001/005 | Batch 100/1079 | Cost: 0.2329\n",
      "Epoch: 001/005 | Batch 150/1079 | Cost: 0.2116\n",
      "Epoch: 001/005 | Batch 200/1079 | Cost: 0.1945\n",
      "Epoch: 001/005 | Batch 250/1079 | Cost: 0.1873\n",
      "Epoch: 001/005 | Batch 300/1079 | Cost: 0.1768\n",
      "Epoch: 001/005 | Batch 350/1079 | Cost: 0.1778\n",
      "Epoch: 001/005 | Batch 400/1079 | Cost: 0.1728\n",
      "Epoch: 001/005 | Batch 450/1079 | Cost: 0.1703\n",
      "Epoch: 001/005 | Batch 500/1079 | Cost: 0.1653\n",
      "Epoch: 001/005 | Batch 550/1079 | Cost: 0.1638\n",
      "Epoch: 001/005 | Batch 600/1079 | Cost: 0.1614\n",
      "Epoch: 001/005 | Batch 650/1079 | Cost: 0.1635\n",
      "Epoch: 001/005 | Batch 700/1079 | Cost: 0.1662\n",
      "Epoch: 001/005 | Batch 750/1079 | Cost: 0.1667\n",
      "Epoch: 001/005 | Batch 800/1079 | Cost: 0.1639\n",
      "Epoch: 001/005 | Batch 850/1079 | Cost: 0.1601\n",
      "Epoch: 001/005 | Batch 900/1079 | Cost: 0.1573\n",
      "Epoch: 001/005 | Batch 950/1079 | Cost: 0.1596\n",
      "Epoch: 001/005 | Batch 1000/1079 | Cost: 0.1660\n",
      "Epoch: 001/005 | Batch 1050/1079 | Cost: 0.1557\n",
      "Time elapsed: 0.57 min\n",
      "Epoch: 002/005 | Batch 000/1079 | Cost: 0.1634\n",
      "Epoch: 002/005 | Batch 050/1079 | Cost: 0.1574\n",
      "Epoch: 002/005 | Batch 100/1079 | Cost: 0.1637\n",
      "Epoch: 002/005 | Batch 150/1079 | Cost: 0.1575\n",
      "Epoch: 002/005 | Batch 200/1079 | Cost: 0.1572\n",
      "Epoch: 002/005 | Batch 250/1079 | Cost: 0.1573\n",
      "Epoch: 002/005 | Batch 300/1079 | Cost: 0.1593\n",
      "Epoch: 002/005 | Batch 350/1079 | Cost: 0.1628\n",
      "Epoch: 002/005 | Batch 400/1079 | Cost: 0.1554\n",
      "Epoch: 002/005 | Batch 450/1079 | Cost: 0.1612\n",
      "Epoch: 002/005 | Batch 500/1079 | Cost: 0.1561\n",
      "Epoch: 002/005 | Batch 550/1079 | Cost: 0.1534\n",
      "Epoch: 002/005 | Batch 600/1079 | Cost: 0.1583\n",
      "Epoch: 002/005 | Batch 650/1079 | Cost: 0.1566\n",
      "Epoch: 002/005 | Batch 700/1079 | Cost: 0.1581\n",
      "Epoch: 002/005 | Batch 750/1079 | Cost: 0.1546\n",
      "Epoch: 002/005 | Batch 800/1079 | Cost: 0.1524\n",
      "Epoch: 002/005 | Batch 850/1079 | Cost: 0.1584\n",
      "Epoch: 002/005 | Batch 900/1079 | Cost: 0.1573\n",
      "Epoch: 002/005 | Batch 950/1079 | Cost: 0.1580\n",
      "Epoch: 002/005 | Batch 1000/1079 | Cost: 0.1502\n",
      "Epoch: 002/005 | Batch 1050/1079 | Cost: 0.1590\n",
      "Time elapsed: 1.14 min\n",
      "Epoch: 003/005 | Batch 000/1079 | Cost: 0.1536\n",
      "Epoch: 003/005 | Batch 050/1079 | Cost: 0.1597\n",
      "Epoch: 003/005 | Batch 100/1079 | Cost: 0.1541\n",
      "Epoch: 003/005 | Batch 150/1079 | Cost: 0.1596\n",
      "Epoch: 003/005 | Batch 200/1079 | Cost: 0.1545\n",
      "Epoch: 003/005 | Batch 250/1079 | Cost: 0.1509\n",
      "Epoch: 003/005 | Batch 300/1079 | Cost: 0.1566\n",
      "Epoch: 003/005 | Batch 350/1079 | Cost: 0.1488\n",
      "Epoch: 003/005 | Batch 400/1079 | Cost: 0.1557\n",
      "Epoch: 003/005 | Batch 450/1079 | Cost: 0.1654\n",
      "Epoch: 003/005 | Batch 500/1079 | Cost: 0.1607\n",
      "Epoch: 003/005 | Batch 550/1079 | Cost: 0.1533\n",
      "Epoch: 003/005 | Batch 600/1079 | Cost: 0.1587\n",
      "Epoch: 003/005 | Batch 650/1079 | Cost: 0.1561\n",
      "Epoch: 003/005 | Batch 700/1079 | Cost: 0.1564\n",
      "Epoch: 003/005 | Batch 750/1079 | Cost: 0.1564\n",
      "Epoch: 003/005 | Batch 800/1079 | Cost: 0.1537\n",
      "Epoch: 003/005 | Batch 850/1079 | Cost: 0.1523\n",
      "Epoch: 003/005 | Batch 900/1079 | Cost: 0.1552\n",
      "Epoch: 003/005 | Batch 950/1079 | Cost: 0.1630\n",
      "Epoch: 003/005 | Batch 1000/1079 | Cost: 0.1515\n",
      "Epoch: 003/005 | Batch 1050/1079 | Cost: 0.1547\n",
      "Time elapsed: 1.70 min\n",
      "Epoch: 004/005 | Batch 000/1079 | Cost: 0.1613\n",
      "Epoch: 004/005 | Batch 050/1079 | Cost: 0.1569\n",
      "Epoch: 004/005 | Batch 100/1079 | Cost: 0.1514\n",
      "Epoch: 004/005 | Batch 150/1079 | Cost: 0.1507\n",
      "Epoch: 004/005 | Batch 200/1079 | Cost: 0.1523\n",
      "Epoch: 004/005 | Batch 250/1079 | Cost: 0.1566\n",
      "Epoch: 004/005 | Batch 300/1079 | Cost: 0.1542\n",
      "Epoch: 004/005 | Batch 350/1079 | Cost: 0.1552\n",
      "Epoch: 004/005 | Batch 400/1079 | Cost: 0.1500\n",
      "Epoch: 004/005 | Batch 450/1079 | Cost: 0.1536\n",
      "Epoch: 004/005 | Batch 500/1079 | Cost: 0.1556\n",
      "Epoch: 004/005 | Batch 550/1079 | Cost: 0.1532\n",
      "Epoch: 004/005 | Batch 600/1079 | Cost: 0.1541\n",
      "Epoch: 004/005 | Batch 650/1079 | Cost: 0.1590\n",
      "Epoch: 004/005 | Batch 700/1079 | Cost: 0.1593\n",
      "Epoch: 004/005 | Batch 750/1079 | Cost: 0.1478\n",
      "Epoch: 004/005 | Batch 800/1079 | Cost: 0.1518\n",
      "Epoch: 004/005 | Batch 850/1079 | Cost: 0.1582\n",
      "Epoch: 004/005 | Batch 900/1079 | Cost: 0.1507\n",
      "Epoch: 004/005 | Batch 950/1079 | Cost: 0.1573\n",
      "Epoch: 004/005 | Batch 1000/1079 | Cost: 0.1458\n",
      "Epoch: 004/005 | Batch 1050/1079 | Cost: 0.1591\n",
      "Time elapsed: 2.25 min\n",
      "Epoch: 005/005 | Batch 000/1079 | Cost: 0.1566\n",
      "Epoch: 005/005 | Batch 050/1079 | Cost: 0.1539\n",
      "Epoch: 005/005 | Batch 100/1079 | Cost: 0.1556\n",
      "Epoch: 005/005 | Batch 150/1079 | Cost: 0.1475\n",
      "Epoch: 005/005 | Batch 200/1079 | Cost: 0.1552\n",
      "Epoch: 005/005 | Batch 250/1079 | Cost: 0.1512\n",
      "Epoch: 005/005 | Batch 300/1079 | Cost: 0.1552\n",
      "Epoch: 005/005 | Batch 350/1079 | Cost: 0.1583\n",
      "Epoch: 005/005 | Batch 400/1079 | Cost: 0.1551\n",
      "Epoch: 005/005 | Batch 450/1079 | Cost: 0.1592\n",
      "Epoch: 005/005 | Batch 500/1079 | Cost: 0.1559\n",
      "Epoch: 005/005 | Batch 550/1079 | Cost: 0.1551\n",
      "Epoch: 005/005 | Batch 600/1079 | Cost: 0.1530\n",
      "Epoch: 005/005 | Batch 650/1079 | Cost: 0.1496\n",
      "Epoch: 005/005 | Batch 700/1079 | Cost: 0.1517\n",
      "Epoch: 005/005 | Batch 750/1079 | Cost: 0.1561\n",
      "Epoch: 005/005 | Batch 800/1079 | Cost: 0.1542\n",
      "Epoch: 005/005 | Batch 850/1079 | Cost: 0.1600\n",
      "Epoch: 005/005 | Batch 900/1079 | Cost: 0.1568\n",
      "Epoch: 005/005 | Batch 950/1079 | Cost: 0.1531\n",
      "Epoch: 005/005 | Batch 1000/1079 | Cost: 0.1567\n",
      "Epoch: 005/005 | Batch 1050/1079 | Cost: 0.1493\n",
      "Time elapsed: 2.79 min\n",
      "Total Training Time: 2.79 min\n"
     ]
    }
   ],
   "source": [
    "## Training\n",
    "start_time = time.time()\n",
    "for epoch in range(num_epochs):\n",
    "    for batch_idx, (features, targets) in enumerate(train_loader):\n",
    "        \n",
    "        # don't need labels, only the images (features)\n",
    "        features = features.view(-1, 28*28).float().to(device)\n",
    "            \n",
    "        ### FORWARD AND BACK PROP\n",
    "        decoded = model(features)\n",
    "        cost = F.binary_cross_entropy(decoded, features)\n",
    "        optimizer.zero_grad()\n",
    "        \n",
    "        cost.backward()\n",
    "        \n",
    "        ### UPDATE MODEL PARAMETERS\n",
    "        optimizer.step()\n",
    "        \n",
    "        ### LOGGING\n",
    "        if not batch_idx % 50:\n",
    "            print ('Epoch: %03d/%03d | Batch %03d/%03d | Cost: %.4f' \n",
    "                   %(epoch+1, num_epochs, batch_idx, \n",
    "                     len(train_loader), cost))\n",
    "            \n",
    "    print('Time elapsed: %.2f min' % ((time.time() - start_time)/60))\n",
    "    \n",
    "print('Total Training Time: %.2f min' % ((time.time() - start_time)/60))"
   ]
  },
  {
   "cell_type": "code",
   "execution_count": 10,
   "metadata": {},
   "outputs": [
    {
     "name": "stdout",
     "output_type": "stream",
     "text": [
      "Image batch dimensions: torch.Size([15, 784])\n",
      "Image label dimensions: torch.Size([15])\n",
      "Image batch dimensions: torch.Size([15, 784])\n",
      "Image label dimensions: torch.Size([15])\n"
     ]
    },
    {
     "data": {
      "image/png": "[encoded data removed]",
      "text/plain": [
       "<Figure size 1440x180 with 30 Axes>"
      ]
     },
     "metadata": {
      "needs_background": "light"
     },
     "output_type": "display_data"
    },
    {
     "data": {
      "image/png": "[encoded data removed]",
      "text/plain": [
       "<Figure size 1440x180 with 30 Axes>"
      ]
     },
     "metadata": {
      "needs_background": "light"
     },
     "output_type": "display_data"
    }
   ],
   "source": [
    "#Evaluation\n",
    "%matplotlib inline\n",
    "import matplotlib.pyplot as plt\n",
    "\n",
    "##########################\n",
    "### VISUALIZATION\n",
    "##########################\n",
    "\n",
    "\n",
    "train_loader = DataLoader(dataset=train_dataset, \n",
    "                          batch_size=15, \n",
    "                          shuffle=True)\n",
    "\n",
    "# Checking the dataset\n",
    "for images, labels in train_loader:  \n",
    "    print('Image batch dimensions:', images.shape)\n",
    "    print('Image label dimensions:', labels.shape)\n",
    "    break\n",
    "    \n",
    "# =============================================================\n",
    "\n",
    "n_images = 15\n",
    "image_width = 28\n",
    "\n",
    "fig, axes = plt.subplots(nrows=2, ncols=n_images, \n",
    "                         sharex=True, sharey=True, figsize=(20, 2.5))\n",
    "orig_images = features[:n_images]\n",
    "decoded_images = decoded[:n_images]\n",
    "\n",
    "for i in range(n_images):\n",
    "    for ax, img in zip(axes, [orig_images, decoded_images]):\n",
    "        curr_img = img[i].detach().to(torch.device('cpu'))\n",
    "        ax[i].imshow(curr_img.view((image_width, image_width)), cmap='binary')\n",
    "        \n",
    "test_loader = DataLoader(dataset=test_dataset, \n",
    "                         batch_size=15, \n",
    "                         shuffle=True)\n",
    "\n",
    "# Checking the dataset\n",
    "for images, labels in test_loader:  \n",
    "    print('Image batch dimensions:', images.shape)\n",
    "    print('Image label dimensions:', labels.shape)\n",
    "    break\n",
    "    \n",
    "# =============================================================\n",
    "\n",
    "n_images = 15\n",
    "image_width = 28\n",
    "\n",
    "fig, axes = plt.subplots(nrows=2, ncols=n_images, \n",
    "                         sharex=True, sharey=True, figsize=(20, 2.5))\n",
    "orig_images = features[:n_images]\n",
    "decoded_images = decoded[:n_images]\n",
    "\n",
    "for i in range(n_images):\n",
    "    for ax, img in zip(axes, [orig_images, decoded_images]):\n",
    "        curr_img = img[i].detach().to(torch.device('cpu'))\n",
    "        ax[i].imshow(curr_img.view((image_width, image_width)), cmap='binary')\n"
   ]
  },
  {
   "cell_type": "code",
   "execution_count": 11,
   "metadata": {},
   "outputs": [],
   "source": [
    "from sklearn.ensemble import RandomForestClassifier\n",
    "\n",
    "\n",
    "train_loader = DataLoader(dataset=train_dataset, \n",
    "                          batch_size=60000, \n",
    "                          shuffle=True)\n",
    "\n",
    "test_loader = DataLoader(dataset=test_dataset, \n",
    "                          batch_size=10000, \n",
    "                          shuffle=False)"
   ]
  },
  {
   "cell_type": "code",
   "execution_count": 12,
   "metadata": {},
   "outputs": [
    {
     "ename": "RuntimeError",
     "evalue": "Expected object of scalar type Float but got scalar type Double for argument #2 'mat1' in call to _th_addmm",
     "output_type": "error",
     "traceback": [
      "\u001b[1;31m---------------------------------------------------------------------------\u001b[0m",
      "\u001b[1;31mRuntimeError\u001b[0m                              Traceback (most recent call last)",
      "\u001b[1;32m<ipython-input-12-7c42722d7fd4>\u001b[0m in \u001b[0;36m<module>\u001b[1;34m\u001b[0m\n\u001b[0;32m      6\u001b[0m \u001b[1;32mfor\u001b[0m \u001b[0midx\u001b[0m\u001b[1;33m,\u001b[0m \u001b[1;33m(\u001b[0m\u001b[0mimages\u001b[0m\u001b[1;33m,\u001b[0m \u001b[0mlabels\u001b[0m\u001b[1;33m)\u001b[0m \u001b[1;32min\u001b[0m \u001b[0menumerate\u001b[0m\u001b[1;33m(\u001b[0m\u001b[0mtrain_loader\u001b[0m\u001b[1;33m)\u001b[0m\u001b[1;33m:\u001b[0m\u001b[1;33m\u001b[0m\u001b[1;33m\u001b[0m\u001b[0m\n\u001b[0;32m      7\u001b[0m     \u001b[0mfeatures\u001b[0m \u001b[1;33m=\u001b[0m \u001b[0mimages\u001b[0m\u001b[1;33m.\u001b[0m\u001b[0mview\u001b[0m\u001b[1;33m(\u001b[0m\u001b[1;33m-\u001b[0m\u001b[1;36m1\u001b[0m\u001b[1;33m,\u001b[0m \u001b[1;36m28\u001b[0m\u001b[1;33m*\u001b[0m\u001b[1;36m28\u001b[0m\u001b[1;33m)\u001b[0m\u001b[1;33m.\u001b[0m\u001b[0mto\u001b[0m\u001b[1;33m(\u001b[0m\u001b[0mdevice\u001b[0m\u001b[1;33m)\u001b[0m\u001b[1;33m\u001b[0m\u001b[1;33m\u001b[0m\u001b[0m\n\u001b[1;32m----> 8\u001b[1;33m     \u001b[0mencoded\u001b[0m \u001b[1;33m=\u001b[0m \u001b[0mmodel\u001b[0m\u001b[1;33m.\u001b[0m\u001b[0mencoder\u001b[0m\u001b[1;33m(\u001b[0m\u001b[0mfeatures\u001b[0m\u001b[1;33m)\u001b[0m\u001b[1;33m\u001b[0m\u001b[1;33m\u001b[0m\u001b[0m\n\u001b[0m\u001b[0;32m      9\u001b[0m     \u001b[0mX_train_compr\u001b[0m\u001b[1;33m[\u001b[0m\u001b[0mstart_idx\u001b[0m\u001b[1;33m:\u001b[0m\u001b[0mstart_idx\u001b[0m\u001b[1;33m+\u001b[0m\u001b[1;36m1000\u001b[0m\u001b[1;33m]\u001b[0m \u001b[1;33m=\u001b[0m \u001b[0mencoded\u001b[0m\u001b[1;33m.\u001b[0m\u001b[0mto\u001b[0m\u001b[1;33m(\u001b[0m\u001b[0mtorch\u001b[0m\u001b[1;33m.\u001b[0m\u001b[0mdevice\u001b[0m\u001b[1;33m(\u001b[0m\u001b[1;34m'cpu'\u001b[0m\u001b[1;33m)\u001b[0m\u001b[1;33m)\u001b[0m\u001b[1;33m.\u001b[0m\u001b[0mdetach\u001b[0m\u001b[1;33m(\u001b[0m\u001b[1;33m)\u001b[0m\u001b[1;33m.\u001b[0m\u001b[0mnumpy\u001b[0m\u001b[1;33m(\u001b[0m\u001b[1;33m)\u001b[0m\u001b[1;33m\u001b[0m\u001b[1;33m\u001b[0m\u001b[0m\n\u001b[0;32m     10\u001b[0m     \u001b[0my_train\u001b[0m\u001b[1;33m[\u001b[0m\u001b[0mstart_idx\u001b[0m\u001b[1;33m:\u001b[0m\u001b[0mstart_idx\u001b[0m\u001b[1;33m+\u001b[0m\u001b[1;36m1000\u001b[0m\u001b[1;33m]\u001b[0m \u001b[1;33m=\u001b[0m \u001b[0mlabels\u001b[0m\u001b[1;33m\u001b[0m\u001b[1;33m\u001b[0m\u001b[0m\n",
      "\u001b[1;32m<ipython-input-8-585e593867aa>\u001b[0m in \u001b[0;36mencoder\u001b[1;34m(self, x)\u001b[0m\n\u001b[0;32m     25\u001b[0m \u001b[1;33m\u001b[0m\u001b[0m\n\u001b[0;32m     26\u001b[0m     \u001b[1;32mdef\u001b[0m \u001b[0mencoder\u001b[0m\u001b[1;33m(\u001b[0m\u001b[0mself\u001b[0m\u001b[1;33m,\u001b[0m \u001b[0mx\u001b[0m\u001b[1;33m)\u001b[0m\u001b[1;33m:\u001b[0m\u001b[1;33m\u001b[0m\u001b[1;33m\u001b[0m\u001b[0m\n\u001b[1;32m---> 27\u001b[1;33m         \u001b[0mencoded\u001b[0m \u001b[1;33m=\u001b[0m \u001b[0mself\u001b[0m\u001b[1;33m.\u001b[0m\u001b[0mlinear_1\u001b[0m\u001b[1;33m(\u001b[0m\u001b[0mx\u001b[0m\u001b[1;33m)\u001b[0m\u001b[1;33m\u001b[0m\u001b[1;33m\u001b[0m\u001b[0m\n\u001b[0m\u001b[0;32m     28\u001b[0m         \u001b[0mencoded\u001b[0m \u001b[1;33m=\u001b[0m \u001b[0mF\u001b[0m\u001b[1;33m.\u001b[0m\u001b[0mleaky_relu\u001b[0m\u001b[1;33m(\u001b[0m\u001b[0mencoded\u001b[0m\u001b[1;33m)\u001b[0m\u001b[1;33m\u001b[0m\u001b[1;33m\u001b[0m\u001b[0m\n\u001b[0;32m     29\u001b[0m         \u001b[1;32mreturn\u001b[0m \u001b[0mencoded\u001b[0m\u001b[1;33m\u001b[0m\u001b[1;33m\u001b[0m\u001b[0m\n",
      "\u001b[1;32m~\\AppData\\Local\\Continuum\\anaconda3\\lib\\site-packages\\torch\\nn\\modules\\module.py\u001b[0m in \u001b[0;36m__call__\u001b[1;34m(self, *input, **kwargs)\u001b[0m\n\u001b[0;32m    539\u001b[0m             \u001b[0mresult\u001b[0m \u001b[1;33m=\u001b[0m \u001b[0mself\u001b[0m\u001b[1;33m.\u001b[0m\u001b[0m_slow_forward\u001b[0m\u001b[1;33m(\u001b[0m\u001b[1;33m*\u001b[0m\u001b[0minput\u001b[0m\u001b[1;33m,\u001b[0m \u001b[1;33m**\u001b[0m\u001b[0mkwargs\u001b[0m\u001b[1;33m)\u001b[0m\u001b[1;33m\u001b[0m\u001b[1;33m\u001b[0m\u001b[0m\n\u001b[0;32m    540\u001b[0m         \u001b[1;32melse\u001b[0m\u001b[1;33m:\u001b[0m\u001b[1;33m\u001b[0m\u001b[1;33m\u001b[0m\u001b[0m\n\u001b[1;32m--> 541\u001b[1;33m             \u001b[0mresult\u001b[0m \u001b[1;33m=\u001b[0m \u001b[0mself\u001b[0m\u001b[1;33m.\u001b[0m\u001b[0mforward\u001b[0m\u001b[1;33m(\u001b[0m\u001b[1;33m*\u001b[0m\u001b[0minput\u001b[0m\u001b[1;33m,\u001b[0m \u001b[1;33m**\u001b[0m\u001b[0mkwargs\u001b[0m\u001b[1;33m)\u001b[0m\u001b[1;33m\u001b[0m\u001b[1;33m\u001b[0m\u001b[0m\n\u001b[0m\u001b[0;32m    542\u001b[0m         \u001b[1;32mfor\u001b[0m \u001b[0mhook\u001b[0m \u001b[1;32min\u001b[0m \u001b[0mself\u001b[0m\u001b[1;33m.\u001b[0m\u001b[0m_forward_hooks\u001b[0m\u001b[1;33m.\u001b[0m\u001b[0mvalues\u001b[0m\u001b[1;33m(\u001b[0m\u001b[1;33m)\u001b[0m\u001b[1;33m:\u001b[0m\u001b[1;33m\u001b[0m\u001b[1;33m\u001b[0m\u001b[0m\n\u001b[0;32m    543\u001b[0m             \u001b[0mhook_result\u001b[0m \u001b[1;33m=\u001b[0m \u001b[0mhook\u001b[0m\u001b[1;33m(\u001b[0m\u001b[0mself\u001b[0m\u001b[1;33m,\u001b[0m \u001b[0minput\u001b[0m\u001b[1;33m,\u001b[0m \u001b[0mresult\u001b[0m\u001b[1;33m)\u001b[0m\u001b[1;33m\u001b[0m\u001b[1;33m\u001b[0m\u001b[0m\n",
      "\u001b[1;32m~\\AppData\\Local\\Continuum\\anaconda3\\lib\\site-packages\\torch\\nn\\modules\\linear.py\u001b[0m in \u001b[0;36mforward\u001b[1;34m(self, input)\u001b[0m\n\u001b[0;32m     85\u001b[0m \u001b[1;33m\u001b[0m\u001b[0m\n\u001b[0;32m     86\u001b[0m     \u001b[1;32mdef\u001b[0m \u001b[0mforward\u001b[0m\u001b[1;33m(\u001b[0m\u001b[0mself\u001b[0m\u001b[1;33m,\u001b[0m \u001b[0minput\u001b[0m\u001b[1;33m)\u001b[0m\u001b[1;33m:\u001b[0m\u001b[1;33m\u001b[0m\u001b[1;33m\u001b[0m\u001b[0m\n\u001b[1;32m---> 87\u001b[1;33m         \u001b[1;32mreturn\u001b[0m \u001b[0mF\u001b[0m\u001b[1;33m.\u001b[0m\u001b[0mlinear\u001b[0m\u001b[1;33m(\u001b[0m\u001b[0minput\u001b[0m\u001b[1;33m,\u001b[0m \u001b[0mself\u001b[0m\u001b[1;33m.\u001b[0m\u001b[0mweight\u001b[0m\u001b[1;33m,\u001b[0m \u001b[0mself\u001b[0m\u001b[1;33m.\u001b[0m\u001b[0mbias\u001b[0m\u001b[1;33m)\u001b[0m\u001b[1;33m\u001b[0m\u001b[1;33m\u001b[0m\u001b[0m\n\u001b[0m\u001b[0;32m     88\u001b[0m \u001b[1;33m\u001b[0m\u001b[0m\n\u001b[0;32m     89\u001b[0m     \u001b[1;32mdef\u001b[0m \u001b[0mextra_repr\u001b[0m\u001b[1;33m(\u001b[0m\u001b[0mself\u001b[0m\u001b[1;33m)\u001b[0m\u001b[1;33m:\u001b[0m\u001b[1;33m\u001b[0m\u001b[1;33m\u001b[0m\u001b[0m\n",
      "\u001b[1;32m~\\AppData\\Local\\Continuum\\anaconda3\\lib\\site-packages\\torch\\nn\\functional.py\u001b[0m in \u001b[0;36mlinear\u001b[1;34m(input, weight, bias)\u001b[0m\n\u001b[0;32m   1368\u001b[0m     \u001b[1;32mif\u001b[0m \u001b[0minput\u001b[0m\u001b[1;33m.\u001b[0m\u001b[0mdim\u001b[0m\u001b[1;33m(\u001b[0m\u001b[1;33m)\u001b[0m \u001b[1;33m==\u001b[0m \u001b[1;36m2\u001b[0m \u001b[1;32mand\u001b[0m \u001b[0mbias\u001b[0m \u001b[1;32mis\u001b[0m \u001b[1;32mnot\u001b[0m \u001b[1;32mNone\u001b[0m\u001b[1;33m:\u001b[0m\u001b[1;33m\u001b[0m\u001b[1;33m\u001b[0m\u001b[0m\n\u001b[0;32m   1369\u001b[0m         \u001b[1;31m# fused op is marginally faster\u001b[0m\u001b[1;33m\u001b[0m\u001b[1;33m\u001b[0m\u001b[1;33m\u001b[0m\u001b[0m\n\u001b[1;32m-> 1370\u001b[1;33m         \u001b[0mret\u001b[0m \u001b[1;33m=\u001b[0m \u001b[0mtorch\u001b[0m\u001b[1;33m.\u001b[0m\u001b[0maddmm\u001b[0m\u001b[1;33m(\u001b[0m\u001b[0mbias\u001b[0m\u001b[1;33m,\u001b[0m \u001b[0minput\u001b[0m\u001b[1;33m,\u001b[0m \u001b[0mweight\u001b[0m\u001b[1;33m.\u001b[0m\u001b[0mt\u001b[0m\u001b[1;33m(\u001b[0m\u001b[1;33m)\u001b[0m\u001b[1;33m)\u001b[0m\u001b[1;33m\u001b[0m\u001b[1;33m\u001b[0m\u001b[0m\n\u001b[0m\u001b[0;32m   1371\u001b[0m     \u001b[1;32melse\u001b[0m\u001b[1;33m:\u001b[0m\u001b[1;33m\u001b[0m\u001b[1;33m\u001b[0m\u001b[0m\n\u001b[0;32m   1372\u001b[0m         \u001b[0moutput\u001b[0m \u001b[1;33m=\u001b[0m \u001b[0minput\u001b[0m\u001b[1;33m.\u001b[0m\u001b[0mmatmul\u001b[0m\u001b[1;33m(\u001b[0m\u001b[0mweight\u001b[0m\u001b[1;33m.\u001b[0m\u001b[0mt\u001b[0m\u001b[1;33m(\u001b[0m\u001b[1;33m)\u001b[0m\u001b[1;33m)\u001b[0m\u001b[1;33m\u001b[0m\u001b[1;33m\u001b[0m\u001b[0m\n",
      "\u001b[1;31mRuntimeError\u001b[0m: Expected object of scalar type Float but got scalar type Double for argument #2 'mat1' in call to _th_addmm"
     ]
    }
   ],
   "source": [
    "X_train_compr = np.ones((60000, num_hidden_1))\n",
    "y_train = np.ones(60000)\n",
    "\n",
    "start_idx = 0\n",
    "\n",
    "for idx, (images, labels) in enumerate(train_loader): \n",
    "    features = images.view(-1, 28*28).to(device)\n",
    "    encoded = model.encoder(features)\n",
    "    X_train_compr[start_idx:start_idx+1000] = encoded.to(torch.device('cpu')).detach().numpy()\n",
    "    y_train[start_idx:start_idx+1000] = labels\n",
    "    start_idx += 1000"
   ]
  },
  {
   "cell_type": "code",
   "execution_count": null,
   "metadata": {},
   "outputs": [],
   "source": [
    "X_test_compr = np.ones((10000, num_hidden_1))\n",
    "y_test = np.ones(10000)\n",
    "\n",
    "start_idx = 0\n",
    "\n",
    "for idx, (images, labels) in enumerate(test_loader): \n",
    "    features = images.view(-1, 28*28).to(device)\n",
    "    encoded = model.encoder(features)\n",
    "    X_test_compr[start_idx:start_idx+1000] = encoded.to(torch.device('cpu')).detach().numpy()\n",
    "    y_test[start_idx:start_idx+1000] = labels\n",
    "    start_idx += 1000"
   ]
  },
  {
   "cell_type": "markdown",
   "metadata": {},
   "source": [
    "#### K means"
   ]
  },
  {
   "cell_type": "code",
   "execution_count": 40,
   "metadata": {},
   "outputs": [],
   "source": [
    "from sklearn.cluster import MiniBatchKMeans\n",
    "from sklearn.cluster import KMeans\n",
    "import time\n",
    "import pandas as pd\n",
    "from collections import Counter\n",
    "import ast"
   ]
  },
  {
   "cell_type": "code",
   "execution_count": 13,
   "metadata": {},
   "outputs": [],
   "source": [
    "#Load data as input \n",
    "train_loader = DataLoader(dataset=train_dataset, \n",
    "                          batch_size=276000, \n",
    "                          shuffle=True)\n",
    "\n",
    "test_loader = DataLoader(dataset=test_dataset, \n",
    "                          batch_size=69000, \n",
    "                          shuffle=False)"
   ]
  },
  {
   "cell_type": "code",
   "execution_count": 14,
   "metadata": {},
   "outputs": [
    {
     "name": "stdout",
     "output_type": "stream",
     "text": [
      "Image batch dimensions: torch.Size([276000, 784])\n",
      "Image label dimensions: torch.Size([276000])\n",
      "Image batch dimensions: torch.Size([69000, 784])\n",
      "Image label dimensions: torch.Size([69000])\n"
     ]
    }
   ],
   "source": [
    "for images, labels in train_loader:  \n",
    "    print('Image batch dimensions:', images.shape)\n",
    "    print('Image label dimensions:', labels.shape)\n",
    "    break\n",
    "\n",
    "X_train = np.array(images.reshape(276000, 28*28))\n",
    "y_train = np.array(labels)\n",
    "\n",
    "\n",
    "for images, labels in test_loader:  \n",
    "    print('Image batch dimensions:', images.shape)\n",
    "    print('Image label dimensions:', labels.shape)\n",
    "    break\n",
    "\n",
    "X_test = np.array(images.reshape(69000, 28*28))\n",
    "y_test = np.array(labels)"
   ]
  },
  {
   "cell_type": "code",
   "execution_count": 15,
   "metadata": {},
   "outputs": [
    {
     "name": "stdout",
     "output_type": "stream",
     "text": [
      "(345000, 784)\n",
      "(345000,)\n"
     ]
    }
   ],
   "source": [
    "#Concate to get the train and test dataset\n",
    "X = np.concatenate((X_train, X_test), axis=0)\n",
    "y = np.concatenate((y_train, y_test), axis=0)\n",
    "print(X.shape)\n",
    "print(y.shape)"
   ]
  },
  {
   "cell_type": "code",
   "execution_count": 16,
   "metadata": {},
   "outputs": [],
   "source": [
    "#Get the string categories from dictionary mapping \n",
    "label_map = open(r\"F:/Fall 2019/stat 479-ML/Project_Group_7/GITHUB/stat-479-project/DataPrep/label_map.txt\")\n",
    "label_map = ast.literal_eval(label_map.read())\n",
    "\n",
    "y = list(y.flatten())\n",
    "y = list(label_map.get(k, \"\") for k in y)"
   ]
  },
  {
   "cell_type": "code",
   "execution_count": null,
   "metadata": {},
   "outputs": [],
   "source": [
    "#Train K_means\n",
    "# prediction_ =[]\n",
    "# distortions_ = []\n",
    "# t0 = time.time()\n",
    "\n",
    "# for i in range(0, 345, 50):\n",
    "#     if i >0:\n",
    "#         print(i)\n",
    "#         km = KMeans(init='k-means++', n_clusters=i, n_init=10, max_iter=300)\n",
    "#         prediction_.append(km.fit_predict(X))\n",
    "#         distortions_.append(km.inertia_)\n",
    "    \n",
    "\n",
    "    \n",
    "# km = KMeans(init='k-means++', n_clusters=345, n_init=10, max_iter=300)\n",
    "# prediction_.append(km.fit_predict(X))\n",
    "# distortions_.append(km.inertia_)\n",
    "    \n",
    "# t_mini_batch = time.time() - t0"
   ]
  },
  {
   "cell_type": "code",
   "execution_count": null,
   "metadata": {},
   "outputs": [],
   "source": [
    "# plt.plot(range(0, 345, 30),distortions_, marker='o')\n",
    "# plt.xlabel('Number of clusters')\n",
    "# plt.ylabel('Distortion')\n",
    "# plt.show()"
   ]
  },
  {
   "cell_type": "code",
   "execution_count": 44,
   "metadata": {},
   "outputs": [
    {
     "name": "stdout",
     "output_type": "stream",
     "text": [
      "50\n",
      "100\n",
      "150\n",
      "200\n",
      "250\n",
      "300\n"
     ]
    }
   ],
   "source": [
    "#Train mini batch K_means\n",
    "prediction =[]\n",
    "distortions = []\n",
    "t0 = time.time()\n",
    "\n",
    "km = MiniBatchKMeans(init='k-means++', n_clusters=1, batch_size=10000, n_init=10, max_iter=300)\n",
    "prediction.append(km.fit_predict(X))\n",
    "distortions.append(km.inertia_)\n",
    "\n",
    "\n",
    "for i in range(0, 345, 50):\n",
    "    if i >0:\n",
    "        print(i)\n",
    "        km = MiniBatchKMeans(init='k-means++', n_clusters=i, batch_size=10000, n_init=10, max_iter=300)\n",
    "        prediction.append(km.fit_predict(X))\n",
    "        distortions.append(km.inertia_)\n",
    "    \n",
    "\n",
    "    \n",
    "km = MiniBatchKMeans(init='k-means++', n_clusters=345, batch_size=10000, n_init=10, max_iter=300)\n",
    "prediction.append(km.fit_predict(X))\n",
    "distortions.append(km.inertia_)\n",
    "    \n",
    "t_mini_batch = time.time() - t0"
   ]
  },
  {
   "cell_type": "code",
   "execution_count": 55,
   "metadata": {},
   "outputs": [
    {
     "data": {
      "image/png": "[encoded data removed]",
      "text/plain": [
       "<Figure size 432x288 with 1 Axes>"
      ]
     },
     "metadata": {
      "needs_background": "light"
     },
     "output_type": "display_data"
    }
   ],
   "source": [
    "labels = [\"1\",\"1\", \"50\", \"100\", \"150\",\"200\", \"250\", \"300\", \"345\"]\n",
    "\n",
    "fig, ax = plt.subplots()\n",
    "ax.set_xticklabels(labels)\n",
    "\n",
    "plt.plot(distortions, marker='o')\n",
    "plt.xlabel('Number of clusters')\n",
    "plt.ylabel('Distortion')\n",
    "plt.show()"
   ]
  },
  {
   "cell_type": "code",
   "execution_count": 56,
   "metadata": {},
   "outputs": [
    {
     "name": "stdout",
     "output_type": "stream",
     "text": [
      "{0, 1, 2, 3, 4, 5, 6, 7, 8, 9, 10, 11, 12, 13, 14, 15, 16, 17, 18, 19, 20, 21, 22, 23, 24, 25, 26, 27, 28, 29, 30, 31, 32, 33, 34, 35, 36, 37, 38, 39, 40, 41, 42, 43, 44, 45, 46, 47, 48, 49, 50, 51, 52, 53, 54, 55, 56, 57, 58, 59, 60, 61, 62, 63, 64, 65, 66, 67, 68, 69, 70, 71, 72, 73, 74, 75, 76, 77, 78, 79, 80, 81, 82, 83, 84, 85, 86, 87, 88, 89, 90, 91, 92, 93, 94, 95, 96, 97, 98, 99, 100, 101, 102, 103, 104, 105, 106, 107, 108, 109, 110, 111, 112, 113, 114, 115, 116, 117, 118, 119, 120, 121, 122, 123, 124, 125, 126, 127, 128, 129, 130, 131, 132, 133, 134, 135, 136, 137, 138, 139, 140, 141, 142, 143, 144, 145, 146, 147, 148, 149}\n"
     ]
    }
   ],
   "source": [
    "y_kmeans=list(prediction[3])\n",
    "y_category = np.array(y)\n",
    "clusters=set(y_kmeans)\n",
    "print(clusters) "
   ]
  },
  {
   "cell_type": "code",
   "execution_count": 57,
   "metadata": {},
   "outputs": [],
   "source": [
    "cluster_index = []\n",
    "for cluster in clusters:\n",
    "    indices = [i for i, x in enumerate(y_kmeans) if x == cluster]\n",
    "    cluster_index.append(indices)"
   ]
  },
  {
   "cell_type": "code",
   "execution_count": 58,
   "metadata": {},
   "outputs": [],
   "source": [
    "category_cluster=[]\n",
    "for index in cluster_index:\n",
    "    category_cluster.append(y_category[index]) "
   ]
  },
  {
   "cell_type": "code",
   "execution_count": 59,
   "metadata": {},
   "outputs": [
    {
     "name": "stdout",
     "output_type": "stream",
     "text": [
      "[('squirrel', 139), ('cow', 124), ('horse', 73)]\n",
      "[('cello', 96), ('flamingo', 93), ('lightning', 88)]\n",
      "[('crocodile', 83), ('canoe', 72), ('saw', 70)]\n",
      "[('skateboard', 174), ('saw', 104), ('mouth', 79)]\n",
      "[('cello', 184), ('broom', 164), ('shovel', 146)]\n",
      "[('microwave', 149), ('fireplace', 107), ('bus', 100)]\n",
      "[('wineglass', 309), ('floorlamp', 277), ('lollipop', 273)]\n",
      "[('ladder', 165), ('finger', 137), ('skyscraper', 115)]\n",
      "[('horse', 71), ('zebra', 60), ('tiger', 55)]\n",
      "[('drill', 201), ('bowtie', 110), ('castle', 87)]\n",
      "[('shoe', 134), ('crown', 107), ('rollerskates', 82)]\n",
      "[('mountain', 148), ('tent', 148), ('TheEiffelTower', 119)]\n",
      "[('sun', 281), ('sweater', 257), ('t-shirt', 227)]\n",
      "[('baseball', 114), ('wheel', 112), ('donut', 107)]\n",
      "[('apple', 199), ('compass', 114), ('blueberry', 105)]\n",
      "[('teddy-bear', 227), ('harp', 101), ('TheMonaLisa', 90)]\n",
      "[('door', 228), ('cellphone', 169), ('bucket', 159)]\n",
      "[('rain', 182), ('animalmigration', 170), ('rollercoaster', 128)]\n",
      "[('mermaid', 98), ('kangaroo', 97), ('harp', 79)]\n",
      "[('skyscraper', 153), ('remotecontrol', 125), ('ladder', 105)]\n",
      "[('shark', 184), ('pickuptruck', 121), ('submarine', 78)]\n",
      "[('belt', 170), ('canoe', 112), ('grass', 104)]\n",
      "[('stereo', 105), ('hotdog', 91), ('bus', 80)]\n",
      "[('TheEiffelTower', 323), ('scissors', 129), ('cello', 99)]\n",
      "[('pictureframe', 193), ('bracelet', 107), ('backpack', 63)]\n",
      "[('lightbulb', 267), ('mushroom', 260), ('hotairballoon', 240)]\n",
      "[('bicycle', 107), ('hamburger', 78), ('octopus', 76)]\n",
      "[('wheel', 158), ('angel', 111), ('butterfly', 107)]\n",
      "[('tennisracquet', 311), ('flower', 223), ('fan', 207)]\n",
      "[('flamingo', 122), ('hammer', 104), ('carrot', 103)]\n",
      "[('stairs', 119), ('rake', 109), ('golfclub', 104)]\n",
      "[('pineapple', 131), ('strawberry', 120), ('owl', 103)]\n",
      "[('bracelet', 98), ('basketball', 45), ('hamburger', 44)]\n",
      "[('butterfly', 151), ('mug', 86), ('bowtie', 55)]\n",
      "[('van', 182), ('ambulance', 100), ('truck', 86)]\n",
      "[('matches', 175), ('broom', 168), ('line', 164)]\n",
      "[('snowflake', 151), ('star', 124), ('angel', 73)]\n",
      "[('bicycle', 167), ('sailboat', 146), ('hat', 123)]\n",
      "[('flyingsaucer', 141), ('bicycle', 117), ('hat', 112)]\n",
      "[('beard', 142), ('toilet', 80), ('skull', 71)]\n",
      "[('suitcase', 133), ('birthdaycake', 128), ('purse', 118)]\n",
      "[('shorts', 146), ('table', 111), ('square', 94)]\n",
      "[('waterslide', 141), ('banana', 90), ('elbow', 89)]\n",
      "[('strawberry', 127), ('cactus', 64), ('penguin', 63)]\n",
      "[('bulldozer', 143), ('octopus', 140), ('sailboat', 108)]\n",
      "[('speedboat', 92), ('beach', 90), ('trombone', 84)]\n",
      "[('keyboard', 209), ('cloud', 110), ('pond', 106)]\n",
      "[('tornado', 217), ('broccoli', 172), ('fan', 157)]\n",
      "[('stairs', 245), ('bandage', 73), ('eraser', 64)]\n",
      "[('wineglass', 288), ('tree', 241), ('hotairballoon', 219)]\n",
      "[('pear', 404), ('vase', 158), ('winebottle', 153)]\n",
      "[('spider', 88), ('star', 80), ('binoculars', 68)]\n",
      "[('knee', 208), ('rain', 91), ('lightning', 84)]\n",
      "[('blackberry', 188), ('hurricane', 98), ('camouflage', 67)]\n",
      "[('bus', 170), ('schoolbus', 143), ('van', 126)]\n",
      "[('crocodile', 126), ('grass', 104), ('rifle', 92)]\n",
      "[('clock', 281), ('circle', 266), ('octagon', 241)]\n",
      "[('eye', 77), ('hedgehog', 57), ('aircraftcarrier', 48)]\n",
      "[('coffeecup', 138), ('mug', 132), ('cup', 76)]\n",
      "[('house', 222), ('apple', 191), ('birthdaycake', 124)]\n",
      "[('van', 182), ('pillow', 74), ('truck', 73)]\n",
      "[('bandage', 135), ('shark', 103), ('airplane', 88)]\n",
      "[('tennisracquet', 136), ('windmill', 114), ('palmtree', 111)]\n",
      "[('lipstick', 302), ('candle', 231), ('crayon', 141)]\n",
      "[('rifle', 316), ('dumbbell', 110), ('bridge', 73)]\n",
      "[('car', 105), ('bus', 104), ('schoolbus', 101)]\n",
      "[('toothbrush', 112), ('moustache', 100), ('beach', 87)]\n",
      "[('strawberry', 156), ('alarmclock', 101), ('face', 89)]\n",
      "[('candle', 206), ('crayon', 134), ('lipstick', 123)]\n",
      "[('square', 228), ('dishwasher', 158), ('washingmachine', 143)]\n",
      "[('line', 503), ('ocean', 401), ('dumbbell', 134)]\n",
      "[('swan', 83), ('cannon', 62), ('bandage', 60)]\n",
      "[('envelope', 111), ('couch', 105), ('table', 77)]\n",
      "[('cello', 90), ('hockeystick', 82), ('giraffe', 63)]\n",
      "[('hourglass', 217), ('door', 214), ('bucket', 135)]\n",
      "[('horse', 119), ('duck', 85), ('zebra', 77)]\n",
      "[('seesaw', 233), ('stairs', 196), ('stitches', 142)]\n",
      "[('door', 103), ('tooth', 83), ('streetlight', 71)]\n",
      "[('toaster', 187), ('suitcase', 126), ('crown', 117)]\n",
      "[('snorkel', 168), ('rollerskates', 141), ('scorpion', 91)]\n",
      "[('camouflage', 53), ('hurricane', 43), ('brain', 30)]\n",
      "[('streetlight', 211), ('axe', 131), ('knee', 102)]\n",
      "[('winebottle', 280), ('houseplant', 162), ('lipstick', 127)]\n",
      "[('golfclub', 178), ('hockeystick', 99), ('leg', 95)]\n",
      "[('TheMonaLisa', 178), ('computer', 97), ('calendar', 83)]\n",
      "[('baseballbat', 107), ('feather', 91), ('mountain', 71)]\n",
      "[('eyeglasses', 82), ('banana', 72), ('arm', 62)]\n",
      "[('headphones', 452), ('rainbow', 273), ('swingset', 244)]\n",
      "[('penguin', 142), ('paperclip', 127), ('owl', 95)]\n",
      "[('mug', 101), ('potato', 68), ('cup', 61)]\n",
      "[('zebra', 86), ('tiger', 51), ('snail', 44)]\n",
      "[('asparagus', 260), ('sword', 159), ('pencil', 153)]\n",
      "[('potato', 95), ('sock', 66), ('peanut', 53)]\n",
      "[('camouflage', 75), ('spreadsheet', 60), ('hurricane', 60)]\n",
      "[('sink', 105), ('submarine', 87), ('radio', 71)]\n",
      "[('sock', 178), ('hockeystick', 158), ('foot', 120)]\n",
      "[('wheel', 208), ('soccerball', 183), ('basketball', 162)]\n",
      "[('cloud', 164), ('pond', 103), ('bush', 95)]\n",
      "[('pineapple', 162), ('penguin', 117), ('teddy-bear', 103)]\n",
      "[('hamburger', 125), ('jacket', 84), ('snail', 65)]\n",
      "[('purse', 113), ('calculator', 108), ('pants', 104)]\n",
      "[('calendar', 138), ('spreadsheet', 128), ('brain', 95)]\n",
      "[('cruiseship', 166), ('hedgehog', 85), ('teapot', 82)]\n",
      "[('winebottle', 183), ('pineapple', 135), ('lighter', 123)]\n",
      "[('skateboard', 93), ('truck', 72), ('underwear', 72)]\n",
      "[('blackberry', 195), ('campfire', 153), ('grapes', 109)]\n",
      "[('triangle', 358), ('mountain', 194), ('tent', 151)]\n",
      "[('swan', 147), ('scorpion', 137), ('horse', 100)]\n",
      "[('hurricane', 105), ('tornado', 99), ('broccoli', 53)]\n",
      "[('policecar', 136), ('shark', 134), ('shoe', 128)]\n",
      "[('hedgehog', 105), ('brain', 97), ('camouflage', 69)]\n",
      "[('helicopter', 95), ('snail', 87), ('bulldozer', 70)]\n",
      "[('keyboard', 182), ('bowtie', 156), ('envelope', 140)]\n",
      "[('panda', 115), ('hand', 77), ('palmtree', 75)]\n",
      "[('giraffe', 134), ('flamingo', 108), ('saxophone', 87)]\n",
      "[('underwear', 147), ('palmtree', 97), ('anvil', 90)]\n",
      "[('oven', 120), ('camera', 112), ('map', 105)]\n",
      "[('icecream', 309), ('popsicle', 308), ('hotairballoon', 112)]\n",
      "[('canoe', 135), ('eyeglasses', 127), ('crab', 80)]\n",
      "[('cloud', 153), ('pillow', 97), ('bush', 86)]\n",
      "[('umbrella', 257), ('hammer', 186), ('parachute', 178)]\n",
      "[('sock', 217), ('triangle', 194), ('nose', 187)]\n",
      "[('waterslide', 91), ('saxophone', 66), ('stairs', 49)]\n",
      "[('bench', 114), ('teapot', 94), ('underwear', 89)]\n",
      "[('ceilingfan', 99), ('tiger', 91), ('cow', 67)]\n",
      "[('cannon', 100), ('megaphone', 83), ('horse', 75)]\n",
      "[('chair', 86), ('leg', 79), ('ear', 69)]\n",
      "[('guitar', 95), ('violin', 77), ('cannon', 56)]\n",
      "[('trafficlight', 195), ('carrot', 172), ('microphone', 137)]\n",
      "[('belt', 145), ('canoe', 139), ('crocodile', 93)]\n",
      "[('keyboard', 138), ('saw', 138), ('bandage', 124)]\n",
      "[('giraffe', 191), ('saxophone', 176), ('violin', 82)]\n",
      "[('hexagon', 145), ('clock', 123), ('donut', 115)]\n",
      "[('fork', 157), ('nail', 130), ('lollipop', 102)]\n",
      "[('houseplant', 196), ('windmill', 126), ('snowman', 78)]\n",
      "[('postcard', 186), ('envelope', 182), ('shorts', 173)]\n",
      "[('envelope', 198), ('postcard', 184), ('microwave', 146)]\n",
      "[('pencil', 85), ('feather', 76), ('tennisracquet', 73)]\n",
      "[('golfclub', 169), ('hockeystick', 104), ('leg', 88)]\n",
      "[('lightbulb', 232), ('popsicle', 186), ('hotairballoon', 154)]\n",
      "[('toothbrush', 141), ('dumbbell', 92), ('beach', 84)]\n",
      "[('octagon', 207), ('circle', 178), ('hexagon', 144)]\n",
      "[('t-shirt', 337), ('diamond', 260), ('mushroom', 225)]\n",
      "[('helmet', 122), ('tooth', 121), ('octagon', 108)]\n",
      "[('calculator', 207), ('poweroutlet', 135), ('passport', 116)]\n",
      "[('laptop', 170), ('beard', 167), ('octopus', 159)]\n",
      "[('spreadsheet', 70), ('brain', 61), ('hedgehog', 53)]\n",
      "[('washingmachine', 201), ('dishwasher', 98), ('square', 85)]\n",
      "[('television', 163), ('birthdaycake', 132), ('purse', 119)]\n",
      "[('rainbow', 452), ('bridge', 185), ('boomerang', 164)]\n"
     ]
    }
   ],
   "source": [
    "#Check the top 4 categories in each clusters\n",
    "for new_category in category_cluster:\n",
    "#     print(new_category)\n",
    "    c = Counter(new_category)\n",
    "    print(c.most_common(3))"
   ]
  },
  {
   "cell_type": "code",
   "execution_count": 60,
   "metadata": {},
   "outputs": [],
   "source": [
    "#Check the top 4 categories in each clusters\n",
    "top_categpry=[]\n",
    "for new_category in category_cluster:\n",
    "#     print(new_category)\n",
    "    c = Counter(new_category)\n",
    "    top_categpry.append(c.most_common(1))"
   ]
  },
  {
   "cell_type": "code",
   "execution_count": 61,
   "metadata": {},
   "outputs": [
    {
     "name": "stdout",
     "output_type": "stream",
     "text": [
      "[[('squirrel', 139)], [('cello', 96)], [('crocodile', 83)], [('skateboard', 174)], [('cello', 184)], [('microwave', 149)], [('wineglass', 309)], [('ladder', 165)], [('horse', 71)], [('drill', 201)], [('shoe', 134)], [('mountain', 148)], [('sun', 281)], [('baseball', 114)], [('apple', 199)], [('teddy-bear', 227)], [('door', 228)], [('rain', 182)], [('mermaid', 98)], [('skyscraper', 153)], [('shark', 184)], [('belt', 170)], [('stereo', 105)], [('TheEiffelTower', 323)], [('pictureframe', 193)], [('lightbulb', 267)], [('bicycle', 107)], [('wheel', 158)], [('tennisracquet', 311)], [('flamingo', 122)], [('stairs', 119)], [('pineapple', 131)], [('bracelet', 98)], [('butterfly', 151)], [('van', 182)], [('matches', 175)], [('snowflake', 151)], [('bicycle', 167)], [('flyingsaucer', 141)], [('beard', 142)], [('suitcase', 133)], [('shorts', 146)], [('waterslide', 141)], [('strawberry', 127)], [('bulldozer', 143)], [('speedboat', 92)], [('keyboard', 209)], [('tornado', 217)], [('stairs', 245)], [('wineglass', 288)], [('pear', 404)], [('spider', 88)], [('knee', 208)], [('blackberry', 188)], [('bus', 170)], [('crocodile', 126)], [('clock', 281)], [('eye', 77)], [('coffeecup', 138)], [('house', 222)], [('van', 182)], [('bandage', 135)], [('tennisracquet', 136)], [('lipstick', 302)], [('rifle', 316)], [('car', 105)], [('toothbrush', 112)], [('strawberry', 156)], [('candle', 206)], [('square', 228)], [('line', 503)], [('swan', 83)], [('envelope', 111)], [('cello', 90)], [('hourglass', 217)], [('horse', 119)], [('seesaw', 233)], [('door', 103)], [('toaster', 187)], [('snorkel', 168)], [('camouflage', 53)], [('streetlight', 211)], [('winebottle', 280)], [('golfclub', 178)], [('TheMonaLisa', 178)], [('baseballbat', 107)], [('eyeglasses', 82)], [('headphones', 452)], [('penguin', 142)], [('mug', 101)], [('zebra', 86)], [('asparagus', 260)], [('potato', 95)], [('camouflage', 75)], [('sink', 105)], [('sock', 178)], [('wheel', 208)], [('cloud', 164)], [('pineapple', 162)], [('hamburger', 125)], [('purse', 113)], [('calendar', 138)], [('cruiseship', 166)], [('winebottle', 183)], [('skateboard', 93)], [('blackberry', 195)], [('triangle', 358)], [('swan', 147)], [('hurricane', 105)], [('policecar', 136)], [('hedgehog', 105)], [('helicopter', 95)], [('keyboard', 182)], [('panda', 115)], [('giraffe', 134)], [('underwear', 147)], [('oven', 120)], [('icecream', 309)], [('canoe', 135)], [('cloud', 153)], [('umbrella', 257)], [('sock', 217)], [('waterslide', 91)], [('bench', 114)], [('ceilingfan', 99)], [('cannon', 100)], [('chair', 86)], [('guitar', 95)], [('trafficlight', 195)], [('belt', 145)], [('keyboard', 138)], [('giraffe', 191)], [('hexagon', 145)], [('fork', 157)], [('houseplant', 196)], [('postcard', 186)], [('envelope', 198)], [('pencil', 85)], [('golfclub', 169)], [('lightbulb', 232)], [('toothbrush', 141)], [('octagon', 207)], [('t-shirt', 337)], [('helmet', 122)], [('calculator', 207)], [('laptop', 170)], [('spreadsheet', 70)], [('washingmachine', 201)], [('television', 163)], [('rainbow', 452)]]\n"
     ]
    }
   ],
   "source": [
    "print(top_categpry)"
   ]
  },
  {
   "cell_type": "code",
   "execution_count": 64,
   "metadata": {},
   "outputs": [
    {
     "name": "stdout",
     "output_type": "stream",
     "text": [
      "[('squirrel', 139)]\n",
      "[('cello', 96)]\n",
      "[('crocodile', 83)]\n",
      "[('skateboard', 174)]\n",
      "[('cello', 184)]\n",
      "[('microwave', 149)]\n",
      "[('wineglass', 309)]\n",
      "[('ladder', 165)]\n",
      "[('horse', 71)]\n",
      "[('drill', 201)]\n",
      "[('shoe', 134)]\n",
      "[('mountain', 148)]\n",
      "[('sun', 281)]\n",
      "[('baseball', 114)]\n",
      "[('apple', 199)]\n",
      "[('teddy-bear', 227)]\n",
      "[('door', 228)]\n",
      "[('rain', 182)]\n",
      "[('mermaid', 98)]\n",
      "[('skyscraper', 153)]\n",
      "[('shark', 184)]\n",
      "[('belt', 170)]\n",
      "[('stereo', 105)]\n",
      "[('TheEiffelTower', 323)]\n",
      "[('pictureframe', 193)]\n",
      "[('lightbulb', 267)]\n",
      "[('bicycle', 107)]\n",
      "[('wheel', 158)]\n",
      "[('tennisracquet', 311)]\n",
      "[('flamingo', 122)]\n",
      "[('stairs', 119)]\n",
      "[('pineapple', 131)]\n",
      "[('bracelet', 98)]\n",
      "[('butterfly', 151)]\n",
      "[('van', 182)]\n",
      "[('matches', 175)]\n",
      "[('snowflake', 151)]\n",
      "[('bicycle', 167)]\n",
      "[('flyingsaucer', 141)]\n",
      "[('beard', 142)]\n",
      "[('suitcase', 133)]\n",
      "[('shorts', 146)]\n",
      "[('waterslide', 141)]\n",
      "[('strawberry', 127)]\n",
      "[('bulldozer', 143)]\n",
      "[('speedboat', 92)]\n",
      "[('keyboard', 209)]\n",
      "[('tornado', 217)]\n",
      "[('stairs', 245)]\n",
      "[('wineglass', 288)]\n",
      "[('pear', 404)]\n",
      "[('spider', 88)]\n",
      "[('knee', 208)]\n",
      "[('blackberry', 188)]\n",
      "[('bus', 170)]\n",
      "[('crocodile', 126)]\n",
      "[('clock', 281)]\n",
      "[('eye', 77)]\n",
      "[('coffeecup', 138)]\n",
      "[('house', 222)]\n",
      "[('van', 182)]\n",
      "[('bandage', 135)]\n",
      "[('tennisracquet', 136)]\n",
      "[('lipstick', 302)]\n",
      "[('rifle', 316)]\n",
      "[('car', 105)]\n",
      "[('toothbrush', 112)]\n",
      "[('strawberry', 156)]\n",
      "[('candle', 206)]\n",
      "[('square', 228)]\n",
      "[('line', 503)]\n",
      "[('swan', 83)]\n",
      "[('envelope', 111)]\n",
      "[('cello', 90)]\n",
      "[('hourglass', 217)]\n",
      "[('horse', 119)]\n",
      "[('seesaw', 233)]\n",
      "[('door', 103)]\n",
      "[('toaster', 187)]\n",
      "[('snorkel', 168)]\n",
      "[('camouflage', 53)]\n",
      "[('streetlight', 211)]\n",
      "[('winebottle', 280)]\n",
      "[('golfclub', 178)]\n",
      "[('TheMonaLisa', 178)]\n",
      "[('baseballbat', 107)]\n",
      "[('eyeglasses', 82)]\n",
      "[('headphones', 452)]\n",
      "[('penguin', 142)]\n",
      "[('mug', 101)]\n",
      "[('zebra', 86)]\n",
      "[('asparagus', 260)]\n",
      "[('potato', 95)]\n",
      "[('camouflage', 75)]\n",
      "[('sink', 105)]\n",
      "[('sock', 178)]\n",
      "[('wheel', 208)]\n",
      "[('cloud', 164)]\n",
      "[('pineapple', 162)]\n",
      "[('hamburger', 125)]\n",
      "[('purse', 113)]\n",
      "[('calendar', 138)]\n",
      "[('cruiseship', 166)]\n",
      "[('winebottle', 183)]\n",
      "[('skateboard', 93)]\n",
      "[('blackberry', 195)]\n",
      "[('triangle', 358)]\n",
      "[('swan', 147)]\n",
      "[('hurricane', 105)]\n",
      "[('policecar', 136)]\n",
      "[('hedgehog', 105)]\n",
      "[('helicopter', 95)]\n",
      "[('keyboard', 182)]\n",
      "[('panda', 115)]\n",
      "[('giraffe', 134)]\n",
      "[('underwear', 147)]\n",
      "[('oven', 120)]\n",
      "[('icecream', 309)]\n",
      "[('canoe', 135)]\n",
      "[('cloud', 153)]\n",
      "[('umbrella', 257)]\n",
      "[('sock', 217)]\n",
      "[('waterslide', 91)]\n",
      "[('bench', 114)]\n",
      "[('ceilingfan', 99)]\n",
      "[('cannon', 100)]\n",
      "[('chair', 86)]\n",
      "[('guitar', 95)]\n",
      "[('trafficlight', 195)]\n",
      "[('belt', 145)]\n",
      "[('keyboard', 138)]\n",
      "[('giraffe', 191)]\n",
      "[('hexagon', 145)]\n",
      "[('fork', 157)]\n",
      "[('houseplant', 196)]\n",
      "[('postcard', 186)]\n",
      "[('envelope', 198)]\n",
      "[('pencil', 85)]\n",
      "[('golfclub', 169)]\n",
      "[('lightbulb', 232)]\n",
      "[('toothbrush', 141)]\n",
      "[('octagon', 207)]\n",
      "[('t-shirt', 337)]\n",
      "[('helmet', 122)]\n",
      "[('calculator', 207)]\n",
      "[('laptop', 170)]\n",
      "[('spreadsheet', 70)]\n",
      "[('washingmachine', 201)]\n",
      "[('television', 163)]\n",
      "[('rainbow', 452)]\n"
     ]
    }
   ],
   "source": [
    "for item in top_categpry:\n",
    "    print(item)"
   ]
  },
  {
   "cell_type": "code",
   "execution_count": 65,
   "metadata": {},
   "outputs": [],
   "source": [
    "top_data=pd.read_excel(r\"C:/Users/gaoru/Desktop/top_category.xlsx\")"
   ]
  },
  {
   "cell_type": "code",
   "execution_count": 66,
   "metadata": {},
   "outputs": [
    {
     "name": "stderr",
     "output_type": "stream",
     "text": [
      "C:\\Users\\gaoru\\AppData\\Local\\Continuum\\anaconda3\\lib\\site-packages\\ipykernel_launcher.py:3: SettingWithCopyWarning: \n",
      "A value is trying to be set on a copy of a slice from a DataFrame\n",
      "\n",
      "See the caveats in the documentation: http://pandas.pydata.org/pandas-docs/stable/indexing.html#indexing-view-versus-copy\n",
      "  This is separate from the ipykernel package so we can avoid doing imports until\n",
      "C:\\Users\\gaoru\\AppData\\Local\\Continuum\\anaconda3\\lib\\site-packages\\ipykernel_launcher.py:4: SettingWithCopyWarning: \n",
      "A value is trying to be set on a copy of a slice from a DataFrame\n",
      "\n",
      "See the caveats in the documentation: http://pandas.pydata.org/pandas-docs/stable/indexing.html#indexing-view-versus-copy\n",
      "  after removing the cwd from sys.path.\n"
     ]
    }
   ],
   "source": [
    "for i in range(top_data.shape[0]):\n",
    "    array = str(top_data[\"Category\"][i]).strip(\" \").split(\" \")\n",
    "    top_data[\"Category\"][i]=array [0]\n",
    "    top_data[\"Number\"][i]=array [1]"
   ]
  },
  {
   "cell_type": "code",
   "execution_count": 67,
   "metadata": {},
   "outputs": [],
   "source": [
    "top_data.to_excel(r\"C:/Users/gaoru/Desktop/top_category_.xlsx\") "
   ]
  },
  {
   "cell_type": "code",
   "execution_count": 74,
   "metadata": {},
   "outputs": [
    {
     "name": "stdout",
     "output_type": "stream",
     "text": [
      "0    503\n",
      "1    452\n",
      "2    452\n",
      "3    404\n",
      "4    358\n",
      "5    337\n",
      "6    323\n",
      "7    316\n",
      "8    311\n",
      "9    309\n",
      "Name: Number, dtype: int64\n",
      "0              line\n",
      "1        headphones\n",
      "2           rainbow\n",
      "3              pear\n",
      "4          triangle\n",
      "5           t-shirt\n",
      "6    TheEiffelTower\n",
      "7             rifle\n",
      "8     tennisracquet\n",
      "9         wineglass\n",
      "Name: Category, dtype: object\n"
     ]
    }
   ],
   "source": [
    "top_data=pd.read_excel(r\"C:/Users/gaoru/Desktop/top_category_.xlsx\")\n",
    "top_10_number=top_data[\"Number\"][:10]#np.argpartition(top_data[\"Number\"], -10)[-10:]\n",
    "top_10_category = top_data[\"Category\"][:10]#top_data[\"Category\"][top_10_number]\n",
    "\n",
    "print(top_10_number)\n",
    "print(top_10_category)"
   ]
  },
  {
   "cell_type": "code",
   "execution_count": 75,
   "metadata": {},
   "outputs": [
    {
     "data": {
      "image/png": "[encoded data removed]",
      "text/plain": [
       "<Figure size 800x640 with 1 Axes>"
      ]
     },
     "metadata": {},
     "output_type": "display_data"
    }
   ],
   "source": [
    "from matplotlib.pyplot import figure\n",
    "figure(num=None, figsize=(10, 8), dpi=80, facecolor='w', edgecolor='k')\n",
    "\n",
    "plt.bar(range(len(top_10_number)), top_10_number, align='center')\n",
    "plt.xticks(range(len(top_10_category)), top_10_category, size='small')\n",
    "\n",
    "plt.show()"
   ]
  },
  {
   "cell_type": "code",
   "execution_count": null,
   "metadata": {},
   "outputs": [],
   "source": []
  }
 ],
 "metadata": {
  "kernelspec": {
   "display_name": "Python 3",
   "language": "python",
   "name": "python3"
  },
  "language_info": {
   "codemirror_mode": {
    "name": "ipython",
    "version": 3
   },
   "file_extension": ".py",
   "mimetype": "text/x-python",
   "name": "python",
   "nbconvert_exporter": "python",
   "pygments_lexer": "ipython3",
   "version": "3.7.3"
  }
 },
 "nbformat": 4,
 "nbformat_minor": 2
}
