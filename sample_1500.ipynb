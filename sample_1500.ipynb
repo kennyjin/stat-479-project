{
 "cells": [
  {
   "cell_type": "code",
   "execution_count": 1,
   "metadata": {},
   "outputs": [],
   "source": [
    "from os import listdir\n",
    "import numpy as np\n",
    "import pandas as pd\n",
    "import math"
   ]
  },
  {
   "cell_type": "code",
   "execution_count": 2,
   "metadata": {},
   "outputs": [],
   "source": [
    "data_dir = 'npy_data/'\n",
    "data_limit_per_label = 1500\n",
    "npdata = None\n",
    "ind2labels = []\n",
    "labels2ind = {}\n",
    "nplabels = None\n",
    "\n",
    "# fill data\n",
    "for file_name in listdir(data_dir):\n",
    "    npdata_t = (np.load(data_dir+file_name, mmap_mode='r')).copy()\n",
    "    np.random.shuffle(npdata_t)\n",
    "    npdata_t = npdata_t[:data_limit_per_label,:]\n",
    "    \n",
    "    if npdata is None:\n",
    "        npdata = npdata_t\n",
    "    else:\n",
    "        npdata = np.concatenate((npdata, npdata_t))\n",
    "        \n",
    "    label = file_name.split('.')[0]\n",
    "    ind2labels.append(label)\n",
    "    labels2ind[label] = len(ind2labels)-1\n",
    "    nplabel_t = np.full((npdata_t.shape[0],1), labels2ind[label])\n",
    "    \n",
    "    if nplabels is None:\n",
    "        nplabels = nplabel_t\n",
    "    else:\n",
    "        nplabels = np.concatenate((nplabels, nplabel_t))\n",
    "\n",
    "# shuffle data\n",
    "data_ = np.c_[npdata.reshape(len(npdata), -1), nplabels.reshape(len(nplabels), -1)]\n",
    "doodle_images = data_[:, :npdata.size//len(npdata)].reshape(npdata.shape)\n",
    "doodle_labels = data_[:, npdata.size//len(npdata):].reshape(nplabels.shape)\n",
    "#data_ = np.random.shuffle(data_)\n",
    "\n",
    "\n",
    "# split data\n",
    "data_len = npdata.shape[0]\n",
    "train_data_len = int(math.floor(data_len*0.7))\n",
    "eval_data_len = int(math.floor(data_len*0.2))"
   ]
  },
  {
   "cell_type": "code",
   "execution_count": 8,
   "metadata": {},
   "outputs": [
    {
     "data": {
      "text/plain": [
       "array([[  0],\n",
       "       [  0],\n",
       "       [  0],\n",
       "       ...,\n",
       "       [344],\n",
       "       [344],\n",
       "       [344]])"
      ]
     },
     "execution_count": 8,
     "metadata": {},
     "output_type": "execute_result"
    }
   ],
   "source": [
    "#npdata[1]\n",
    "doodle_labels"
   ]
  },
  {
   "cell_type": "code",
   "execution_count": 9,
   "metadata": {},
   "outputs": [],
   "source": [
    "np.save('sample_1500_image',npdata)"
   ]
  },
  {
   "cell_type": "code",
   "execution_count": 6,
   "metadata": {},
   "outputs": [],
   "source": [
    "dat = np.c_[npdata.reshape(len(npdata), -1), nplabels.reshape(len(nplabels), -1)]\n",
    "doodle_images = dat[:, :npdata.size//len(npdata)].reshape(npdata.shape)\n",
    "doodle_labels = dat[:, npdata.size//len(npdata):].reshape(nplabels.shape)\n",
    "#dat = np.random.shuffle(dat)"
   ]
  },
  {
   "cell_type": "code",
   "execution_count": 10,
   "metadata": {},
   "outputs": [],
   "source": [
    "#np.save('sample_1500', npdata)\n",
    "#np.save('sample_1500_image', doodle_images)\n",
    "np.save('sample_1500_label', doodle_labels)"
   ]
  },
  {
   "cell_type": "code",
   "execution_count": null,
   "metadata": {},
   "outputs": [],
   "source": [
    "#check data\n",
    "npy = np.load('sample_1500.npy')\n",
    "ds = pd.DataFrame(npy)\n"
   ]
  },
  {
   "cell_type": "code",
   "execution_count": 68,
   "metadata": {},
   "outputs": [
    {
     "name": "stdout",
     "output_type": "stream",
     "text": [
      "<pandas.core.indexing._iLocIndexer object at 0x7f67a1663548>\n"
     ]
    }
   ],
   "source": [
    "#check image\n",
    "ds"
   ]
  },
  {
   "cell_type": "code",
   "execution_count": 62,
   "metadata": {},
   "outputs": [
    {
     "data": {
      "text/plain": [
       "\u001b[0;31mSignature:\u001b[0m \u001b[0mnp\u001b[0m\u001b[0;34m.\u001b[0m\u001b[0mreshape\u001b[0m\u001b[0;34m(\u001b[0m\u001b[0ma\u001b[0m\u001b[0;34m,\u001b[0m \u001b[0mnewshape\u001b[0m\u001b[0;34m,\u001b[0m \u001b[0morder\u001b[0m\u001b[0;34m=\u001b[0m\u001b[0;34m'C'\u001b[0m\u001b[0;34m)\u001b[0m\u001b[0;34m\u001b[0m\u001b[0;34m\u001b[0m\u001b[0m\n",
       "\u001b[0;31mSource:\u001b[0m   \n",
       "\u001b[0;34m@\u001b[0m\u001b[0marray_function_dispatch\u001b[0m\u001b[0;34m(\u001b[0m\u001b[0m_reshape_dispatcher\u001b[0m\u001b[0;34m)\u001b[0m\u001b[0;34m\u001b[0m\n",
       "\u001b[0;34m\u001b[0m\u001b[0;32mdef\u001b[0m \u001b[0mreshape\u001b[0m\u001b[0;34m(\u001b[0m\u001b[0ma\u001b[0m\u001b[0;34m,\u001b[0m \u001b[0mnewshape\u001b[0m\u001b[0;34m,\u001b[0m \u001b[0morder\u001b[0m\u001b[0;34m=\u001b[0m\u001b[0;34m'C'\u001b[0m\u001b[0;34m)\u001b[0m\u001b[0;34m:\u001b[0m\u001b[0;34m\u001b[0m\n",
       "\u001b[0;34m\u001b[0m    \u001b[0;34m\"\"\"\u001b[0m\n",
       "\u001b[0;34m    Gives a new shape to an array without changing its data.\u001b[0m\n",
       "\u001b[0;34m\u001b[0m\n",
       "\u001b[0;34m    Parameters\u001b[0m\n",
       "\u001b[0;34m    ----------\u001b[0m\n",
       "\u001b[0;34m    a : array_like\u001b[0m\n",
       "\u001b[0;34m        Array to be reshaped.\u001b[0m\n",
       "\u001b[0;34m    newshape : int or tuple of ints\u001b[0m\n",
       "\u001b[0;34m        The new shape should be compatible with the original shape. If\u001b[0m\n",
       "\u001b[0;34m        an integer, then the result will be a 1-D array of that length.\u001b[0m\n",
       "\u001b[0;34m        One shape dimension can be -1. In this case, the value is\u001b[0m\n",
       "\u001b[0;34m        inferred from the length of the array and remaining dimensions.\u001b[0m\n",
       "\u001b[0;34m    order : {'C', 'F', 'A'}, optional\u001b[0m\n",
       "\u001b[0;34m        Read the elements of `a` using this index order, and place the\u001b[0m\n",
       "\u001b[0;34m        elements into the reshaped array using this index order.  'C'\u001b[0m\n",
       "\u001b[0;34m        means to read / write the elements using C-like index order,\u001b[0m\n",
       "\u001b[0;34m        with the last axis index changing fastest, back to the first\u001b[0m\n",
       "\u001b[0;34m        axis index changing slowest. 'F' means to read / write the\u001b[0m\n",
       "\u001b[0;34m        elements using Fortran-like index order, with the first index\u001b[0m\n",
       "\u001b[0;34m        changing fastest, and the last index changing slowest. Note that\u001b[0m\n",
       "\u001b[0;34m        the 'C' and 'F' options take no account of the memory layout of\u001b[0m\n",
       "\u001b[0;34m        the underlying array, and only refer to the order of indexing.\u001b[0m\n",
       "\u001b[0;34m        'A' means to read / write the elements in Fortran-like index\u001b[0m\n",
       "\u001b[0;34m        order if `a` is Fortran *contiguous* in memory, C-like order\u001b[0m\n",
       "\u001b[0;34m        otherwise.\u001b[0m\n",
       "\u001b[0;34m\u001b[0m\n",
       "\u001b[0;34m    Returns\u001b[0m\n",
       "\u001b[0;34m    -------\u001b[0m\n",
       "\u001b[0;34m    reshaped_array : ndarray\u001b[0m\n",
       "\u001b[0;34m        This will be a new view object if possible; otherwise, it will\u001b[0m\n",
       "\u001b[0;34m        be a copy.  Note there is no guarantee of the *memory layout* (C- or\u001b[0m\n",
       "\u001b[0;34m        Fortran- contiguous) of the returned array.\u001b[0m\n",
       "\u001b[0;34m\u001b[0m\n",
       "\u001b[0;34m    See Also\u001b[0m\n",
       "\u001b[0;34m    --------\u001b[0m\n",
       "\u001b[0;34m    ndarray.reshape : Equivalent method.\u001b[0m\n",
       "\u001b[0;34m\u001b[0m\n",
       "\u001b[0;34m    Notes\u001b[0m\n",
       "\u001b[0;34m    -----\u001b[0m\n",
       "\u001b[0;34m    It is not always possible to change the shape of an array without\u001b[0m\n",
       "\u001b[0;34m    copying the data. If you want an error to be raised when the data is copied,\u001b[0m\n",
       "\u001b[0;34m    you should assign the new shape to the shape attribute of the array::\u001b[0m\n",
       "\u001b[0;34m\u001b[0m\n",
       "\u001b[0;34m     >>> a = np.zeros((10, 2))\u001b[0m\n",
       "\u001b[0;34m     # A transpose makes the array non-contiguous\u001b[0m\n",
       "\u001b[0;34m     >>> b = a.T\u001b[0m\n",
       "\u001b[0;34m     # Taking a view makes it possible to modify the shape without modifying\u001b[0m\n",
       "\u001b[0;34m     # the initial object.\u001b[0m\n",
       "\u001b[0;34m     >>> c = b.view()\u001b[0m\n",
       "\u001b[0;34m     >>> c.shape = (20)\u001b[0m\n",
       "\u001b[0;34m     AttributeError: incompatible shape for a non-contiguous array\u001b[0m\n",
       "\u001b[0;34m\u001b[0m\n",
       "\u001b[0;34m    The `order` keyword gives the index ordering both for *fetching* the values\u001b[0m\n",
       "\u001b[0;34m    from `a`, and then *placing* the values into the output array.\u001b[0m\n",
       "\u001b[0;34m    For example, let's say you have an array:\u001b[0m\n",
       "\u001b[0;34m\u001b[0m\n",
       "\u001b[0;34m    >>> a = np.arange(6).reshape((3, 2))\u001b[0m\n",
       "\u001b[0;34m    >>> a\u001b[0m\n",
       "\u001b[0;34m    array([[0, 1],\u001b[0m\n",
       "\u001b[0;34m           [2, 3],\u001b[0m\n",
       "\u001b[0;34m           [4, 5]])\u001b[0m\n",
       "\u001b[0;34m\u001b[0m\n",
       "\u001b[0;34m    You can think of reshaping as first raveling the array (using the given\u001b[0m\n",
       "\u001b[0;34m    index order), then inserting the elements from the raveled array into the\u001b[0m\n",
       "\u001b[0;34m    new array using the same kind of index ordering as was used for the\u001b[0m\n",
       "\u001b[0;34m    raveling.\u001b[0m\n",
       "\u001b[0;34m\u001b[0m\n",
       "\u001b[0;34m    >>> np.reshape(a, (2, 3)) # C-like index ordering\u001b[0m\n",
       "\u001b[0;34m    array([[0, 1, 2],\u001b[0m\n",
       "\u001b[0;34m           [3, 4, 5]])\u001b[0m\n",
       "\u001b[0;34m    >>> np.reshape(np.ravel(a), (2, 3)) # equivalent to C ravel then C reshape\u001b[0m\n",
       "\u001b[0;34m    array([[0, 1, 2],\u001b[0m\n",
       "\u001b[0;34m           [3, 4, 5]])\u001b[0m\n",
       "\u001b[0;34m    >>> np.reshape(a, (2, 3), order='F') # Fortran-like index ordering\u001b[0m\n",
       "\u001b[0;34m    array([[0, 4, 3],\u001b[0m\n",
       "\u001b[0;34m           [2, 1, 5]])\u001b[0m\n",
       "\u001b[0;34m    >>> np.reshape(np.ravel(a, order='F'), (2, 3), order='F')\u001b[0m\n",
       "\u001b[0;34m    array([[0, 4, 3],\u001b[0m\n",
       "\u001b[0;34m           [2, 1, 5]])\u001b[0m\n",
       "\u001b[0;34m\u001b[0m\n",
       "\u001b[0;34m    Examples\u001b[0m\n",
       "\u001b[0;34m    --------\u001b[0m\n",
       "\u001b[0;34m    >>> a = np.array([[1,2,3], [4,5,6]])\u001b[0m\n",
       "\u001b[0;34m    >>> np.reshape(a, 6)\u001b[0m\n",
       "\u001b[0;34m    array([1, 2, 3, 4, 5, 6])\u001b[0m\n",
       "\u001b[0;34m    >>> np.reshape(a, 6, order='F')\u001b[0m\n",
       "\u001b[0;34m    array([1, 4, 2, 5, 3, 6])\u001b[0m\n",
       "\u001b[0;34m\u001b[0m\n",
       "\u001b[0;34m    >>> np.reshape(a, (3,-1))       # the unspecified value is inferred to be 2\u001b[0m\n",
       "\u001b[0;34m    array([[1, 2],\u001b[0m\n",
       "\u001b[0;34m           [3, 4],\u001b[0m\n",
       "\u001b[0;34m           [5, 6]])\u001b[0m\n",
       "\u001b[0;34m    \"\"\"\u001b[0m\u001b[0;34m\u001b[0m\n",
       "\u001b[0;34m\u001b[0m    \u001b[0;32mreturn\u001b[0m \u001b[0m_wrapfunc\u001b[0m\u001b[0;34m(\u001b[0m\u001b[0ma\u001b[0m\u001b[0;34m,\u001b[0m \u001b[0;34m'reshape'\u001b[0m\u001b[0;34m,\u001b[0m \u001b[0mnewshape\u001b[0m\u001b[0;34m,\u001b[0m \u001b[0morder\u001b[0m\u001b[0;34m=\u001b[0m\u001b[0morder\u001b[0m\u001b[0;34m)\u001b[0m\u001b[0;34m\u001b[0m\u001b[0;34m\u001b[0m\u001b[0m\n",
       "\u001b[0;31mFile:\u001b[0m      /opt/conda/lib/python3.7/site-packages/numpy/core/fromnumeric.py\n",
       "\u001b[0;31mType:\u001b[0m      function\n"
      ]
     },
     "metadata": {},
     "output_type": "display_data"
    }
   ],
   "source": [
    "np.reshape??"
   ]
  }
 ],
 "metadata": {
  "kernelspec": {
   "display_name": "Python 3",
   "language": "python",
   "name": "python3"
  },
  "language_info": {
   "codemirror_mode": {
    "name": "ipython",
    "version": 3
   },
   "file_extension": ".py",
   "mimetype": "text/x-python",
   "name": "python",
   "nbconvert_exporter": "python",
   "pygments_lexer": "ipython3",
   "version": "3.7.5"
  }
 },
 "nbformat": 4,
 "nbformat_minor": 4
}
