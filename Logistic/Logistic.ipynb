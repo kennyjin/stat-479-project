{
 "cells": [
  {
   "cell_type": "code",
   "execution_count": 1,
   "metadata": {},
   "outputs": [],
   "source": [
    "import numpy as np\n",
    "import pandas as pd\n",
    "from sklearn.model_selection import train_test_split\n",
    "from sklearn.linear_model import LogisticRegressionCV\n",
    "from sklearn.linear_model import LogisticRegression\n"
   ]
  },
  {
   "cell_type": "code",
   "execution_count": 3,
   "metadata": {},
   "outputs": [],
   "source": [
    "df = pd.DataFrame(np.load('Data/1000/sample_1000.npy', allow_pickle = True))\n",
    "df = df.rename(columns = {784:'label'})\n",
    "img = df[df.columns[0:784]].values.astype(float)\n",
    "label = df['label'].values\n",
    "img = img / 255\n",
    "x_train1, x_test, y_train1, y_test = train_test_split(img, label, test_size = 0.10, random_state = 123, stratify = label)\n",
    "x_train, x_valid, y_train, y_valid = train_test_split(x_train1, y_train1, test_size = 0.2, random_state = 123, stratify = y_train1)"
   ]
  },
  {
   "cell_type": "code",
   "execution_count": null,
   "metadata": {},
   "outputs": [],
   "source": [
    "pca = PCA(n_components=100)\n",
    "img_new = pca.fit_transform(img)\n",
    "X_train = pca.fit_transform(x_train) \n",
    "pca.fit(img)\n",
    "X_valid = pca.transform(x_valid) \n",
    "X_test = pca.transform(x_test)"
   ]
  },
  {
   "cell_type": "code",
   "execution_count": null,
   "metadata": {},
   "outputs": [],
   "source": [
    "mlg = LogisticRegression(penalty = 'l1', \n",
    "                         random_state = 123, \n",
    "                         solver = 'saga', \n",
    "                         multi_class = 'multinomial',\n",
    "                         njobs = -1,\n",
    "                         verbose = 1)\n",
    "mlg.fit(X_train, y_train)"
   ]
  },
  {
   "cell_type": "code",
   "execution_count": null,
   "metadata": {},
   "outputs": [],
   "source": [
    "score_tr = mlg.score(X_train, y_train)\n",
    "score_va = mlg.score(X_valid, y_valid)"
   ]
  },
  {
   "cell_type": "code",
   "execution_count": null,
   "metadata": {},
   "outputs": [
    {
     "name": "stderr",
     "output_type": "stream",
     "text": [
      "[Parallel(n_jobs=-1)]: Using backend ThreadingBackend with 12 concurrent workers.\n"
     ]
    }
   ],
   "source": [
    "mlgcv = LogisticRegressionCV(Cs=5,\n",
    "                           cv=5,\n",
    "                           penalty='l1',\n",
    "                           solver='saga',\n",
    "                           n_jobs=-1,\n",
    "                           verbose=1,\n",
    "                           multi_class='multinomial',\n",
    "                           random_state=123)\n",
    "\n",
    "mlgcv.fit(X_train, y_train)"
   ]
  },
  {
   "cell_type": "code",
   "execution_count": null,
   "metadata": {},
   "outputs": [],
   "source": [
    "score_tr = mlgcv.score(X_train, y_train)\n",
    "score_va = mlgcv.score(X_valid, y_valid)\n",
    "score_te = mlgcv.score(X_test, y_test)"
   ]
  }
 ],
 "metadata": {
  "kernelspec": {
   "display_name": "Python 3",
   "language": "python",
   "name": "python3"
  },
  "language_info": {
   "codemirror_mode": {
    "name": "ipython",
    "version": 3
   },
   "file_extension": ".py",
   "mimetype": "text/x-python",
   "name": "python",
   "nbconvert_exporter": "python",
   "pygments_lexer": "ipython3",
   "version": "3.7.5"
  }
 },
 "nbformat": 4,
 "nbformat_minor": 2
}
