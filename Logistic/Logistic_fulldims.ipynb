{
 "cells": [
  {
   "cell_type": "code",
   "execution_count": 1,
   "metadata": {},
   "outputs": [],
   "source": [
    "import numpy as np\n",
    "import pandas as pd\n",
    "from sklearn.model_selection import train_test_split\n",
    "from sklearn.linear_model import LogisticRegressionCV\n",
    "from sklearn.linear_model import LogisticRegression\n",
    "from sklearn.decomposition import PCA "
   ]
  },
  {
   "cell_type": "code",
   "execution_count": 2,
   "metadata": {},
   "outputs": [],
   "source": [
    "df = pd.DataFrame(np.load('Data/1000/sample_1000.npy', allow_pickle = True))\n",
    "df = df.rename(columns = {784:'label'})\n",
    "img = df[df.columns[0:784]].values.astype(float)\n",
    "label = df['label'].values\n",
    "img = img / 255"
   ]
  },
  {
   "cell_type": "code",
   "execution_count": null,
   "metadata": {},
   "outputs": [],
   "source": [
    "#partial split\n",
    "x_train1, x_test, y_train1, y_test = train_test_split(img, label, test_size = 0.1, train_size = 0.5, random_state = 123, stratify = label)\n",
    "x_train, x_valid, y_train, y_valid = train_test_split(x_train1, y_train1, test_size = 0.2, random_state = 123, stratify = y_train1)"
   ]
  },
  {
   "cell_type": "code",
   "execution_count": 3,
   "metadata": {},
   "outputs": [],
   "source": [
    "#full split\n",
    "x_train, x_test, y_train, y_test = train_test_split(img, label, test_size = 0.2, random_state = 123, stratify = label)\n",
    "#x_train, x_valid, y_train, y_valid = train_test_split(x_train1, y_train1, test_size = 0.2, random_state = 123, stratify = y_train1)"
   ]
  },
  {
   "cell_type": "code",
   "execution_count": 4,
   "metadata": {},
   "outputs": [],
   "source": [
    "#pca\n",
    "pca = PCA(n_components=100)\n",
    "img_new = pca.fit_transform(img)\n",
    "X_train = pca.fit_transform(x_train) \n",
    "pca.fit(img)\n",
    "#X_valid = pca.transform(x_valid) \n",
    "X_test = pca.transform(x_test)"
   ]
  },
  {
   "cell_type": "code",
   "execution_count": null,
   "metadata": {},
   "outputs": [],
   "source": [
    "mlg = LogisticRegression(penalty = 'l1', \n",
    "                         random_state = 123, \n",
    "                         solver = 'saga', \n",
    "                         multi_class = 'multinomial',\n",
    "                         njobs = -1,\n",
    "                         verbose = 1)\n",
    "mlg.fit(X_train, y_train)"
   ]
  },
  {
   "cell_type": "code",
   "execution_count": null,
   "metadata": {},
   "outputs": [],
   "source": [
    "score_tr = mlg.score(X_train, y_train)\n",
    "score_va = mlg.score(X_valid, y_valid)"
   ]
  },
  {
   "cell_type": "code",
   "execution_count": 5,
   "metadata": {},
   "outputs": [
    {
     "name": "stderr",
     "output_type": "stream",
     "text": [
      "[Parallel(n_jobs=-1)]: Using backend ThreadingBackend with 12 concurrent workers.\n"
     ]
    },
    {
     "name": "stdout",
     "output_type": "stream",
     "text": [
      "convergence after 4 epochs took 1927 seconds\n",
      "convergence after 4 epochs took 1942 seconds\n",
      "convergence after 4 epochs took 1946 seconds\n",
      "convergence after 4 epochs took 1948 seconds\n",
      "convergence after 4 epochs took 1953 seconds\n",
      "convergence after 7 epochs took 4044 seconds\n",
      "convergence after 7 epochs took 4035 seconds\n",
      "convergence after 7 epochs took 4054 seconds\n",
      "convergence after 7 epochs took 4055 seconds\n",
      "convergence after 8 epochs took 4491 seconds\n",
      "convergence after 6 epochs took 5487 seconds\n",
      "convergence after 6 epochs took 5471 seconds\n",
      "convergence after 7 epochs took 6458 seconds\n",
      "convergence after 7 epochs took 6467 seconds\n",
      "convergence after 2 epochs took 1755 seconds\n",
      "convergence after 8 epochs took 7493 seconds\n",
      "convergence after 2 epochs took 1767 seconds\n",
      "convergence after 2 epochs took 1777 seconds\n",
      "convergence after 2 epochs took 1779 seconds\n",
      "convergence after 2 epochs took 1822 seconds\n",
      "convergence after 2 epochs took 1759 seconds\n",
      "convergence after 2 epochs took 1733 seconds\n",
      "convergence after 2 epochs took 1642 seconds\n",
      "convergence after 2 epochs took 1638 seconds\n",
      "convergence after 2 epochs took 1418 seconds\n"
     ]
    },
    {
     "name": "stderr",
     "output_type": "stream",
     "text": [
      "[Parallel(n_jobs=-1)]: Done   5 out of   5 | elapsed: 277.9min finished\n"
     ]
    },
    {
     "data": {
      "text/plain": [
       "LogisticRegressionCV(Cs=5, class_weight=None, cv=5, dual=False,\n",
       "                     fit_intercept=True, intercept_scaling=1.0, l1_ratios=None,\n",
       "                     max_iter=100, multi_class='multinomial', n_jobs=-1,\n",
       "                     penalty='l1', random_state=123, refit=True, scoring=None,\n",
       "                     solver='saga', tol=0.05, verbose=1)"
      ]
     },
     "execution_count": 5,
     "metadata": {},
     "output_type": "execute_result"
    }
   ],
   "source": [
    "mlgcv = LogisticRegressionCV(Cs=5,\n",
    "                           cv=5,\n",
    "                           penalty='l1',\n",
    "                           solver='saga',\n",
    "                           n_jobs=-1,\n",
    "                           verbose=1,\n",
    "                           multi_class='multinomial',\n",
    "                           random_state=123,\n",
    "                           tol = 0.05 )\n",
    "\n",
    "mlgcv.fit(x_train, y_train)"
   ]
  },
  {
   "cell_type": "code",
   "execution_count": 6,
   "metadata": {},
   "outputs": [],
   "source": [
    "score_tr = mlgcv.score(x_train, y_train)\n",
    "#score_va = mlgcv.score(X_valid, y_valid)\n",
    "score_te = mlgcv.score(x_test, y_test)"
   ]
  },
  {
   "cell_type": "code",
   "execution_count": 7,
   "metadata": {},
   "outputs": [
    {
     "name": "stdout",
     "output_type": "stream",
     "text": [
      "train accuracy: 0.28652898550724637\n",
      "test accuracy: 0.2396376811594203\n"
     ]
    }
   ],
   "source": [
    "print('train accuracy:', score_tr)\n",
    "#print('validation accuracy:', score_va)\n",
    "print('test accuracy:', score_te)"
   ]
  },
  {
   "cell_type": "code",
   "execution_count": 14,
   "metadata": {},
   "outputs": [
    {
     "name": "stdout",
     "output_type": "stream",
     "text": [
      "best parameters:  [1. 1. 1. 1. 1. 1. 1. 1. 1. 1. 1. 1. 1. 1. 1. 1. 1. 1. 1. 1. 1. 1. 1. 1.\n",
      " 1. 1. 1. 1. 1. 1. 1. 1. 1. 1. 1. 1. 1. 1. 1. 1. 1. 1. 1. 1. 1. 1. 1. 1.\n",
      " 1. 1. 1. 1. 1. 1. 1. 1. 1. 1. 1. 1. 1. 1. 1. 1. 1. 1. 1. 1. 1. 1. 1. 1.\n",
      " 1. 1. 1. 1. 1. 1. 1. 1. 1. 1. 1. 1. 1. 1. 1. 1. 1. 1. 1. 1. 1. 1. 1. 1.\n",
      " 1. 1. 1. 1. 1. 1. 1. 1. 1. 1. 1. 1. 1. 1. 1. 1. 1. 1. 1. 1. 1. 1. 1. 1.\n",
      " 1. 1. 1. 1. 1. 1. 1. 1. 1. 1. 1. 1. 1. 1. 1. 1. 1. 1. 1. 1. 1. 1. 1. 1.\n",
      " 1. 1. 1. 1. 1. 1. 1. 1. 1. 1. 1. 1. 1. 1. 1. 1. 1. 1. 1. 1. 1. 1. 1. 1.\n",
      " 1. 1. 1. 1. 1. 1. 1. 1. 1. 1. 1. 1. 1. 1. 1. 1. 1. 1. 1. 1. 1. 1. 1. 1.\n",
      " 1. 1. 1. 1. 1. 1. 1. 1. 1. 1. 1. 1. 1. 1. 1. 1. 1. 1. 1. 1. 1. 1. 1. 1.\n",
      " 1. 1. 1. 1. 1. 1. 1. 1. 1. 1. 1. 1. 1. 1. 1. 1. 1. 1. 1. 1. 1. 1. 1. 1.\n",
      " 1. 1. 1. 1. 1. 1. 1. 1. 1. 1. 1. 1. 1. 1. 1. 1. 1. 1. 1. 1. 1. 1. 1. 1.\n",
      " 1. 1. 1. 1. 1. 1. 1. 1. 1. 1. 1. 1. 1. 1. 1. 1. 1. 1. 1. 1. 1. 1. 1. 1.\n",
      " 1. 1. 1. 1. 1. 1. 1. 1. 1. 1. 1. 1. 1. 1. 1. 1. 1. 1. 1. 1. 1. 1. 1. 1.\n",
      " 1. 1. 1. 1. 1. 1. 1. 1. 1. 1. 1. 1. 1. 1. 1. 1. 1. 1. 1. 1. 1. 1. 1. 1.\n",
      " 1. 1. 1. 1. 1. 1. 1. 1. 1.]\n",
      "coefficients: [[0. 0. 0. ... 0. 0. 0.]\n",
      " [0. 0. 0. ... 0. 0. 0.]\n",
      " [0. 0. 0. ... 0. 0. 0.]\n",
      " ...\n",
      " [0. 0. 0. ... 0. 0. 0.]\n",
      " [0. 0. 0. ... 0. 0. 0.]\n",
      " [0. 0. 0. ... 0. 0. 0.]]\n"
     ]
    }
   ],
   "source": [
    "best_c = mlgcv.C_\n",
    "print('best parameters: ', best_c)\n",
    "coef = mlgcv.coef_\n",
    "print('coefficients:', coef)"
   ]
  }
 ],
 "metadata": {
  "kernelspec": {
   "display_name": "Python 3",
   "language": "python",
   "name": "python3"
  },
  "language_info": {
   "codemirror_mode": {
    "name": "ipython",
    "version": 3
   },
   "file_extension": ".py",
   "mimetype": "text/x-python",
   "name": "python",
   "nbconvert_exporter": "python",
   "pygments_lexer": "ipython3",
   "version": "3.7.5"
  }
 },
 "nbformat": 4,
 "nbformat_minor": 2
}
