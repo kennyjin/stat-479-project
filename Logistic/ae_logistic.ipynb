{
 "cells": [
  {
   "cell_type": "code",
   "execution_count": 1,
   "metadata": {},
   "outputs": [],
   "source": [
    "### Note: this file does not conduct autoencoder\n",
    "# Rather, it uses the files already saved by autoencoder.ipynb\n",
    "# data are from dropbox folder, "
   ]
  },
  {
   "cell_type": "code",
   "execution_count": 1,
   "metadata": {},
   "outputs": [],
   "source": [
    "import numpy as np\n",
    "import pandas as pd\n",
    "from sklearn.linear_model import LogisticRegressionCV\n",
    "from sklearn.linear_model import LogisticRegression\n",
    "import time"
   ]
  },
  {
   "cell_type": "code",
   "execution_count": 2,
   "metadata": {},
   "outputs": [],
   "source": [
    "X_train = np.load('Data/1000/xtrain_ae.npy')\n",
    "y_train = np.load('Data/1000/ytrain_ae.npy')\n",
    "X_test = np.load('Data/1000/xtest_ae.npy')\n",
    "y_test = np.load('Data/1000/ytest_ae.npy')"
   ]
  },
  {
   "cell_type": "code",
   "execution_count": 3,
   "metadata": {},
   "outputs": [
    {
     "name": "stderr",
     "output_type": "stream",
     "text": [
      "[Parallel(n_jobs=-1)]: Using backend ThreadingBackend with 12 concurrent workers.\n"
     ]
    },
    {
     "name": "stdout",
     "output_type": "stream",
     "text": [
      "convergence after 8 epochs took 375 seconds\n",
      "convergence after 8 epochs took 376 seconds\n",
      "convergence after 8 epochs took 379 seconds\n",
      "convergence after 8 epochs took 379 seconds\n",
      "convergence after 8 epochs took 379 seconds\n",
      "convergence after 49 epochs took 3803 seconds\n",
      "convergence after 52 epochs took 4038 seconds\n",
      "convergence after 53 epochs took 4085 seconds\n",
      "convergence after 53 epochs took 4114 seconds\n",
      "convergence after 54 epochs took 4171 seconds\n",
      "convergence after 68 epochs took 8568 seconds\n",
      "convergence after 68 epochs took 8508 seconds\n",
      "convergence after 71 epochs took 8948 seconds\n",
      "convergence after 72 epochs took 9064 seconds\n",
      "convergence after 72 epochs took 9059 seconds\n",
      "convergence after 11 epochs took 1262 seconds\n",
      "convergence after 10 epochs took 1138 seconds\n",
      "convergence after 2 epochs took 230 seconds\n",
      "convergence after 7 epochs took 801 seconds\n",
      "convergence after 2 epochs took 220 seconds\n",
      "convergence after 7 epochs took 785 seconds\n",
      "convergence after 2 epochs took 200 seconds\n",
      "convergence after 2 epochs took 192 seconds\n",
      "convergence after 12 epochs took 1293 seconds\n",
      "convergence after 2 epochs took 183 seconds\n"
     ]
    },
    {
     "name": "stderr",
     "output_type": "stream",
     "text": [
      "[Parallel(n_jobs=-1)]: Done   5 out of   5 | elapsed: 248.6min finished\n"
     ]
    },
    {
     "name": "stdout",
     "output_type": "stream",
     "text": [
      "Time elapsed: 273.29 min\n"
     ]
    }
   ],
   "source": [
    "start_time = time.time()\n",
    "\n",
    "mlgcv = LogisticRegressionCV(Cs=5,\n",
    "                           cv=5,\n",
    "                           penalty='l1',\n",
    "                           solver='saga',\n",
    "                           n_jobs=-1,\n",
    "                           verbose=1,\n",
    "                           multi_class='multinomial',\n",
    "                           random_state=123,\n",
    "                           tol = 0.005,)\n",
    "\n",
    "mlgcv.fit(X_train, y_train)\n",
    "\n",
    "print('Time elapsed: %.2f min' % ((time.time() - start_time) / 60))"
   ]
  },
  {
   "cell_type": "code",
   "execution_count": 4,
   "metadata": {},
   "outputs": [
    {
     "name": "stdout",
     "output_type": "stream",
     "text": [
      "train accuracy: 25.563768115942032\n",
      "test accuracy: 23.771014492753622\n"
     ]
    }
   ],
   "source": [
    "cvscore_train = mlgcv.score(X_train, y_train)\n",
    "cvscore_test = mlgcv.score(X_test, y_test)\n",
    "print('train accuracy:', cvscore_train * 100)\n",
    "print('test accuracy:', cvscore_test * 100)"
   ]
  },
  {
   "cell_type": "code",
   "execution_count": 5,
   "metadata": {},
   "outputs": [
    {
     "data": {
      "text/plain": [
       "array([10000., 10000., 10000., 10000., 10000., 10000., 10000., 10000.,\n",
       "       10000., 10000., 10000., 10000., 10000., 10000., 10000., 10000.,\n",
       "       10000., 10000., 10000., 10000., 10000., 10000., 10000., 10000.,\n",
       "       10000., 10000., 10000., 10000., 10000., 10000., 10000., 10000.,\n",
       "       10000., 10000., 10000., 10000., 10000., 10000., 10000., 10000.,\n",
       "       10000., 10000., 10000., 10000., 10000., 10000., 10000., 10000.,\n",
       "       10000., 10000., 10000., 10000., 10000., 10000., 10000., 10000.,\n",
       "       10000., 10000., 10000., 10000., 10000., 10000., 10000., 10000.,\n",
       "       10000., 10000., 10000., 10000., 10000., 10000., 10000., 10000.,\n",
       "       10000., 10000., 10000., 10000., 10000., 10000., 10000., 10000.,\n",
       "       10000., 10000., 10000., 10000., 10000., 10000., 10000., 10000.,\n",
       "       10000., 10000., 10000., 10000., 10000., 10000., 10000., 10000.,\n",
       "       10000., 10000., 10000., 10000., 10000., 10000., 10000., 10000.,\n",
       "       10000., 10000., 10000., 10000., 10000., 10000., 10000., 10000.,\n",
       "       10000., 10000., 10000., 10000., 10000., 10000., 10000., 10000.,\n",
       "       10000., 10000., 10000., 10000., 10000., 10000., 10000., 10000.,\n",
       "       10000., 10000., 10000., 10000., 10000., 10000., 10000., 10000.,\n",
       "       10000., 10000., 10000., 10000., 10000., 10000., 10000., 10000.,\n",
       "       10000., 10000., 10000., 10000., 10000., 10000., 10000., 10000.,\n",
       "       10000., 10000., 10000., 10000., 10000., 10000., 10000., 10000.,\n",
       "       10000., 10000., 10000., 10000., 10000., 10000., 10000., 10000.,\n",
       "       10000., 10000., 10000., 10000., 10000., 10000., 10000., 10000.,\n",
       "       10000., 10000., 10000., 10000., 10000., 10000., 10000., 10000.,\n",
       "       10000., 10000., 10000., 10000., 10000., 10000., 10000., 10000.,\n",
       "       10000., 10000., 10000., 10000., 10000., 10000., 10000., 10000.,\n",
       "       10000., 10000., 10000., 10000., 10000., 10000., 10000., 10000.,\n",
       "       10000., 10000., 10000., 10000., 10000., 10000., 10000., 10000.,\n",
       "       10000., 10000., 10000., 10000., 10000., 10000., 10000., 10000.,\n",
       "       10000., 10000., 10000., 10000., 10000., 10000., 10000., 10000.,\n",
       "       10000., 10000., 10000., 10000., 10000., 10000., 10000., 10000.,\n",
       "       10000., 10000., 10000., 10000., 10000., 10000., 10000., 10000.,\n",
       "       10000., 10000., 10000., 10000., 10000., 10000., 10000., 10000.,\n",
       "       10000., 10000., 10000., 10000., 10000., 10000., 10000., 10000.,\n",
       "       10000., 10000., 10000., 10000., 10000., 10000., 10000., 10000.,\n",
       "       10000., 10000., 10000., 10000., 10000., 10000., 10000., 10000.,\n",
       "       10000., 10000., 10000., 10000., 10000., 10000., 10000., 10000.,\n",
       "       10000., 10000., 10000., 10000., 10000., 10000., 10000., 10000.,\n",
       "       10000., 10000., 10000., 10000., 10000., 10000., 10000., 10000.,\n",
       "       10000., 10000., 10000., 10000., 10000., 10000., 10000., 10000.,\n",
       "       10000., 10000., 10000., 10000., 10000., 10000., 10000., 10000.,\n",
       "       10000., 10000., 10000., 10000., 10000., 10000., 10000., 10000.,\n",
       "       10000., 10000., 10000., 10000., 10000., 10000., 10000., 10000.,\n",
       "       10000., 10000., 10000., 10000., 10000., 10000., 10000., 10000.,\n",
       "       10000.])"
      ]
     },
     "execution_count": 5,
     "metadata": {},
     "output_type": "execute_result"
    }
   ],
   "source": [
    "mlgcv.C_"
   ]
  },
  {
   "cell_type": "code",
   "execution_count": 5,
   "metadata": {},
   "outputs": [
    {
     "name": "stderr",
     "output_type": "stream",
     "text": [
      "[Parallel(n_jobs=-1)]: Using backend ThreadingBackend with 12 concurrent workers.\n"
     ]
    },
    {
     "name": "stdout",
     "output_type": "stream",
     "text": [
      "convergence after 10 epochs took 1215 seconds\n",
      "Time elapsed: 20.25 min\n"
     ]
    },
    {
     "name": "stderr",
     "output_type": "stream",
     "text": [
      "[Parallel(n_jobs=-1)]: Done   1 out of   1 | elapsed: 20.2min finished\n"
     ]
    }
   ],
   "source": [
    "start_time = time.time()\n",
    "\n",
    "mlg = LogisticRegression(penalty = 'l1', \n",
    "                         random_state = 123, \n",
    "                         solver = 'saga', \n",
    "                         multi_class = 'multinomial',\n",
    "                         n_jobs = -1,\n",
    "                         verbose = 1,\n",
    "                         tol = 0.005)\n",
    "mlg.fit(X_train, y_train)\n",
    "\n",
    "print('Time elapsed: %.2f min' % ((time.time() - start_time) / 60))"
   ]
  },
  {
   "cell_type": "code",
   "execution_count": 6,
   "metadata": {},
   "outputs": [
    {
     "name": "stdout",
     "output_type": "stream",
     "text": [
      "train accuracy: 23.696014492753623\n",
      "test accuracy: 22.42463768115942\n"
     ]
    }
   ],
   "source": [
    "score_train = mlg.score(X_train, y_train)\n",
    "score_test = mlg.score(X_test, y_test)\n",
    "print('train accuracy:', score_train * 100)\n",
    "print('test accuracy:', score_test * 100)"
   ]
  }
 ],
 "metadata": {
  "kernelspec": {
   "display_name": "Python 3",
   "language": "python",
   "name": "python3"
  },
  "language_info": {
   "codemirror_mode": {
    "name": "ipython",
    "version": 3
   },
   "file_extension": ".py",
   "mimetype": "text/x-python",
   "name": "python",
   "nbconvert_exporter": "python",
   "pygments_lexer": "ipython3",
   "version": "3.7.5"
  }
 },
 "nbformat": 4,
 "nbformat_minor": 2
}
