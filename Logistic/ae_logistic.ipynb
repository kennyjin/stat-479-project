{
 "cells": [
  {
   "cell_type": "code",
   "execution_count": 1,
   "metadata": {},
   "outputs": [],
   "source": [
    "### Note: this file does not conduct autoencoder\n",
    "# Rather, it uses the files already saved by autoencoder.ipynb\n",
    "# data are from dropbox folder, "
   ]
  },
  {
   "cell_type": "code",
   "execution_count": 4,
   "metadata": {},
   "outputs": [],
   "source": [
    "import numpy as np\n",
    "import pandas as pd\n",
    "from sklearn.linear_model import LogisticRegressionCV\n",
    "from sklearn.linear_model import LogisticRegression\n",
    "import time"
   ]
  },
  {
   "cell_type": "code",
   "execution_count": 2,
   "metadata": {},
   "outputs": [],
   "source": [
    "X_train = np.load('Data/1000/xtrain_ae.npy')\n",
    "y_train = np.load('Data/1000/ytrain_ae.npy')\n",
    "X_test = np.load('Data/1000/xtest_ae.npy')\n",
    "y_test = np.load('Data/1000/ytest_ae.npy')"
   ]
  },
  {
   "cell_type": "code",
   "execution_count": 5,
   "metadata": {},
   "outputs": [
    {
     "name": "stderr",
     "output_type": "stream",
     "text": [
      "[Parallel(n_jobs=-1)]: Using backend ThreadingBackend with 12 concurrent workers.\n"
     ]
    },
    {
     "name": "stdout",
     "output_type": "stream",
     "text": [
      "convergence after 10 epochs took 1215 seconds\n",
      "Time elapsed: 20.25 min\n"
     ]
    },
    {
     "name": "stderr",
     "output_type": "stream",
     "text": [
      "[Parallel(n_jobs=-1)]: Done   1 out of   1 | elapsed: 20.2min finished\n"
     ]
    }
   ],
   "source": [
    "start_time = time.time()\n",
    "\n",
    "mlg = LogisticRegression(penalty = 'l1', \n",
    "                         random_state = 123, \n",
    "                         solver = 'saga', \n",
    "                         multi_class = 'multinomial',\n",
    "                         n_jobs = -1,\n",
    "                         verbose = 1,\n",
    "                         tol = 0.05,\n",
    "                         max_iter = 500)\n",
    "mlg.fit(X_train, y_train)\n",
    "\n",
    "print('Time elapsed: %.2f min' % ((time.time() - start_time) / 60))"
   ]
  },
  {
   "cell_type": "code",
   "execution_count": 6,
   "metadata": {},
   "outputs": [
    {
     "name": "stdout",
     "output_type": "stream",
     "text": [
      "train accuracy: 23.696014492753623\n",
      "test accuracy: 22.42463768115942\n"
     ]
    }
   ],
   "source": [
    "score_train = mlg.score(X_train, y_train)\n",
    "score_test = mlg.score(X_test, y_test)\n",
    "print('train accuracy:', score_train * 100)\n",
    "print('test accuracy:', score_test * 100)"
   ]
  }
 ],
 "metadata": {
  "kernelspec": {
   "display_name": "Python 3",
   "language": "python",
   "name": "python3"
  },
  "language_info": {
   "codemirror_mode": {
    "name": "ipython",
    "version": 3
   },
   "file_extension": ".py",
   "mimetype": "text/x-python",
   "name": "python",
   "nbconvert_exporter": "python",
   "pygments_lexer": "ipython3",
   "version": "3.7.5"
  }
 },
 "nbformat": 4,
 "nbformat_minor": 2
}
