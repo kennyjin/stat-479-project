{
 "cells": [
  {
   "cell_type": "code",
   "execution_count": 1,
   "metadata": {},
   "outputs": [],
   "source": [
    "import time\n",
    "import numpy as np\n",
    "import torch\n",
    "import torch.nn.functional as F\n",
    "from torchvision import datasets\n",
    "from torchvision import transforms\n",
    "from torch.utils.data import DataLoader,TensorDataset\n",
    "import pandas as pd\n",
    "from sklearn.model_selection import train_test_split\n",
    "from sklearn.pipeline import make_pipeline\n",
    "from sklearn.neighbors import KNeighborsClassifier\n",
    "from sklearn.model_selection import GridSearchCV\n",
    "\n",
    "if torch.cuda.is_available():\n",
    "    torch.backends.cudnn.deterministic = True\n",
    "\n"
   ]
  },
  {
   "cell_type": "code",
   "execution_count": 2,
   "metadata": {},
   "outputs": [
    {
     "name": "stdout",
     "output_type": "stream",
     "text": [
      "Device: cpu\n"
     ]
    }
   ],
   "source": [
    "##########################\n",
    "### SETTINGS\n",
    "##########################\n",
    "\n",
    "# Device\n",
    "device = torch.device(\"cuda:0\" if torch.cuda.is_available() else \"cpu\")\n",
    "print('Device:', device)\n",
    "\n",
    "# Hyperparameters\n",
    "random_seed = 123\n",
    "learning_rate = 0.005\n",
    "num_epochs = 30\n",
    "batch_size = 1000\n",
    "\n",
    "# Architecture\n",
    "num_features = 784\n",
    "#num_hidden_1 = 36\n",
    "num_hidden_1 = 100"
   ]
  },
  {
   "cell_type": "code",
   "execution_count": 4,
   "metadata": {},
   "outputs": [
    {
     "data": {
      "text/plain": [
       "'C:\\\\Users\\\\curti\\\\Dropbox\\\\Projects_all\\\\479ML'"
      ]
     },
     "execution_count": 4,
     "metadata": {},
     "output_type": "execute_result"
    }
   ],
   "source": [
    "%pwd"
   ]
  },
  {
   "cell_type": "code",
   "execution_count": 3,
   "metadata": {},
   "outputs": [],
   "source": [
    "# Load data\n",
    "img = np.load(r\"C:/Users/curti/Dropbox/Projects_all/479ML/Data/1000/sample_1000_image.npy\")\n",
    "lbl = np.load(r\"C:/Users/curti/Dropbox/Projects_all/479ML/Data/1000/sample_1000_label.npy\")\n",
    "\n",
    "# Normalize image data.  0-255 to 0-1\n",
    "img = img / 255\n",
    "df = pd.DataFrame(np.concatenate((img, lbl), axis=1))\n",
    "\n",
    "# Rename the last column as \"label\"\n",
    "df.rename(columns={784:\"label\"}, inplace=True)\n",
    "\n",
    "# Convert label column to integer type\n",
    "df['label'] = df['label'].astype('int64')"
   ]
  },
  {
   "cell_type": "code",
   "execution_count": 4,
   "metadata": {},
   "outputs": [],
   "source": [
    "img = df.iloc[:, 0:-1].values\n",
    "lbl = df['label'].values\n",
    "\n",
    "#Split dataset\n",
    "x_train1, x_test, y_train1, y_test = train_test_split(img, lbl, test_size = 0.20, random_state = 123, stratify = lbl)"
   ]
  },
  {
   "cell_type": "code",
   "execution_count": 5,
   "metadata": {},
   "outputs": [],
   "source": [
    "#Convert dataframe to tensor\n",
    "x_train1 = torch.tensor(x_train1)\n",
    "y_train1 = torch.tensor(y_train1)\n",
    "\n",
    "x_test = torch.tensor(x_test)\n",
    "y_test = torch.tensor(y_test)"
   ]
  },
  {
   "cell_type": "code",
   "execution_count": 6,
   "metadata": {},
   "outputs": [
    {
     "name": "stdout",
     "output_type": "stream",
     "text": [
      "torch.Size([276000, 1, 28, 28])\n",
      "torch.Size([276000])\n"
     ]
    }
   ],
   "source": [
    "x_train1 = x_train1.reshape((-1,1,28,28))\n",
    "x_test = x_test.reshape((-1,1,28,28))\n",
    "print(x_train1.shape)\n",
    "print(y_train1.shape)"
   ]
  },
  {
   "cell_type": "code",
   "execution_count": 7,
   "metadata": {},
   "outputs": [],
   "source": [
    "#Create dataloaders\n",
    "train_dataset = TensorDataset(x_train1, y_train1)\n",
    "test_dataset = TensorDataset(x_test, y_test)\n",
    "\n",
    "train_loader = DataLoader(dataset=train_dataset, \n",
    "                          batch_size=batch_size, \n",
    "                          shuffle=True)\n",
    "\n",
    "test_loader = DataLoader(dataset=test_dataset, \n",
    "                         batch_size=batch_size, \n",
    "                         shuffle=False)"
   ]
  },
  {
   "cell_type": "code",
   "execution_count": 8,
   "metadata": {},
   "outputs": [
    {
     "name": "stdout",
     "output_type": "stream",
     "text": [
      "Image batch dimensions: torch.Size([1000, 1, 28, 28])\n",
      "Image label dimensions: torch.Size([1000])\n"
     ]
    }
   ],
   "source": [
    "# Checking the dataset\n",
    "for images, labels in train_loader:  \n",
    "    print('Image batch dimensions:', images.shape)\n",
    "    print('Image label dimensions:', labels.shape)\n",
    "    break"
   ]
  },
  {
   "cell_type": "code",
   "execution_count": 9,
   "metadata": {
    "code_folding": []
   },
   "outputs": [],
   "source": [
    "##########################\n",
    "### MODEL\n",
    "##########################\n",
    "\n",
    "class Autoencoder(torch.nn.Module):\n",
    "\n",
    "    def __init__(self, num_features):\n",
    "        super(Autoencoder, self).__init__()\n",
    "        \n",
    "        ### ENCODER\n",
    "        \n",
    "        self.linear_1 = torch.nn.Linear(num_features, num_hidden_1)\n",
    "        # The following to lones are not necessary, \n",
    "        # but used here to demonstrate how to access the weights\n",
    "        # and use a different weight initialization.\n",
    "        # By default, PyTorch uses Xavier/Glorot initialization, which\n",
    "        # should usually be preferred.\n",
    "        self.linear_1.weight.detach().normal_(0.0, 0.1)\n",
    "        self.linear_1.bias.detach().zero_()\n",
    "        \n",
    "        ### DECODER\n",
    "        self.linear_2 = torch.nn.Linear(num_hidden_1, num_features)\n",
    "        self.linear_1.weight.detach().normal_(0.0, 0.1)\n",
    "        self.linear_1.bias.detach().zero_()\n",
    "        \n",
    "    def encoder(self, x):\n",
    "        encoded = self.linear_1(x)\n",
    "        encoded = F.leaky_relu(encoded)\n",
    "        return encoded\n",
    "    \n",
    "    def decoder(self, encoded_x):\n",
    "        logits = self.linear_2(encoded_x)\n",
    "        decoded = torch.sigmoid(logits)\n",
    "        return decoded\n",
    "        \n",
    "\n",
    "    def forward(self, x):\n",
    "        ### ENCODER\n",
    "        encoded = self.encoder(x)\n",
    "        \n",
    "        ### DECODER\n",
    "        decoded = self.decoder(encoded)\n",
    "        \n",
    "        return decoded\n",
    "\n",
    "    \n",
    "torch.manual_seed(random_seed)\n",
    "model = Autoencoder(num_features=num_features)\n",
    "model = model.to(device)\n",
    "\n",
    "optimizer = torch.optim.Adam(model.parameters(), lr=learning_rate)"
   ]
  },
  {
   "cell_type": "code",
   "execution_count": 10,
   "metadata": {
    "code_folding": []
   },
   "outputs": [
    {
     "name": "stdout",
     "output_type": "stream",
     "text": [
      "Epoch: 001/030 | Batch 000/276 | Cost: 0.7179\n",
      "Epoch: 001/030 | Batch 050/276 | Cost: 0.2822\n",
      "Epoch: 001/030 | Batch 100/276 | Cost: 0.2267\n",
      "Epoch: 001/030 | Batch 150/276 | Cost: 0.1973\n",
      "Epoch: 001/030 | Batch 200/276 | Cost: 0.1922\n",
      "Epoch: 001/030 | Batch 250/276 | Cost: 0.1801\n",
      "Time elapsed: 0.39 min\n",
      "Epoch: 002/030 | Batch 000/276 | Cost: 0.1729\n",
      "Epoch: 002/030 | Batch 050/276 | Cost: 0.1715\n",
      "Epoch: 002/030 | Batch 100/276 | Cost: 0.1676\n",
      "Epoch: 002/030 | Batch 150/276 | Cost: 0.1681\n",
      "Epoch: 002/030 | Batch 200/276 | Cost: 0.1653\n",
      "Epoch: 002/030 | Batch 250/276 | Cost: 0.1664\n",
      "Time elapsed: 0.82 min\n",
      "Epoch: 003/030 | Batch 000/276 | Cost: 0.1639\n",
      "Epoch: 003/030 | Batch 050/276 | Cost: 0.1621\n",
      "Epoch: 003/030 | Batch 100/276 | Cost: 0.1658\n",
      "Epoch: 003/030 | Batch 150/276 | Cost: 0.1597\n",
      "Epoch: 003/030 | Batch 200/276 | Cost: 0.1620\n",
      "Epoch: 003/030 | Batch 250/276 | Cost: 0.1617\n",
      "Time elapsed: 1.27 min\n",
      "Epoch: 004/030 | Batch 000/276 | Cost: 0.1605\n",
      "Epoch: 004/030 | Batch 050/276 | Cost: 0.1562\n",
      "Epoch: 004/030 | Batch 100/276 | Cost: 0.1586\n",
      "Epoch: 004/030 | Batch 150/276 | Cost: 0.1586\n",
      "Epoch: 004/030 | Batch 200/276 | Cost: 0.1556\n",
      "Epoch: 004/030 | Batch 250/276 | Cost: 0.1590\n",
      "Time elapsed: 1.72 min\n",
      "Epoch: 005/030 | Batch 000/276 | Cost: 0.1585\n",
      "Epoch: 005/030 | Batch 050/276 | Cost: 0.1576\n",
      "Epoch: 005/030 | Batch 100/276 | Cost: 0.1569\n",
      "Epoch: 005/030 | Batch 150/276 | Cost: 0.1567\n",
      "Epoch: 005/030 | Batch 200/276 | Cost: 0.1557\n",
      "Epoch: 005/030 | Batch 250/276 | Cost: 0.1586\n",
      "Time elapsed: 2.16 min\n",
      "Epoch: 006/030 | Batch 000/276 | Cost: 0.1559\n",
      "Epoch: 006/030 | Batch 050/276 | Cost: 0.1542\n",
      "Epoch: 006/030 | Batch 100/276 | Cost: 0.1595\n",
      "Epoch: 006/030 | Batch 150/276 | Cost: 0.1563\n",
      "Epoch: 006/030 | Batch 200/276 | Cost: 0.1561\n",
      "Epoch: 006/030 | Batch 250/276 | Cost: 0.1568\n",
      "Time elapsed: 2.60 min\n",
      "Epoch: 007/030 | Batch 000/276 | Cost: 0.1565\n",
      "Epoch: 007/030 | Batch 050/276 | Cost: 0.1523\n",
      "Epoch: 007/030 | Batch 100/276 | Cost: 0.1569\n",
      "Epoch: 007/030 | Batch 150/276 | Cost: 0.1558\n",
      "Epoch: 007/030 | Batch 200/276 | Cost: 0.1568\n",
      "Epoch: 007/030 | Batch 250/276 | Cost: 0.1543\n",
      "Time elapsed: 3.03 min\n",
      "Epoch: 008/030 | Batch 000/276 | Cost: 0.1557\n",
      "Epoch: 008/030 | Batch 050/276 | Cost: 0.1554\n",
      "Epoch: 008/030 | Batch 100/276 | Cost: 0.1544\n",
      "Epoch: 008/030 | Batch 150/276 | Cost: 0.1542\n",
      "Epoch: 008/030 | Batch 200/276 | Cost: 0.1523\n",
      "Epoch: 008/030 | Batch 250/276 | Cost: 0.1534\n",
      "Time elapsed: 3.47 min\n",
      "Epoch: 009/030 | Batch 000/276 | Cost: 0.1551\n",
      "Epoch: 009/030 | Batch 050/276 | Cost: 0.1537\n",
      "Epoch: 009/030 | Batch 100/276 | Cost: 0.1542\n",
      "Epoch: 009/030 | Batch 150/276 | Cost: 0.1511\n",
      "Epoch: 009/030 | Batch 200/276 | Cost: 0.1546\n",
      "Epoch: 009/030 | Batch 250/276 | Cost: 0.1538\n",
      "Time elapsed: 3.91 min\n",
      "Epoch: 010/030 | Batch 000/276 | Cost: 0.1501\n",
      "Epoch: 010/030 | Batch 050/276 | Cost: 0.1512\n",
      "Epoch: 010/030 | Batch 100/276 | Cost: 0.1569\n",
      "Epoch: 010/030 | Batch 150/276 | Cost: 0.1548\n",
      "Epoch: 010/030 | Batch 200/276 | Cost: 0.1534\n",
      "Epoch: 010/030 | Batch 250/276 | Cost: 0.1533\n",
      "Time elapsed: 4.34 min\n",
      "Epoch: 011/030 | Batch 000/276 | Cost: 0.1532\n",
      "Epoch: 011/030 | Batch 050/276 | Cost: 0.1598\n",
      "Epoch: 011/030 | Batch 100/276 | Cost: 0.1503\n",
      "Epoch: 011/030 | Batch 150/276 | Cost: 0.1527\n",
      "Epoch: 011/030 | Batch 200/276 | Cost: 0.1557\n",
      "Epoch: 011/030 | Batch 250/276 | Cost: 0.1548\n",
      "Time elapsed: 4.78 min\n",
      "Epoch: 012/030 | Batch 000/276 | Cost: 0.1571\n",
      "Epoch: 012/030 | Batch 050/276 | Cost: 0.1535\n",
      "Epoch: 012/030 | Batch 100/276 | Cost: 0.1535\n",
      "Epoch: 012/030 | Batch 150/276 | Cost: 0.1538\n",
      "Epoch: 012/030 | Batch 200/276 | Cost: 0.1529\n",
      "Epoch: 012/030 | Batch 250/276 | Cost: 0.1525\n",
      "Time elapsed: 5.20 min\n",
      "Epoch: 013/030 | Batch 000/276 | Cost: 0.1549\n",
      "Epoch: 013/030 | Batch 050/276 | Cost: 0.1541\n",
      "Epoch: 013/030 | Batch 100/276 | Cost: 0.1543\n",
      "Epoch: 013/030 | Batch 150/276 | Cost: 0.1494\n",
      "Epoch: 013/030 | Batch 200/276 | Cost: 0.1523\n",
      "Epoch: 013/030 | Batch 250/276 | Cost: 0.1516\n",
      "Time elapsed: 5.63 min\n",
      "Epoch: 014/030 | Batch 000/276 | Cost: 0.1497\n",
      "Epoch: 014/030 | Batch 050/276 | Cost: 0.1537\n",
      "Epoch: 014/030 | Batch 100/276 | Cost: 0.1530\n",
      "Epoch: 014/030 | Batch 150/276 | Cost: 0.1482\n",
      "Epoch: 014/030 | Batch 200/276 | Cost: 0.1521\n",
      "Epoch: 014/030 | Batch 250/276 | Cost: 0.1523\n",
      "Time elapsed: 6.06 min\n",
      "Epoch: 015/030 | Batch 000/276 | Cost: 0.1546\n",
      "Epoch: 015/030 | Batch 050/276 | Cost: 0.1506\n",
      "Epoch: 015/030 | Batch 100/276 | Cost: 0.1494\n",
      "Epoch: 015/030 | Batch 150/276 | Cost: 0.1510\n",
      "Epoch: 015/030 | Batch 200/276 | Cost: 0.1526\n",
      "Epoch: 015/030 | Batch 250/276 | Cost: 0.1524\n",
      "Time elapsed: 6.48 min\n",
      "Epoch: 016/030 | Batch 000/276 | Cost: 0.1508\n",
      "Epoch: 016/030 | Batch 050/276 | Cost: 0.1492\n",
      "Epoch: 016/030 | Batch 100/276 | Cost: 0.1518\n",
      "Epoch: 016/030 | Batch 150/276 | Cost: 0.1531\n",
      "Epoch: 016/030 | Batch 200/276 | Cost: 0.1518\n",
      "Epoch: 016/030 | Batch 250/276 | Cost: 0.1533\n",
      "Time elapsed: 6.92 min\n",
      "Epoch: 017/030 | Batch 000/276 | Cost: 0.1523\n",
      "Epoch: 017/030 | Batch 050/276 | Cost: 0.1535\n",
      "Epoch: 017/030 | Batch 100/276 | Cost: 0.1520\n",
      "Epoch: 017/030 | Batch 150/276 | Cost: 0.1533\n",
      "Epoch: 017/030 | Batch 200/276 | Cost: 0.1541\n",
      "Epoch: 017/030 | Batch 250/276 | Cost: 0.1519\n",
      "Time elapsed: 7.36 min\n",
      "Epoch: 018/030 | Batch 000/276 | Cost: 0.1516\n",
      "Epoch: 018/030 | Batch 050/276 | Cost: 0.1498\n",
      "Epoch: 018/030 | Batch 100/276 | Cost: 0.1538\n",
      "Epoch: 018/030 | Batch 150/276 | Cost: 0.1535\n",
      "Epoch: 018/030 | Batch 200/276 | Cost: 0.1517\n",
      "Epoch: 018/030 | Batch 250/276 | Cost: 0.1495\n",
      "Time elapsed: 7.79 min\n",
      "Epoch: 019/030 | Batch 000/276 | Cost: 0.1541\n",
      "Epoch: 019/030 | Batch 050/276 | Cost: 0.1513\n",
      "Epoch: 019/030 | Batch 100/276 | Cost: 0.1541\n",
      "Epoch: 019/030 | Batch 150/276 | Cost: 0.1540\n",
      "Epoch: 019/030 | Batch 200/276 | Cost: 0.1513\n",
      "Epoch: 019/030 | Batch 250/276 | Cost: 0.1533\n",
      "Time elapsed: 8.22 min\n",
      "Epoch: 020/030 | Batch 000/276 | Cost: 0.1512\n",
      "Epoch: 020/030 | Batch 050/276 | Cost: 0.1514\n",
      "Epoch: 020/030 | Batch 100/276 | Cost: 0.1517\n",
      "Epoch: 020/030 | Batch 150/276 | Cost: 0.1552\n",
      "Epoch: 020/030 | Batch 200/276 | Cost: 0.1524\n",
      "Epoch: 020/030 | Batch 250/276 | Cost: 0.1533\n",
      "Time elapsed: 8.63 min\n",
      "Epoch: 021/030 | Batch 000/276 | Cost: 0.1512\n",
      "Epoch: 021/030 | Batch 050/276 | Cost: 0.1519\n",
      "Epoch: 021/030 | Batch 100/276 | Cost: 0.1502\n",
      "Epoch: 021/030 | Batch 150/276 | Cost: 0.1502\n",
      "Epoch: 021/030 | Batch 200/276 | Cost: 0.1541\n",
      "Epoch: 021/030 | Batch 250/276 | Cost: 0.1523\n",
      "Time elapsed: 9.06 min\n",
      "Epoch: 022/030 | Batch 000/276 | Cost: 0.1508\n",
      "Epoch: 022/030 | Batch 050/276 | Cost: 0.1504\n",
      "Epoch: 022/030 | Batch 100/276 | Cost: 0.1518\n",
      "Epoch: 022/030 | Batch 150/276 | Cost: 0.1507\n",
      "Epoch: 022/030 | Batch 200/276 | Cost: 0.1576\n",
      "Epoch: 022/030 | Batch 250/276 | Cost: 0.1471\n",
      "Time elapsed: 9.52 min\n",
      "Epoch: 023/030 | Batch 000/276 | Cost: 0.1557\n",
      "Epoch: 023/030 | Batch 050/276 | Cost: 0.1532\n",
      "Epoch: 023/030 | Batch 100/276 | Cost: 0.1534\n",
      "Epoch: 023/030 | Batch 150/276 | Cost: 0.1543\n",
      "Epoch: 023/030 | Batch 200/276 | Cost: 0.1525\n",
      "Epoch: 023/030 | Batch 250/276 | Cost: 0.1511\n",
      "Time elapsed: 9.96 min\n",
      "Epoch: 024/030 | Batch 000/276 | Cost: 0.1532\n",
      "Epoch: 024/030 | Batch 050/276 | Cost: 0.1507\n",
      "Epoch: 024/030 | Batch 100/276 | Cost: 0.1530\n",
      "Epoch: 024/030 | Batch 150/276 | Cost: 0.1535\n",
      "Epoch: 024/030 | Batch 200/276 | Cost: 0.1529\n",
      "Epoch: 024/030 | Batch 250/276 | Cost: 0.1489\n",
      "Time elapsed: 10.42 min\n",
      "Epoch: 025/030 | Batch 000/276 | Cost: 0.1518\n",
      "Epoch: 025/030 | Batch 050/276 | Cost: 0.1505\n",
      "Epoch: 025/030 | Batch 100/276 | Cost: 0.1518\n",
      "Epoch: 025/030 | Batch 150/276 | Cost: 0.1545\n",
      "Epoch: 025/030 | Batch 200/276 | Cost: 0.1529\n",
      "Epoch: 025/030 | Batch 250/276 | Cost: 0.1535\n",
      "Time elapsed: 10.86 min\n",
      "Epoch: 026/030 | Batch 000/276 | Cost: 0.1515\n",
      "Epoch: 026/030 | Batch 050/276 | Cost: 0.1510\n",
      "Epoch: 026/030 | Batch 100/276 | Cost: 0.1524\n",
      "Epoch: 026/030 | Batch 150/276 | Cost: 0.1537\n",
      "Epoch: 026/030 | Batch 200/276 | Cost: 0.1535\n",
      "Epoch: 026/030 | Batch 250/276 | Cost: 0.1528\n",
      "Time elapsed: 11.31 min\n",
      "Epoch: 027/030 | Batch 000/276 | Cost: 0.1541\n",
      "Epoch: 027/030 | Batch 050/276 | Cost: 0.1489\n",
      "Epoch: 027/030 | Batch 100/276 | Cost: 0.1546\n",
      "Epoch: 027/030 | Batch 150/276 | Cost: 0.1508\n",
      "Epoch: 027/030 | Batch 200/276 | Cost: 0.1523\n",
      "Epoch: 027/030 | Batch 250/276 | Cost: 0.1505\n",
      "Time elapsed: 11.75 min\n",
      "Epoch: 028/030 | Batch 000/276 | Cost: 0.1539\n",
      "Epoch: 028/030 | Batch 050/276 | Cost: 0.1498\n",
      "Epoch: 028/030 | Batch 100/276 | Cost: 0.1550\n"
     ]
    },
    {
     "name": "stdout",
     "output_type": "stream",
     "text": [
      "Epoch: 028/030 | Batch 150/276 | Cost: 0.1571\n",
      "Epoch: 028/030 | Batch 200/276 | Cost: 0.1496\n",
      "Epoch: 028/030 | Batch 250/276 | Cost: 0.1537\n",
      "Time elapsed: 12.20 min\n",
      "Epoch: 029/030 | Batch 000/276 | Cost: 0.1497\n",
      "Epoch: 029/030 | Batch 050/276 | Cost: 0.1549\n",
      "Epoch: 029/030 | Batch 100/276 | Cost: 0.1509\n",
      "Epoch: 029/030 | Batch 150/276 | Cost: 0.1499\n",
      "Epoch: 029/030 | Batch 200/276 | Cost: 0.1496\n",
      "Epoch: 029/030 | Batch 250/276 | Cost: 0.1549\n",
      "Time elapsed: 12.65 min\n",
      "Epoch: 030/030 | Batch 000/276 | Cost: 0.1517\n",
      "Epoch: 030/030 | Batch 050/276 | Cost: 0.1555\n",
      "Epoch: 030/030 | Batch 100/276 | Cost: 0.1534\n",
      "Epoch: 030/030 | Batch 150/276 | Cost: 0.1534\n",
      "Epoch: 030/030 | Batch 200/276 | Cost: 0.1505\n",
      "Epoch: 030/030 | Batch 250/276 | Cost: 0.1535\n",
      "Time elapsed: 13.09 min\n",
      "Total Training Time: 13.09 min\n"
     ]
    }
   ],
   "source": [
    "## Training\n",
    "start_time = time.time()\n",
    "for epoch in range(num_epochs):\n",
    "    for batch_idx, (features, targets) in enumerate(train_loader):\n",
    "        \n",
    "        # don't need labels, only the images (features)\n",
    "        features = features.view(-1, 28*28).float().to(device)\n",
    "            \n",
    "        ### FORWARD AND BACK PROP\n",
    "        decoded = model(features)\n",
    "        cost = F.binary_cross_entropy(decoded, features)\n",
    "        optimizer.zero_grad()\n",
    "        \n",
    "        cost.backward()\n",
    "        \n",
    "        ### UPDATE MODEL PARAMETERS\n",
    "        optimizer.step()\n",
    "        \n",
    "        ### LOGGING\n",
    "        if not batch_idx % 50:\n",
    "            print ('Epoch: %03d/%03d | Batch %03d/%03d | Cost: %.4f' \n",
    "                   %(epoch+1, num_epochs, batch_idx, \n",
    "                     len(train_loader), cost))\n",
    "            \n",
    "    print('Time elapsed: %.2f min' % ((time.time() - start_time)/60))\n",
    "    \n",
    "print('Total Training Time: %.2f min' % ((time.time() - start_time)/60))"
   ]
  },
  {
   "cell_type": "code",
   "execution_count": 11,
   "metadata": {},
   "outputs": [
    {
     "name": "stdout",
     "output_type": "stream",
     "text": [
      "Image batch dimensions: torch.Size([15, 1, 28, 28])\n",
      "Image label dimensions: torch.Size([15])\n"
     ]
    },
    {
     "data": {
      "image/png": "[encoded data removed]",
      "text/plain": [
       "<Figure size 1440x180 with 30 Axes>"
      ]
     },
     "metadata": {
      "needs_background": "light"
     },
     "output_type": "display_data"
    }
   ],
   "source": [
    "#Evaluation\n",
    "%matplotlib inline\n",
    "import matplotlib.pyplot as plt\n",
    "\n",
    "##########################\n",
    "### VISUALIZATION\n",
    "##########################\n",
    "\n",
    "\n",
    "train_loader = DataLoader(dataset=train_dataset, \n",
    "                          batch_size=15, \n",
    "                          shuffle=True)\n",
    "\n",
    "# Checking the dataset\n",
    "for images, labels in train_loader:  \n",
    "    print('Image batch dimensions:', images.shape)\n",
    "    print('Image label dimensions:', labels.shape)\n",
    "    break\n",
    "    \n",
    "# =============================================================\n",
    "\n",
    "n_images = 15\n",
    "image_width = 28\n",
    "\n",
    "fig, axes = plt.subplots(nrows=2, ncols=n_images, \n",
    "                         sharex=True, sharey=True, figsize=(20, 2.5))\n",
    "orig_images = features[:n_images]\n",
    "decoded_images = decoded[:n_images]\n",
    "\n",
    "for i in range(n_images):\n",
    "    for ax, img in zip(axes, [orig_images, decoded_images]):\n",
    "        curr_img = img[i].detach().to(torch.device('cpu'))\n",
    "        ax[i].imshow(curr_img.view((image_width, image_width)), cmap='binary')\n"
   ]
  },
  {
   "cell_type": "code",
   "execution_count": 12,
   "metadata": {
    "scrolled": true
   },
   "outputs": [
    {
     "name": "stdout",
     "output_type": "stream",
     "text": [
      "Image batch dimensions: torch.Size([15, 1, 28, 28])\n",
      "Image label dimensions: torch.Size([15])\n"
     ]
    },
    {
     "data": {
      "image/png": "[encoded data removed]",
      "text/plain": [
       "<Figure size 1440x180 with 30 Axes>"
      ]
     },
     "metadata": {
      "needs_background": "light"
     },
     "output_type": "display_data"
    }
   ],
   "source": [
    "#Evaluation\n",
    "\n",
    "test_loader = DataLoader(dataset=test_dataset, \n",
    "                         batch_size=15, \n",
    "                         shuffle=True)\n",
    "\n",
    "# Checking the dataset\n",
    "for images, labels in test_loader:  \n",
    "    print('Image batch dimensions:', images.shape)\n",
    "    print('Image label dimensions:', labels.shape)\n",
    "    break\n",
    "    \n",
    "# =============================================================\n",
    "\n",
    "n_images = 15\n",
    "image_width = 28\n",
    "\n",
    "fig, axes = plt.subplots(nrows=2, ncols=n_images, \n",
    "                         sharex=True, sharey=True, figsize=(20, 2.5))\n",
    "orig_images = features[:n_images]\n",
    "decoded_images = decoded[:n_images]\n",
    "\n",
    "for i in range(n_images):\n",
    "    for ax, img in zip(axes, [orig_images, decoded_images]):\n",
    "        curr_img = img[i].detach().to(torch.device('cpu'))\n",
    "        ax[i].imshow(curr_img.view((image_width, image_width)), cmap='binary')"
   ]
  },
  {
   "cell_type": "code",
   "execution_count": 13,
   "metadata": {},
   "outputs": [],
   "source": [
    "train_loader = DataLoader(dataset=train_dataset, \n",
    "                          batch_size=x_train1.shape[0], \n",
    "                          shuffle=True)\n",
    "\n",
    "test_loader = DataLoader(dataset=test_dataset, \n",
    "                          batch_size=x_test.shape[0], \n",
    "                          shuffle=False)"
   ]
  },
  {
   "cell_type": "code",
   "execution_count": 14,
   "metadata": {},
   "outputs": [
    {
     "name": "stdout",
     "output_type": "stream",
     "text": [
      "Image batch dimensions: torch.Size([276000, 1, 28, 28])\n",
      "Image label dimensions: torch.Size([276000])\n",
      "Image batch dimensions: torch.Size([69000, 1, 28, 28])\n",
      "Image label dimensions: torch.Size([69000])\n"
     ]
    }
   ],
   "source": [
    "for images, labels in train_loader:  \n",
    "    print('Image batch dimensions:', images.shape)\n",
    "    print('Image label dimensions:', labels.shape)\n",
    "    break\n",
    "\n",
    "X_train = np.array(images.reshape(x_train1.shape[0], 28*28))\n",
    "y_train = np.array(labels)\n",
    "\n",
    "\n",
    "for images, labels in test_loader:  \n",
    "    print('Image batch dimensions:', images.shape)\n",
    "    print('Image label dimensions:', labels.shape)\n",
    "    break\n",
    "\n",
    "X_test = np.array(images.reshape(x_test.shape[0], 28*28))\n",
    "y_test = np.array(labels)"
   ]
  },
  {
   "cell_type": "code",
   "execution_count": 17,
   "metadata": {},
   "outputs": [],
   "source": [
    "####save files\n",
    "np.save('xtrain_ae',X_train)\n",
    "np.save('ytrain_ae',y_train)\n",
    "np.save('xtest_ae',X_test)\n",
    "np.save('ytest_ae',y_test)"
   ]
  },
  {
   "cell_type": "code",
   "execution_count": null,
   "metadata": {},
   "outputs": [],
   "source": [
    "#k obtained from cv\n",
    "knn = KNeighborsClassifier(n_neighbors=15, algorithm = 'auto', n_jobs = -1)\n",
    "knn.fit(X_train, y_train)\n",
    "ac = knn.score(X_train, y_train) * 100\n",
    "print('train set accuracy: %.2f%%' % ac)"
   ]
  },
  {
   "cell_type": "code",
   "execution_count": null,
   "metadata": {},
   "outputs": [],
   "source": [
    "acc = knn.score(X_test, y_test) * 100\n",
    "\n",
    "print('test set accuracy: %.2f%%' % acc)"
   ]
  }
 ],
 "metadata": {
  "kernelspec": {
   "display_name": "Python 3",
   "language": "python",
   "name": "python3"
  },
  "language_info": {
   "codemirror_mode": {
    "name": "ipython",
    "version": 3
   },
   "file_extension": ".py",
   "mimetype": "text/x-python",
   "name": "python",
   "nbconvert_exporter": "python",
   "pygments_lexer": "ipython3",
   "version": "3.7.5"
  }
 },
 "nbformat": 4,
 "nbformat_minor": 2
}
