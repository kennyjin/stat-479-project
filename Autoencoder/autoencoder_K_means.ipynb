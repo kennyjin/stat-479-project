{
 "cells": [
  {
   "cell_type": "markdown",
   "metadata": {},
   "source": [
    "#### Autoencoder"
   ]
  },
  {
   "cell_type": "code",
   "execution_count": 1,
   "metadata": {},
   "outputs": [
    {
     "name": "stdout",
     "output_type": "stream",
     "text": [
      "Device: cuda:0\n"
     ]
    }
   ],
   "source": [
    "import time\n",
    "import numpy as np\n",
    "import torch\n",
    "import torch.nn.functional as F\n",
    "from torchvision import datasets\n",
    "from torchvision import transforms\n",
    "from torch.utils.data import DataLoader,TensorDataset\n",
    "import pandas as pd\n",
    "from sklearn.model_selection import train_test_split\n",
    "\n",
    "if torch.cuda.is_available():\n",
    "    torch.backends.cudnn.deterministic = True\n",
    "\n",
    "##########################\n",
    "### SETTINGS\n",
    "##########################\n",
    "\n",
    "# Device\n",
    "device = torch.device(\"cuda:0\" if torch.cuda.is_available() else \"cpu\")\n",
    "print('Device:', device)\n",
    "\n",
    "# Hyperparameters\n",
    "random_seed = 123\n",
    "learning_rate = 0.005\n",
    "num_epochs = 5\n",
    "batch_size = 256\n",
    "\n",
    "# Architecture\n",
    "num_features = 784\n",
    "num_hidden_1 = 100"
   ]
  },
  {
   "cell_type": "code",
   "execution_count": 2,
   "metadata": {},
   "outputs": [],
   "source": [
    "# Load data\n",
    "images = np.load(\"F:/Fall 2019/stat 479-ML/Project_Group_7/GITHUB/sample_1000_image.npy\")\n",
    "labels = np.load(\"F:/Fall 2019/stat 479-ML/Project_Group_7/GITHUB/sample_1000_label.npy\")\n",
    "\n",
    "# Normalize image data.  0-255 to 0-1\n",
    "images = images / 255\n",
    "df = pd.DataFrame(np.concatenate((images, labels), axis=1))\n",
    "\n",
    "# Rename the last column as \"label\"\n",
    "df.rename(columns={784:\"label\"}, inplace=True)\n",
    "\n",
    "# Convert label column to integer type\n",
    "df['label'] = df['label'].astype('int64')"
   ]
  },
  {
   "cell_type": "code",
   "execution_count": 78,
   "metadata": {},
   "outputs": [],
   "source": [
    "all_=np.load(\"F:/Fall 2019/stat 479-ML/Project_Group_7/GITHUB/sample_1000.npy\",allow_pickle=True)"
   ]
  },
  {
   "cell_type": "code",
   "execution_count": 79,
   "metadata": {},
   "outputs": [
    {
     "name": "stdout",
     "output_type": "stream",
     "text": [
      "[0 0 0 0 0 0 0 0 0 0 0 0 0 0 0 0 0 0 0 0 0 0 0 0 0 0 0 0 0 0 0 0 0 0 0 0 0\n",
      " 0 0 0 0 0 0 0 0 0 0 0 0 0 0 0 0 0 0 0 0 0 0 0 0 0 0 0 0 0 0 0 0 0 0 0 0 0\n",
      " 0 0 0 0 0 0 0 0 0 0 0 0 0 18 19 0 0 0 0 0 0 0 0 0 0 0 0 0 0 0 0 0 0 0 0 0\n",
      " 0 0 0 0 0 202 216 9 0 0 0 0 0 0 0 0 0 0 0 0 0 0 0 0 0 0 0 0 0 0 0 0 72\n",
      " 255 255 89 0 0 0 0 0 0 0 0 0 0 0 0 0 0 0 0 0 0 0 0 0 0 0 0 184 233 234\n",
      " 151 0 0 0 0 0 0 0 0 0 0 0 0 0 0 0 0 0 0 0 0 0 0 0 0 172 255 249 217 0 0 0\n",
      " 0 0 0 0 0 0 0 0 0 0 0 0 0 0 0 0 0 0 0 0 0 164 235 231 198 0 0 0 0 0 0 0 0\n",
      " 0 0 0 0 0 0 0 0 0 0 0 0 0 0 0 0 226 178 218 162 0 0 0 0 0 0 0 0 0 0 0 0 0\n",
      " 0 0 0 0 0 0 0 0 0 0 29 249 255 253 223 156 104 75 68 64 81 108 131 159\n",
      " 165 133 99 64 30 2 0 0 0 0 0 0 0 0 99 255 127 124 176 228 255 255 255 255\n",
      " 255 255 246 220 212 246 255 255 255 248 215 181 146 77 0 0 0 0 100 255 22\n",
      " 3 27 0 22 50 51 63 41 15 0 0 0 0 26 60 95 129 164 199 235 254 58 0 0 0\n",
      " 100 255 22 92 242 1 0 0 0 0 0 0 0 0 0 0 0 0 0 0 0 0 15 254 112 0 0 0 100\n",
      " 255 22 7 43 0 0 0 0 0 0 0 0 0 0 0 0 0 0 0 0 0 0 227 153 0 0 0 100 255 22\n",
      " 0 0 0 0 0 0 0 0 0 0 0 0 0 0 0 0 0 0 0 0 185 195 0 0 0 100 255 22 0 0 0 0\n",
      " 0 0 0 0 0 0 0 0 0 0 0 0 0 0 0 0 143 238 0 0 0 100 255 22 0 0 0 0 0 0 0 0\n",
      " 0 0 0 0 0 0 0 0 0 0 0 0 102 255 24 0 0 100 255 22 0 0 0 0 0 0 0 0 0 0 0 0\n",
      " 0 0 0 0 0 0 0 0 60 255 66 0 0 100 255 22 0 0 0 0 0 0 0 0 0 0 0 0 0 0 0 0\n",
      " 0 0 0 0 18 255 107 0 0 100 255 121 78 49 20 0 0 0 0 0 0 0 0 0 0 0 0 0 0 0\n",
      " 0 0 16 255 108 0 0 61 238 255 255 255 255 246 215 185 123 51 2 0 0 0 0 0\n",
      " 0 0 0 0 0 0 42 255 82 0 0 0 0 14 43 74 103 131 162 200 252 255 234 184\n",
      " 136 89 68 68 68 68 68 68 68 68 126 255 51 0 0 0 0 0 0 0 0 0 0 0 17 85 149\n",
      " 200 244 255 255 255 255 255 255 255 255 255 255 194 1 0 0 0 0 0 0 0 0 0 0\n",
      " 0 0 0 0 0 2 37 51 51 51 51 51 51 51 51 51 14 0 0 0 0 0 0 0 0 0 0 0 0 0 0\n",
      " 0 0 0 0 0 0 0 0 0 0 0 0 0 0 0 0 0 0 0 0 0 0 0 0 0 0 0 0 0 0 0 0 0 0 0 0 0\n",
      " 0 0 0 0 0 0 0 0 0 0 0 0 0 0 0 0 0 0 0 0 0 0 0 0 0 0 0 0 0 0 0 0 0 0 0\n",
      " 'birthdaycake']\n"
     ]
    }
   ],
   "source": [
    "print(all_[5])"
   ]
  },
  {
   "cell_type": "code",
   "execution_count": 3,
   "metadata": {},
   "outputs": [
    {
     "name": "stdout",
     "output_type": "stream",
     "text": [
      "(276000, 784)\n",
      "(276000,)\n",
      "(69000, 784)\n"
     ]
    }
   ],
   "source": [
    "img = df.iloc[:, 0:-1]\n",
    "lbl = df['label']\n",
    "\n",
    "#Split dataset\n",
    "x_train1, x_test, y_train1, y_test = train_test_split(img, lbl, test_size = 0.20, random_state = 123, stratify = lbl)\n",
    "print(x_train1.shape)\n",
    "print(y_train1.shape)\n",
    "print(x_test.shape)"
   ]
  },
  {
   "cell_type": "code",
   "execution_count": 4,
   "metadata": {},
   "outputs": [],
   "source": [
    "#Convert dataframe to tensor\n",
    "x_train1 = torch.tensor(x_train1.values)\n",
    "y_train1 = torch.tensor(y_train1.values)\n",
    "\n",
    "x_test = torch.tensor(x_test.values)\n",
    "y_test = torch.tensor(y_test.values)"
   ]
  },
  {
   "cell_type": "code",
   "execution_count": 5,
   "metadata": {},
   "outputs": [],
   "source": [
    "#Create dataloaders\n",
    "train_dataset = TensorDataset(x_train1, y_train1)\n",
    "test_dataset = TensorDataset(x_test, y_test)\n",
    "\n",
    "train_loader = DataLoader(dataset=train_dataset, \n",
    "                          batch_size=batch_size, \n",
    "                          shuffle=True)\n",
    "\n",
    "test_loader = DataLoader(dataset=test_dataset, \n",
    "                         batch_size=batch_size, \n",
    "                         shuffle=False)"
   ]
  },
  {
   "cell_type": "code",
   "execution_count": 6,
   "metadata": {},
   "outputs": [
    {
     "name": "stdout",
     "output_type": "stream",
     "text": [
      "Image batch dimensions: torch.Size([256, 784])\n",
      "Image label dimensions: torch.Size([256])\n"
     ]
    }
   ],
   "source": [
    "# Checking the dataset\n",
    "for images, labels in train_loader:  \n",
    "    print('Image batch dimensions:', images.shape)\n",
    "    print('Image label dimensions:', labels.shape)\n",
    "    break"
   ]
  },
  {
   "cell_type": "code",
   "execution_count": 7,
   "metadata": {
    "code_folding": []
   },
   "outputs": [],
   "source": [
    "##########################\n",
    "### MODEL\n",
    "##########################\n",
    "\n",
    "class Autoencoder(torch.nn.Module):\n",
    "\n",
    "    def __init__(self, num_features):\n",
    "        super(Autoencoder, self).__init__()\n",
    "        \n",
    "        ### ENCODER\n",
    "        \n",
    "        self.linear_1 = torch.nn.Linear(num_features, num_hidden_1)\n",
    "        # The following to lones are not necessary, \n",
    "        # but used here to demonstrate how to access the weights\n",
    "        # and use a different weight initialization.\n",
    "        # By default, PyTorch uses Xavier/Glorot initialization, which\n",
    "        # should usually be preferred.\n",
    "        self.linear_1.weight.detach().normal_(0.0, 0.1)\n",
    "        self.linear_1.bias.detach().zero_()\n",
    "        \n",
    "        ### DECODER\n",
    "        self.linear_2 = torch.nn.Linear(num_hidden_1, num_features)\n",
    "        self.linear_1.weight.detach().normal_(0.0, 0.1)\n",
    "        self.linear_1.bias.detach().zero_()\n",
    "        \n",
    "    def encoder(self, x):\n",
    "        encoded = self.linear_1(x)\n",
    "        encoded = F.leaky_relu(encoded)\n",
    "        return encoded\n",
    "    \n",
    "    def decoder(self, encoded_x):\n",
    "        logits = self.linear_2(encoded_x)\n",
    "        decoded = torch.sigmoid(logits)\n",
    "        return decoded\n",
    "        \n",
    "\n",
    "    def forward(self, x):\n",
    "        ### ENCODER\n",
    "        encoded = self.encoder(x)\n",
    "        \n",
    "        ### DECODER\n",
    "        decoded = self.decoder(encoded)\n",
    "        \n",
    "        return decoded\n",
    "\n",
    "    \n",
    "torch.manual_seed(random_seed)\n",
    "model = Autoencoder(num_features=num_features)\n",
    "model = model.to(device)\n",
    "\n",
    "optimizer = torch.optim.Adam(model.parameters(), lr=learning_rate)"
   ]
  },
  {
   "cell_type": "code",
   "execution_count": 8,
   "metadata": {
    "code_folding": []
   },
   "outputs": [
    {
     "name": "stdout",
     "output_type": "stream",
     "text": [
      "Epoch: 001/005 | Batch 000/1079 | Cost: 0.7171\n",
      "Epoch: 001/005 | Batch 050/1079 | Cost: 0.2903\n",
      "Epoch: 001/005 | Batch 100/1079 | Cost: 0.2330\n",
      "Epoch: 001/005 | Batch 150/1079 | Cost: 0.2115\n",
      "Epoch: 001/005 | Batch 200/1079 | Cost: 0.1951\n",
      "Epoch: 001/005 | Batch 250/1079 | Cost: 0.1860\n",
      "Epoch: 001/005 | Batch 300/1079 | Cost: 0.1769\n",
      "Epoch: 001/005 | Batch 350/1079 | Cost: 0.1782\n",
      "Epoch: 001/005 | Batch 400/1079 | Cost: 0.1729\n",
      "Epoch: 001/005 | Batch 450/1079 | Cost: 0.1703\n",
      "Epoch: 001/005 | Batch 500/1079 | Cost: 0.1652\n",
      "Epoch: 001/005 | Batch 550/1079 | Cost: 0.1638\n",
      "Epoch: 001/005 | Batch 600/1079 | Cost: 0.1614\n",
      "Epoch: 001/005 | Batch 650/1079 | Cost: 0.1636\n",
      "Epoch: 001/005 | Batch 700/1079 | Cost: 0.1665\n",
      "Epoch: 001/005 | Batch 750/1079 | Cost: 0.1668\n",
      "Epoch: 001/005 | Batch 800/1079 | Cost: 0.1641\n",
      "Epoch: 001/005 | Batch 850/1079 | Cost: 0.1606\n",
      "Epoch: 001/005 | Batch 900/1079 | Cost: 0.1578\n",
      "Epoch: 001/005 | Batch 950/1079 | Cost: 0.1600\n",
      "Epoch: 001/005 | Batch 1000/1079 | Cost: 0.1663\n",
      "Epoch: 001/005 | Batch 1050/1079 | Cost: 0.1558\n",
      "Time elapsed: 0.16 min\n",
      "Epoch: 002/005 | Batch 000/1079 | Cost: 0.1635\n",
      "Epoch: 002/005 | Batch 050/1079 | Cost: 0.1574\n",
      "Epoch: 002/005 | Batch 100/1079 | Cost: 0.1641\n",
      "Epoch: 002/005 | Batch 150/1079 | Cost: 0.1577\n",
      "Epoch: 002/005 | Batch 200/1079 | Cost: 0.1573\n",
      "Epoch: 002/005 | Batch 250/1079 | Cost: 0.1572\n",
      "Epoch: 002/005 | Batch 300/1079 | Cost: 0.1593\n",
      "Epoch: 002/005 | Batch 350/1079 | Cost: 0.1626\n",
      "Epoch: 002/005 | Batch 400/1079 | Cost: 0.1555\n",
      "Epoch: 002/005 | Batch 450/1079 | Cost: 0.1612\n",
      "Epoch: 002/005 | Batch 500/1079 | Cost: 0.1561\n",
      "Epoch: 002/005 | Batch 550/1079 | Cost: 0.1535\n",
      "Epoch: 002/005 | Batch 600/1079 | Cost: 0.1583\n",
      "Epoch: 002/005 | Batch 650/1079 | Cost: 0.1567\n",
      "Epoch: 002/005 | Batch 700/1079 | Cost: 0.1582\n",
      "Epoch: 002/005 | Batch 750/1079 | Cost: 0.1546\n",
      "Epoch: 002/005 | Batch 800/1079 | Cost: 0.1524\n",
      "Epoch: 002/005 | Batch 850/1079 | Cost: 0.1585\n",
      "Epoch: 002/005 | Batch 900/1079 | Cost: 0.1574\n",
      "Epoch: 002/005 | Batch 950/1079 | Cost: 0.1581\n",
      "Epoch: 002/005 | Batch 1000/1079 | Cost: 0.1503\n",
      "Epoch: 002/005 | Batch 1050/1079 | Cost: 0.1591\n",
      "Time elapsed: 0.31 min\n",
      "Epoch: 003/005 | Batch 000/1079 | Cost: 0.1536\n",
      "Epoch: 003/005 | Batch 050/1079 | Cost: 0.1597\n",
      "Epoch: 003/005 | Batch 100/1079 | Cost: 0.1542\n",
      "Epoch: 003/005 | Batch 150/1079 | Cost: 0.1596\n",
      "Epoch: 003/005 | Batch 200/1079 | Cost: 0.1546\n",
      "Epoch: 003/005 | Batch 250/1079 | Cost: 0.1509\n",
      "Epoch: 003/005 | Batch 300/1079 | Cost: 0.1569\n",
      "Epoch: 003/005 | Batch 350/1079 | Cost: 0.1488\n",
      "Epoch: 003/005 | Batch 400/1079 | Cost: 0.1557\n",
      "Epoch: 003/005 | Batch 450/1079 | Cost: 0.1654\n",
      "Epoch: 003/005 | Batch 500/1079 | Cost: 0.1608\n",
      "Epoch: 003/005 | Batch 550/1079 | Cost: 0.1533\n",
      "Epoch: 003/005 | Batch 600/1079 | Cost: 0.1587\n",
      "Epoch: 003/005 | Batch 650/1079 | Cost: 0.1562\n",
      "Epoch: 003/005 | Batch 700/1079 | Cost: 0.1564\n",
      "Epoch: 003/005 | Batch 750/1079 | Cost: 0.1564\n",
      "Epoch: 003/005 | Batch 800/1079 | Cost: 0.1537\n",
      "Epoch: 003/005 | Batch 850/1079 | Cost: 0.1523\n",
      "Epoch: 003/005 | Batch 900/1079 | Cost: 0.1552\n",
      "Epoch: 003/005 | Batch 950/1079 | Cost: 0.1631\n",
      "Epoch: 003/005 | Batch 1000/1079 | Cost: 0.1515\n",
      "Epoch: 003/005 | Batch 1050/1079 | Cost: 0.1547\n",
      "Time elapsed: 0.46 min\n",
      "Epoch: 004/005 | Batch 000/1079 | Cost: 0.1614\n",
      "Epoch: 004/005 | Batch 050/1079 | Cost: 0.1569\n",
      "Epoch: 004/005 | Batch 100/1079 | Cost: 0.1514\n",
      "Epoch: 004/005 | Batch 150/1079 | Cost: 0.1507\n",
      "Epoch: 004/005 | Batch 200/1079 | Cost: 0.1524\n",
      "Epoch: 004/005 | Batch 250/1079 | Cost: 0.1566\n",
      "Epoch: 004/005 | Batch 300/1079 | Cost: 0.1542\n",
      "Epoch: 004/005 | Batch 350/1079 | Cost: 0.1552\n",
      "Epoch: 004/005 | Batch 400/1079 | Cost: 0.1500\n",
      "Epoch: 004/005 | Batch 450/1079 | Cost: 0.1536\n",
      "Epoch: 004/005 | Batch 500/1079 | Cost: 0.1556\n",
      "Epoch: 004/005 | Batch 550/1079 | Cost: 0.1533\n",
      "Epoch: 004/005 | Batch 600/1079 | Cost: 0.1541\n",
      "Epoch: 004/005 | Batch 650/1079 | Cost: 0.1590\n",
      "Epoch: 004/005 | Batch 700/1079 | Cost: 0.1593\n",
      "Epoch: 004/005 | Batch 750/1079 | Cost: 0.1478\n",
      "Epoch: 004/005 | Batch 800/1079 | Cost: 0.1518\n",
      "Epoch: 004/005 | Batch 850/1079 | Cost: 0.1582\n",
      "Epoch: 004/005 | Batch 900/1079 | Cost: 0.1507\n",
      "Epoch: 004/005 | Batch 950/1079 | Cost: 0.1573\n",
      "Epoch: 004/005 | Batch 1000/1079 | Cost: 0.1458\n",
      "Epoch: 004/005 | Batch 1050/1079 | Cost: 0.1592\n",
      "Time elapsed: 0.62 min\n",
      "Epoch: 005/005 | Batch 000/1079 | Cost: 0.1566\n",
      "Epoch: 005/005 | Batch 050/1079 | Cost: 0.1539\n",
      "Epoch: 005/005 | Batch 100/1079 | Cost: 0.1556\n",
      "Epoch: 005/005 | Batch 150/1079 | Cost: 0.1475\n",
      "Epoch: 005/005 | Batch 200/1079 | Cost: 0.1552\n",
      "Epoch: 005/005 | Batch 250/1079 | Cost: 0.1512\n",
      "Epoch: 005/005 | Batch 300/1079 | Cost: 0.1552\n",
      "Epoch: 005/005 | Batch 350/1079 | Cost: 0.1582\n",
      "Epoch: 005/005 | Batch 400/1079 | Cost: 0.1551\n",
      "Epoch: 005/005 | Batch 450/1079 | Cost: 0.1593\n",
      "Epoch: 005/005 | Batch 500/1079 | Cost: 0.1558\n",
      "Epoch: 005/005 | Batch 550/1079 | Cost: 0.1552\n",
      "Epoch: 005/005 | Batch 600/1079 | Cost: 0.1530\n",
      "Epoch: 005/005 | Batch 650/1079 | Cost: 0.1495\n",
      "Epoch: 005/005 | Batch 700/1079 | Cost: 0.1517\n",
      "Epoch: 005/005 | Batch 750/1079 | Cost: 0.1561\n",
      "Epoch: 005/005 | Batch 800/1079 | Cost: 0.1542\n",
      "Epoch: 005/005 | Batch 850/1079 | Cost: 0.1600\n",
      "Epoch: 005/005 | Batch 900/1079 | Cost: 0.1569\n",
      "Epoch: 005/005 | Batch 950/1079 | Cost: 0.1531\n",
      "Epoch: 005/005 | Batch 1000/1079 | Cost: 0.1567\n",
      "Epoch: 005/005 | Batch 1050/1079 | Cost: 0.1493\n",
      "Time elapsed: 0.78 min\n",
      "Total Training Time: 0.78 min\n"
     ]
    }
   ],
   "source": [
    "## Training\n",
    "start_time = time.time()\n",
    "for epoch in range(num_epochs):\n",
    "    for batch_idx, (features, targets) in enumerate(train_loader):\n",
    "        \n",
    "        # don't need labels, only the images (features)\n",
    "        features = features.view(-1, 28*28).float().to(device)\n",
    "            \n",
    "        ### FORWARD AND BACK PROP\n",
    "        decoded = model(features)\n",
    "        cost = F.binary_cross_entropy(decoded, features)\n",
    "        optimizer.zero_grad()\n",
    "        \n",
    "        cost.backward()\n",
    "        \n",
    "        ### UPDATE MODEL PARAMETERS\n",
    "        optimizer.step()\n",
    "        \n",
    "        ### LOGGING\n",
    "        if not batch_idx % 50:\n",
    "            print ('Epoch: %03d/%03d | Batch %03d/%03d | Cost: %.4f' \n",
    "                   %(epoch+1, num_epochs, batch_idx, \n",
    "                     len(train_loader), cost))\n",
    "            \n",
    "    print('Time elapsed: %.2f min' % ((time.time() - start_time)/60))\n",
    "    \n",
    "print('Total Training Time: %.2f min' % ((time.time() - start_time)/60))"
   ]
  },
  {
   "cell_type": "code",
   "execution_count": 9,
   "metadata": {},
   "outputs": [
    {
     "name": "stdout",
     "output_type": "stream",
     "text": [
      "Image batch dimensions: torch.Size([15, 784])\n",
      "Image label dimensions: torch.Size([15])\n",
      "Image batch dimensions: torch.Size([15, 784])\n",
      "Image label dimensions: torch.Size([15])\n"
     ]
    },
    {
     "data": {
      "image/png": "[encoded data removed]",
      "text/plain": [
       "<Figure size 1440x180 with 30 Axes>"
      ]
     },
     "metadata": {
      "needs_background": "light"
     },
     "output_type": "display_data"
    },
    {
     "data": {
      "image/png": "[encoded data removed]",
      "text/plain": [
       "<Figure size 1440x180 with 30 Axes>"
      ]
     },
     "metadata": {
      "needs_background": "light"
     },
     "output_type": "display_data"
    }
   ],
   "source": [
    "#Evaluation\n",
    "%matplotlib inline\n",
    "import matplotlib.pyplot as plt\n",
    "\n",
    "##########################\n",
    "### VISUALIZATION\n",
    "##########################\n",
    "\n",
    "\n",
    "train_loader = DataLoader(dataset=train_dataset, \n",
    "                          batch_size=15, \n",
    "                          shuffle=True)\n",
    "\n",
    "# Checking the dataset\n",
    "for images, labels in train_loader:  \n",
    "    print('Image batch dimensions:', images.shape)\n",
    "    print('Image label dimensions:', labels.shape)\n",
    "    break\n",
    "    \n",
    "# =============================================================\n",
    "\n",
    "n_images = 15\n",
    "image_width = 28\n",
    "\n",
    "fig, axes = plt.subplots(nrows=2, ncols=n_images, \n",
    "                         sharex=True, sharey=True, figsize=(20, 2.5))\n",
    "orig_images = features[:n_images]\n",
    "decoded_images = decoded[:n_images]\n",
    "\n",
    "for i in range(n_images):\n",
    "    for ax, img in zip(axes, [orig_images, decoded_images]):\n",
    "        curr_img = img[i].detach().to(torch.device('cpu'))\n",
    "        ax[i].imshow(curr_img.view((image_width, image_width)), cmap='binary')\n",
    "        \n",
    "test_loader = DataLoader(dataset=test_dataset, \n",
    "                         batch_size=15, \n",
    "                         shuffle=True)\n",
    "\n",
    "# Checking the dataset\n",
    "for images, labels in test_loader:  \n",
    "    print('Image batch dimensions:', images.shape)\n",
    "    print('Image label dimensions:', labels.shape)\n",
    "    break\n",
    "    \n",
    "# =============================================================\n",
    "\n",
    "n_images = 15\n",
    "image_width = 28\n",
    "\n",
    "fig, axes = plt.subplots(nrows=2, ncols=n_images, \n",
    "                         sharex=True, sharey=True, figsize=(20, 2.5))\n",
    "orig_images = features[:n_images]\n",
    "decoded_images = decoded[:n_images]\n",
    "\n",
    "for i in range(n_images):\n",
    "    for ax, img in zip(axes, [orig_images, decoded_images]):\n",
    "        curr_img = img[i].detach().to(torch.device('cpu'))\n",
    "        ax[i].imshow(curr_img.view((image_width, image_width)), cmap='binary')\n"
   ]
  },
  {
   "cell_type": "markdown",
   "metadata": {},
   "source": [
    "#### K means"
   ]
  },
  {
   "cell_type": "code",
   "execution_count": 10,
   "metadata": {},
   "outputs": [],
   "source": [
    "from sklearn.cluster import MiniBatchKMeans\n",
    "import time\n",
    "import pandas as pd\n",
    "from collections import Counter\n",
    "import ast"
   ]
  },
  {
   "cell_type": "code",
   "execution_count": 11,
   "metadata": {},
   "outputs": [],
   "source": [
    "#Load data as input \n",
    "train_loader = DataLoader(dataset=train_dataset, \n",
    "                          batch_size=276000, \n",
    "                          shuffle=True)\n",
    "\n",
    "test_loader = DataLoader(dataset=test_dataset, \n",
    "                          batch_size=69000, \n",
    "                          shuffle=False)"
   ]
  },
  {
   "cell_type": "code",
   "execution_count": 12,
   "metadata": {},
   "outputs": [
    {
     "name": "stdout",
     "output_type": "stream",
     "text": [
      "Image batch dimensions: torch.Size([276000, 784])\n",
      "Image label dimensions: torch.Size([276000])\n",
      "Image batch dimensions: torch.Size([69000, 784])\n",
      "Image label dimensions: torch.Size([69000])\n"
     ]
    }
   ],
   "source": [
    "for images, labels in train_loader:  \n",
    "    print('Image batch dimensions:', images.shape)\n",
    "    print('Image label dimensions:', labels.shape)\n",
    "    break\n",
    "\n",
    "X_train = np.array(images.reshape(276000, 28*28))\n",
    "y_train = np.array(labels)\n",
    "\n",
    "\n",
    "for images, labels in test_loader:  \n",
    "    print('Image batch dimensions:', images.shape)\n",
    "    print('Image label dimensions:', labels.shape)\n",
    "    break\n",
    "\n",
    "X_test = np.array(images.reshape(69000, 28*28))\n",
    "y_test = np.array(labels)"
   ]
  },
  {
   "cell_type": "code",
   "execution_count": 13,
   "metadata": {},
   "outputs": [
    {
     "name": "stdout",
     "output_type": "stream",
     "text": [
      "(345000, 784)\n",
      "(345000,)\n"
     ]
    }
   ],
   "source": [
    "#Concate to get the train and test dataset\n",
    "X = np.concatenate((X_train, X_test), axis=0)\n",
    "y = np.concatenate((y_train, y_test), axis=0)\n",
    "print(X.shape)\n",
    "print(y.shape)"
   ]
  },
  {
   "cell_type": "code",
   "execution_count": 14,
   "metadata": {},
   "outputs": [],
   "source": [
    "#Get the string categories from dictionary mapping \n",
    "label_map = open(r\"F:/Fall 2019/stat 479-ML/Project_Group_7/GITHUB/stat-479-project/DataPrep/label_map.txt\")\n",
    "label_map = ast.literal_eval(label_map.read())\n",
    "\n",
    "y = list(y.flatten())\n",
    "y = list(label_map.get(k, \"\") for k in y)"
   ]
  },
  {
   "cell_type": "code",
   "execution_count": 15,
   "metadata": {},
   "outputs": [
    {
     "name": "stdout",
     "output_type": "stream",
     "text": [
      "1\n",
      "51\n",
      "101\n",
      "151\n",
      "201\n",
      "251\n",
      "301\n"
     ]
    }
   ],
   "source": [
    "#Train K_means\n",
    "prediction =[]\n",
    "distortions = []\n",
    "t0 = time.time()\n",
    "\n",
    "for i in range(1, 345, 50):\n",
    "    print(i)\n",
    "    km = MiniBatchKMeans(init='k-means++', n_clusters=i, batch_size=10000, n_init=10, max_iter=300)\n",
    "    prediction.append(km.fit_predict(X))\n",
    "    distortions.append(km.inertia_)\n",
    "\n",
    "    \n",
    "km = MiniBatchKMeans(init='k-means++', n_clusters=345, batch_size=10000, n_init=10, max_iter=300)\n",
    "prediction.append(km.fit_predict(X))\n",
    "distortions.append(km.inertia_)\n",
    "    \n",
    "t_mini_batch = time.time() - t0"
   ]
  },
  {
   "cell_type": "code",
   "execution_count": 16,
   "metadata": {},
   "outputs": [
    {
     "name": "stdout",
     "output_type": "stream",
     "text": [
      "803.1193177700043\n"
     ]
    },
    {
     "data": {
      "image/png": "[encoded data removed]",
      "text/plain": [
       "<Figure size 432x288 with 1 Axes>"
      ]
     },
     "metadata": {
      "needs_background": "light"
     },
     "output_type": "display_data"
    }
   ],
   "source": [
    "print(t_mini_batch)\n",
    "\n",
    "plt.plot((1,51,100,151,201,251,301,345),distortions, marker='o')\n",
    "plt.xlabel('Number of clusters')\n",
    "plt.ylabel('Distortion')\n",
    "plt.show()"
   ]
  },
  {
   "cell_type": "code",
   "execution_count": 17,
   "metadata": {},
   "outputs": [
    {
     "name": "stdout",
     "output_type": "stream",
     "text": [
      "{0, 1, 2, 3, 4, 5, 6, 7, 8, 9, 10, 11, 12, 13, 14, 15, 16, 17, 18, 19, 20, 21, 22, 23, 24, 25, 26, 27, 28, 29, 30, 31, 32, 33, 34, 35, 36, 37, 38, 39, 40, 41, 42, 43, 44, 45, 46, 47, 48, 49, 50, 51, 52, 53, 54, 55, 56, 57, 58, 59, 60, 61, 62, 63, 64, 65, 66, 67, 68, 69, 70, 71, 72, 73, 74, 75, 76, 77, 78, 79, 80, 81, 82, 83, 84, 85, 86, 87, 88, 89, 90, 91, 92, 93, 94, 95, 96, 97, 98, 99, 100, 101, 102, 103, 104, 105, 106, 107, 108, 109, 110, 111, 112, 113, 114, 115, 116, 117, 118, 119, 120, 121, 122, 123, 124, 125, 126, 127, 128, 129, 130, 131, 132, 133, 134, 135, 136, 137, 138, 139, 140, 141, 142, 143, 144, 145, 146, 147, 148, 149, 150, 151, 152, 153, 154, 155, 156, 157, 158, 159, 160, 161, 162, 163, 164, 165, 166, 167, 168, 169, 170, 171, 172, 173, 174, 175, 176, 177, 178, 179, 180, 181, 182, 183, 184, 185, 186, 187, 188, 189, 190, 191, 192, 193, 194, 195, 196, 197, 198, 199, 200, 201, 202, 203, 204, 205, 206, 207, 208, 209, 210, 211, 212, 213, 214, 215, 216, 217, 218, 219, 220, 221, 222, 223, 224, 225, 226, 227, 228, 229, 230, 231, 232, 233, 234, 235, 236, 237, 238, 239, 240, 241, 242, 243, 244, 245, 246, 247, 248, 249, 250}\n"
     ]
    }
   ],
   "source": [
    "y_kmeans=list(prediction[5])\n",
    "y_category = np.array(y)\n",
    "clusters=set(y_kmeans)\n",
    "print(clusters)"
   ]
  },
  {
   "cell_type": "code",
   "execution_count": 18,
   "metadata": {},
   "outputs": [],
   "source": [
    "cluster_index = []\n",
    "for cluster in clusters:\n",
    "    indices = [i for i, x in enumerate(y_kmeans) if x == cluster]\n",
    "    cluster_index.append(indices)"
   ]
  },
  {
   "cell_type": "code",
   "execution_count": 19,
   "metadata": {},
   "outputs": [],
   "source": [
    "category_cluster=[]\n",
    "for index in cluster_index:\n",
    "    category_cluster.append(y_category[index]) "
   ]
  },
  {
   "cell_type": "code",
   "execution_count": 20,
   "metadata": {},
   "outputs": [
    {
     "name": "stdout",
     "output_type": "stream",
     "text": [
      "[('envelope', 99), ('stereo', 72), ('couch', 72)]\n",
      "[('sword', 73), ('flamingo', 63), ('golfclub', 58)]\n",
      "[('houseplant', 141), ('TheEiffelTower', 120), ('snowman', 68)]\n",
      "[('saw', 122), ('skateboard', 122), ('crocodile', 65)]\n",
      "[('bandage', 81), ('baseballbat', 68), ('stairs', 62)]\n",
      "[('hexagon', 155), ('octagon', 151), ('circle', 151)]\n",
      "[('bowtie', 151), ('fireplace', 87), ('camera', 87)]\n",
      "[('belt', 187), ('grass', 140), ('rifle', 103)]\n",
      "[('teapot', 80), ('fish', 52), ('whale', 32)]\n",
      "[('palmtree', 129), ('windmill', 117), ('flower', 86)]\n",
      "[('calculator', 139), ('owl', 72), ('houseplant', 43)]\n",
      "[('door', 158), ('remotecontrol', 116), ('skyscraper', 109)]\n",
      "[('cat', 77), ('pig', 67), ('camel', 66)]\n",
      "[('teddy-bear', 92), ('harp', 32), ('rabbit', 28)]\n",
      "[('knee', 137), ('streetlight', 113), ('axe', 77)]\n",
      "[('sheep', 103), ('cow', 76), ('rhinoceros', 66)]\n",
      "[('square', 132), ('washingmachine', 132), ('dishwasher', 83)]\n",
      "[('snail', 81), ('helicopter', 49), ('mosquito', 46)]\n",
      "[('cannon', 91), ('fryingpan', 63), ('horse', 40)]\n",
      "[('bus', 139), ('schoolbus', 125), ('truck', 94)]\n",
      "[('necklace', 187), ('elbow', 105), ('banana', 70)]\n",
      "[('purse', 95), ('house', 64), ('birthdaycake', 61)]\n",
      "[('hedgehog', 91), ('cruiseship', 89), ('eye', 74)]\n",
      "[('drill', 164), ('lighthouse', 90), ('divingboard', 87)]\n",
      "[('shovel', 141), ('rake', 139), ('broom', 132)]\n",
      "[('tennisracquet', 75), ('leaf', 54), ('mermaid', 44)]\n",
      "[('candle', 123), ('lipstick', 118), ('crayon', 101)]\n",
      "[('hedgehog', 76), ('bee', 41), ('seaturtle', 39)]\n",
      "[('bulldozer', 110), ('pickuptruck', 95), ('truck', 44)]\n",
      "[('barn', 69), ('house', 68), ('lantern', 37)]\n",
      "[('lipstick', 260), ('candle', 200), ('winebottle', 121)]\n",
      "[('lightbulb', 144), ('ear', 98), ('necklace', 73)]\n",
      "[('camouflage', 65), ('hurricane', 59), ('brain', 47)]\n",
      "[('asparagus', 136), ('candle', 108), ('knife', 88)]\n",
      "[('eye', 76), ('hedgehog', 50), ('sandwich', 38)]\n",
      "[('tennisracquet', 218), ('tornado', 168), ('fan', 127)]\n",
      "[('mosquito', 51), ('snail', 47), ('lion', 32)]\n",
      "[('headphones', 138), ('purse', 95), ('radio', 70)]\n",
      "[('envelope', 134), ('microwave', 81), ('map', 80)]\n",
      "[('wineglass', 260), ('floorlamp', 163), ('lollipop', 113)]\n",
      "[('underwear', 102), ('sweater', 67), ('jacket', 57)]\n",
      "[('fryingpan', 128), ('fish', 59), ('trumpet', 50)]\n",
      "[('golfclub', 172), ('broom', 146), ('rake', 116)]\n",
      "[('cellphone', 76), ('octopus', 49), ('toilet', 42)]\n",
      "[('stereo', 37), ('rhinoceros', 28), ('pool', 21)]\n",
      "[('donut', 76), ('baseball', 68), ('compass', 55)]\n",
      "[('microwave', 94), ('schoolbus', 84), ('bus', 80)]\n",
      "[('tornado', 65), ('monkey', 62), ('hurricane', 61)]\n",
      "[('chair', 188), ('kangaroo', 59), ('giraffe', 54)]\n",
      "[('scorpion', 63), ('swan', 60), ('banana', 41)]\n",
      "[('underwear', 144), ('t-shirt', 117), ('sheep', 92)]\n",
      "[('harp', 72), ('blackberry', 45), ('campfire', 29)]\n",
      "[('octopus', 105), ('bee', 89), ('ceilingfan', 85)]\n",
      "[('mug', 95), ('coffeecup', 93), ('cup', 51)]\n",
      "[('keyboard', 150), ('cloud', 97), ('pond', 72)]\n",
      "[('van', 194), ('bus', 128), ('truck', 118)]\n",
      "[('stairs', 187), ('seesaw', 83), ('stitches', 49)]\n",
      "[('teapot', 107), ('crab', 86), ('underwear', 74)]\n",
      "[('seesaw', 142), ('snake', 80), ('stitches', 73)]\n",
      "[('canoe', 105), ('shark', 79), ('speedboat', 76)]\n",
      "[('tennisracquet', 77), ('mermaid', 54), ('carrot', 43)]\n",
      "[('hat', 131), ('flyingsaucer', 85), ('shark', 75)]\n",
      "[('crown', 105), ('submarine', 90), ('birthdaycake', 69)]\n",
      "[('rifle', 213), ('seesaw', 67), ('bridge', 43)]\n",
      "[('microphone', 115), ('tennisracquet', 95), ('carrot', 87)]\n",
      "[('cruiseship', 106), ('submarine', 104), ('flyingsaucer', 68)]\n",
      "[('skateboard', 129), ('saw', 68), ('bus', 56)]\n",
      "[('cello', 210), ('guitar', 113), ('TheEiffelTower', 94)]\n",
      "[('television', 131), ('radio', 84), ('purse', 65)]\n",
      "[('cactus', 98), ('star', 85), ('teddy-bear', 83)]\n",
      "[('golfclub', 87), ('knee', 84), ('hockeystick', 82)]\n",
      "[('sock', 72), ('alarmclock', 62), ('apple', 46)]\n",
      "[('spreadsheet', 71), ('camouflage', 67), ('hotdog', 66)]\n",
      "[('donut', 95), ('cookie', 62), ('baseball', 57)]\n",
      "[('hat', 143), ('policecar', 96), ('triangle', 95)]\n",
      "[('door', 201), ('cellphone', 109), ('bucket', 65)]\n",
      "[('canoe', 70), ('speedboat', 42), ('shoe', 41)]\n",
      "[('mountain', 153), ('axe', 65), ('triangle', 60)]\n",
      "[('soccerball', 108), ('wheel', 102), ('donut', 97)]\n",
      "[('camouflage', 34), ('hurricane', 22), ('spreadsheet', 21)]\n",
      "[('cup', 65), ('tooth', 52), ('bucket', 46)]\n",
      "[('shark', 151), ('flyingsaucer', 117), ('policecar', 110)]\n",
      "[('speedboat', 70), ('aircraftcarrier', 64), ('trombone', 59)]\n",
      "[('flamingo', 94), ('mermaid', 66), ('waterslide', 54)]\n",
      "[('hockeystick', 124), ('snorkel', 114), ('banana', 112)]\n",
      "[('pillow', 92), ('shorts', 69), ('postcard', 62)]\n",
      "[('postcard', 120), ('pillow', 108), ('envelope', 90)]\n",
      "[('sock', 102), ('octagon', 87), ('hexagon', 78)]\n",
      "[('pencil', 63), ('feather', 61), ('syringe', 60)]\n",
      "[('jacket', 48), ('squirrel', 38), ('sheep', 37)]\n",
      "[('tree', 91), ('flower', 76), ('broccoli', 71)]\n",
      "[('basketball', 57), ('wheel', 57), ('lion', 52)]\n",
      "[('TheEiffelTower', 223), ('cello', 99), ('houseplant', 67)]\n",
      "[('teddy-bear', 111), ('owl', 99), ('harp', 79)]\n",
      "[('hourglass', 538), ('vase', 88), ('wineglass', 45)]\n",
      "[('cloud', 122), ('pillow', 75), ('pond', 71)]\n",
      "[('triangle', 209), ('nose', 150), ('pear', 113)]\n",
      "[('ladder', 109), ('finger', 73), ('skyscraper', 67)]\n",
      "[('winebottle', 166), ('lighter', 83), ('remotecontrol', 58)]\n",
      "[('circle', 107), ('potato', 74), ('clock', 72)]\n",
      "[('knee', 56), ('elbow', 55), ('sun', 47)]\n",
      "[('octopus', 118), ('sailboat', 104), ('bulldozer', 77)]\n",
      "[('stove', 105), ('microwave', 65), ('calendar', 63)]\n",
      "[('lighter', 63), ('firehydrant', 43), ('penguin', 39)]\n",
      "[('hotdog', 110), ('eye', 79), ('bathtub', 74)]\n",
      "[('toothbrush', 97), ('snake', 92), ('rollercoaster', 71)]\n",
      "[('bandage', 123), ('saw', 63), ('belt', 57)]\n",
      "[('cloud', 124), ('hexagon', 79), ('bush', 78)]\n",
      "[('lollipop', 189), ('stopsign', 105), ('flower', 96)]\n",
      "[('bandage', 131), ('keyboard', 109), ('saw', 88)]\n",
      "[('toothbrush', 148), ('snake', 90), ('moustache', 81)]\n",
      "[('pants', 109), ('square', 93), ('washingmachine', 69)]\n",
      "[('shorts', 114), ('postcard', 81), ('envelope', 71)]\n",
      "[('stairs', 221), ('stitches', 97), ('screwdriver', 50)]\n",
      "[('spreadsheet', 80), ('calendar', 67), ('brain', 49)]\n",
      "[('lipstick', 72), ('finger', 58), ('paperclip', 50)]\n",
      "[('rainbow', 280), ('boomerang', 147), ('dolphin', 128)]\n",
      "[('line', 467), ('ocean', 388), ('grass', 106)]\n",
      "[('palmtree', 100), ('parachute', 96), ('diamond', 77)]\n",
      "[('streetlight', 111), ('axe', 75), ('knee', 69)]\n",
      "[('square', 95), ('shorts', 93), ('camera', 87)]\n",
      "[('seesaw', 100), ('syringe', 59), ('toothbrush', 48)]\n",
      "[('stopsign', 152), ('lollipop', 104), ('palmtree', 88)]\n",
      "[('canoe', 62), ('moustache', 61), ('mouse', 56)]\n",
      "[('mug', 344), ('coffeecup', 207), ('cup', 170)]\n",
      "[('giraffe', 71), ('saxophone', 61), ('waterslide', 53)]\n",
      "[('skull', 80), ('beard', 75), ('goatee', 74)]\n",
      "[('horse', 52), ('bandage', 39), ('dragon', 38)]\n",
      "[('sailboat', 88), ('beach', 83), ('moustache', 82)]\n",
      "[('streetlight', 55), ('paperclip', 51), ('ladder', 47)]\n",
      "[('calculator', 135), ('TheMonaLisa', 118), ('washingmachine', 108)]\n",
      "[('bracelet', 195), ('pictureframe', 161), ('sandwich', 51)]\n",
      "[('leg', 75), ('snorkel', 69), ('hockeystick', 62)]\n",
      "[('beard', 79), ('campfire', 78), ('blackberry', 71)]\n",
      "[('beard', 133), ('goatee', 97), ('basket', 63)]\n",
      "[('belt', 155), ('canoe', 111), ('crocodile', 108)]\n",
      "[('wheel', 120), ('soccerball', 98), ('basketball', 97)]\n",
      "[('van', 176), ('truck', 99), ('couch', 49)]\n",
      "[('van', 88), ('ambulance', 68), ('tractor', 64)]\n",
      "[('map', 86), ('square', 84), ('oven', 84)]\n",
      "[('cat', 67), ('bicycle', 56), ('hamburger', 54)]\n",
      "[('popsicle', 263), ('icecream', 156), ('hotairballoon', 87)]\n",
      "[('hammer', 191), ('umbrella', 162), ('mailbox', 145)]\n",
      "[('zebra', 110), ('violin', 69), ('guitar', 69)]\n",
      "[('brain', 65), ('spreadsheet', 57), ('hedgehog', 56)]\n",
      "[('rain', 246), ('animalmigration', 151), ('rainbow', 142)]\n",
      "[('screwdriver', 55), ('asparagus', 54), ('carrot', 47)]\n",
      "[('skyscraper', 132), ('ladder', 118), ('finger', 107)]\n",
      "[('duck', 75), ('mermaid', 63), ('waterslide', 63)]\n",
      "[('saxophone', 74), ('swan', 70), ('fryingpan', 54)]\n",
      "[('motorbike', 60), ('bicycle', 54), ('eyeglasses', 45)]\n",
      "[('guitar', 80), ('grass', 79), ('trombone', 65)]\n",
      "[('microwave', 87), ('map', 73), ('envelope', 68)]\n",
      "[('bandage', 74), ('eraser', 62), ('baseballbat', 35)]\n",
      "[('TheMonaLisa', 94), ('computer', 72), ('spreadsheet', 72)]\n",
      "[('pear', 144), ('pineapple', 140), ('snowman', 107)]\n",
      "[('winebottle', 261), ('lipstick', 104), ('lighter', 103)]\n",
      "[('sun', 288), ('star', 152), ('spider', 67)]\n",
      "[('basket', 70), ('blackberry', 62), ('fireplace', 32)]\n",
      "[('baseballbat', 110), ('crayon', 54), ('marker', 48)]\n",
      "[('snowflake', 202), ('leaf', 124), ('windmill', 98)]\n",
      "[('spreadsheet', 67), ('calendar', 61), ('stereo', 49)]\n",
      "[('rollerskates', 212), ('octopus', 82), ('campfire', 49)]\n",
      "[('eyeglasses', 62), ('trombone', 56), ('trumpet', 56)]\n",
      "[('campfire', 59), ('teddy-bear', 53), ('kangaroo', 53)]\n",
      "[('trafficlight', 71), ('lantern', 66), ('houseplant', 62)]\n",
      "[('t-shirt', 172), ('anvil', 105), ('sweater', 79)]\n",
      "[('peanut', 58), ('hockeystick', 53), ('lightning', 51)]\n",
      "[('wineglass', 238), ('hotairballoon', 144), ('lollipop', 106)]\n",
      "[('wheel', 119), ('soccerball', 111), ('pizza', 107)]\n",
      "[('pizza', 103), ('wheel', 98), ('soccerball', 86)]\n",
      "[('television', 109), ('toaster', 107), ('sink', 83)]\n",
      "[('cloud', 89), ('underwear', 72), ('pillow', 70)]\n",
      "[('zebra', 101), ('tiger', 52), ('camouflage', 40)]\n",
      "[('poweroutlet', 125), ('calculator', 88), ('TheMonaLisa', 86)]\n",
      "[('broccoli', 164), ('tornado', 119), ('tennisracquet', 92)]\n",
      "[('bucket', 115), ('house', 114), ('paintcan', 67)]\n",
      "[('swingset', 189), ('table', 168), ('drill', 98)]\n",
      "[('lightning', 92), ('flamingo', 60), ('asparagus', 59)]\n",
      "[('pillow', 85), ('postcard', 80), ('envelope', 75)]\n",
      "[('hamburger', 76), ('basket', 70), ('tiger', 42)]\n",
      "[('bus', 105), ('schoolbus', 89), ('spreadsheet', 44)]\n",
      "[('horse', 105), ('zebra', 82), ('duck', 75)]\n",
      "[('snorkel', 120), ('foot', 61), ('banana', 59)]\n",
      "[('guitar', 156), ('violin', 117), ('giraffe', 109)]\n",
      "[('giraffe', 67), ('hockeystick', 64), ('golfclub', 57)]\n",
      "[('sailboat', 104), ('birthdaycake', 96), ('apple', 72)]\n",
      "[('truck', 47), ('elephant', 36), ('tractor', 33)]\n",
      "[('pear', 288), ('triangle', 117), ('snowman', 95)]\n",
      "[('potato', 59), ('apple', 45), ('alarmclock', 39)]\n",
      "[('fork', 106), ('floorlamp', 68), ('nail', 62)]\n",
      "[('mushroom', 201), ('tree', 155), ('umbrella', 146)]\n",
      "[('snowflake', 186), ('airplane', 148), ('ceilingfan', 131)]\n",
      "[('octagon', 274), ('circle', 251), ('clock', 197)]\n",
      "[('spider', 43), ('bridge', 41), ('motorbike', 34)]\n",
      "[('butterfly', 50), ('basketball', 45), ('wheel', 38)]\n",
      "[('zebra', 109), ('horse', 73), ('cow', 69)]\n",
      "[('blackberry', 108), ('tornado', 78), ('hurricane', 51)]\n",
      "[('tiger', 67), ('star', 55), ('bat', 50)]\n",
      "[('asparagus', 238), ('pencil', 130), ('screwdriver', 114)]\n",
      "[('grapes', 82), ('onion', 71), ('campfire', 71)]\n",
      "[('dishwasher', 112), ('pictureframe', 100), ('calculator', 100)]\n",
      "[('bowtie', 411), ('dumbbell', 370), ('fish', 126)]\n",
      "[('pineapple', 108), ('trafficlight', 82), ('lantern', 76)]\n",
      "[('anvil', 67), ('underwear', 66), ('t-shirt', 52)]\n",
      "[('door', 173), ('pants', 99), ('tooth', 79)]\n",
      "[('microphone', 119), ('trafficlight', 111), ('paintbrush', 94)]\n",
      "[('megaphone', 90), ('shoe', 90), ('fish', 70)]\n",
      "[('strawberry', 95), ('star', 93), ('sun', 91)]\n",
      "[('dumbbell', 102), ('rifle', 100), ('squiggle', 64)]\n",
      "[('popsicle', 178), ('spoon', 106), ('baseballbat', 61)]\n",
      "[('jacket', 143), ('sweater', 135), ('eye', 85)]\n",
      "[('keyboard', 170), ('saw', 77), ('sleepingbag', 52)]\n",
      "[('strawberry', 96), ('bucket', 68), ('potato', 62)]\n",
      "[('door', 160), ('tooth', 75), ('streetlight', 59)]\n",
      "[('face', 64), ('helmet', 62), ('circle', 51)]\n",
      "[('suitcase', 130), ('apple', 129), ('toaster', 102)]\n",
      "[('swingset', 125), ('drill', 102), ('table', 99)]\n",
      "[('flipflops', 78), ('paperclip', 69), ('penguin', 65)]\n",
      "[('shoe', 109), ('submarine', 62), ('bathtub', 59)]\n",
      "[('hockeystick', 153), ('sock', 82), ('banana', 64)]\n",
      "[('couch', 102), ('sandwich', 100), ('hamburger', 96)]\n",
      "[('triangle', 179), ('sailboat', 109), ('tent', 85)]\n",
      "[('hexagon', 58), ('laptop', 48), ('smileyface', 44)]\n",
      "[('blackberry', 125), ('hurricane', 92), ('tornado', 63)]\n",
      "[('skull', 148), ('lightbulb', 116), ('diamond', 86)]\n",
      "[('sock', 141), ('rollerskates', 85), ('swan', 68)]\n",
      "[('hexagon', 73), ('potato', 58), ('bush', 49)]\n",
      "[('eyeglasses', 86), ('scorpion', 79), ('canoe', 68)]\n",
      "[('square', 156), ('dishwasher', 78), ('pictureframe', 76)]\n",
      "[('eraser', 100), ('banana', 60), ('stethoscope', 45)]\n",
      "[('icecream', 124), ('microphone', 82), ('spoon', 61)]\n",
      "[('carrot', 77), ('nail', 64), ('streetlight', 63)]\n",
      "[('baseball', 110), ('wheel', 100), ('basketball', 98)]\n",
      "[('onion', 103), ('teddy-bear', 77), ('television', 51)]\n",
      "[('underwear', 64), ('camel', 47), ('anvil', 44)]\n",
      "[('poweroutlet', 65), ('calculator', 61), ('trafficlight', 53)]\n",
      "[('headphones', 432), ('rainbow', 173), ('boomerang', 105)]\n",
      "[('giraffe', 172), ('saxophone', 83), ('golfclub', 67)]\n",
      "[('stairs', 174), ('waterslide', 129), ('stethoscope', 63)]\n",
      "[('hand', 173), ('strawberry', 167), ('alarmclock', 62)]\n",
      "[('hotairballoon', 223), ('lightbulb', 221), ('tree', 57)]\n",
      "[('mushroom', 189), ('skull', 137), ('parachute', 97)]\n",
      "[('t-shirt', 230), ('diamond', 167), ('mushroom', 122)]\n",
      "[('bucket', 142), ('paintcan', 102), ('house', 99)]\n",
      "[('clock', 109), ('compass', 102), ('face', 87)]\n",
      "[('line', 157), ('matches', 147), ('floorlamp', 128)]\n",
      "[('eraser', 56), ('fish', 44), ('sleepingbag', 31)]\n",
      "[('bench', 96), ('table', 95), ('swingset', 70)]\n",
      "[('rifle', 125), ('bridge', 109), ('bench', 55)]\n",
      "[('apple', 172), ('alarmclock', 62), ('moon', 61)]\n"
     ]
    }
   ],
   "source": [
    "#Check the top 4 categories in each clusters\n",
    "for new_category in category_cluster:\n",
    "#     print(new_category)\n",
    "    c = Counter(new_category)\n",
    "    print(c.most_common(3))"
   ]
  },
  {
   "cell_type": "code",
   "execution_count": 36,
   "metadata": {},
   "outputs": [],
   "source": [
    "#Check the top 4 categories in each clusters\n",
    "top_categpry=[]\n",
    "for new_category in category_cluster:\n",
    "#     print(new_category)\n",
    "    c = Counter(new_category)\n",
    "    top_categpry.append(c.most_common(1))"
   ]
  },
  {
   "cell_type": "code",
   "execution_count": 39,
   "metadata": {},
   "outputs": [
    {
     "name": "stdout",
     "output_type": "stream",
     "text": [
      "[[('envelope', 99)], [('sword', 73)], [('houseplant', 141)], [('saw', 122)], [('bandage', 81)], [('hexagon', 155)], [('bowtie', 151)], [('belt', 187)], [('teapot', 80)], [('palmtree', 129)], [('calculator', 139)], [('door', 158)], [('cat', 77)], [('teddy-bear', 92)], [('knee', 137)], [('sheep', 103)], [('square', 132)], [('snail', 81)], [('cannon', 91)], [('bus', 139)], [('necklace', 187)], [('purse', 95)], [('hedgehog', 91)], [('drill', 164)], [('shovel', 141)], [('tennisracquet', 75)], [('candle', 123)], [('hedgehog', 76)], [('bulldozer', 110)], [('barn', 69)], [('lipstick', 260)], [('lightbulb', 144)], [('camouflage', 65)], [('asparagus', 136)], [('eye', 76)], [('tennisracquet', 218)], [('mosquito', 51)], [('headphones', 138)], [('envelope', 134)], [('wineglass', 260)], [('underwear', 102)], [('fryingpan', 128)], [('golfclub', 172)], [('cellphone', 76)], [('stereo', 37)], [('donut', 76)], [('microwave', 94)], [('tornado', 65)], [('chair', 188)], [('scorpion', 63)], [('underwear', 144)], [('harp', 72)], [('octopus', 105)], [('mug', 95)], [('keyboard', 150)], [('van', 194)], [('stairs', 187)], [('teapot', 107)], [('seesaw', 142)], [('canoe', 105)], [('tennisracquet', 77)], [('hat', 131)], [('crown', 105)], [('rifle', 213)], [('microphone', 115)], [('cruiseship', 106)], [('skateboard', 129)], [('cello', 210)], [('television', 131)], [('cactus', 98)], [('golfclub', 87)], [('sock', 72)], [('spreadsheet', 71)], [('donut', 95)], [('hat', 143)], [('door', 201)], [('canoe', 70)], [('mountain', 153)], [('soccerball', 108)], [('camouflage', 34)], [('cup', 65)], [('shark', 151)], [('speedboat', 70)], [('flamingo', 94)], [('hockeystick', 124)], [('pillow', 92)], [('postcard', 120)], [('sock', 102)], [('pencil', 63)], [('jacket', 48)], [('tree', 91)], [('basketball', 57)], [('TheEiffelTower', 223)], [('teddy-bear', 111)], [('hourglass', 538)], [('cloud', 122)], [('triangle', 209)], [('ladder', 109)], [('winebottle', 166)], [('circle', 107)], [('knee', 56)], [('octopus', 118)], [('stove', 105)], [('lighter', 63)], [('hotdog', 110)], [('toothbrush', 97)], [('bandage', 123)], [('cloud', 124)], [('lollipop', 189)], [('bandage', 131)], [('toothbrush', 148)], [('pants', 109)], [('shorts', 114)], [('stairs', 221)], [('spreadsheet', 80)], [('lipstick', 72)], [('rainbow', 280)], [('line', 467)], [('palmtree', 100)], [('streetlight', 111)], [('square', 95)], [('seesaw', 100)], [('stopsign', 152)], [('canoe', 62)], [('mug', 344)], [('giraffe', 71)], [('skull', 80)], [('horse', 52)], [('sailboat', 88)], [('streetlight', 55)], [('calculator', 135)], [('bracelet', 195)], [('leg', 75)], [('beard', 79)], [('beard', 133)], [('belt', 155)], [('wheel', 120)], [('van', 176)], [('van', 88)], [('map', 86)], [('cat', 67)], [('popsicle', 263)], [('hammer', 191)], [('zebra', 110)], [('brain', 65)], [('rain', 246)], [('screwdriver', 55)], [('skyscraper', 132)], [('duck', 75)], [('saxophone', 74)], [('motorbike', 60)], [('guitar', 80)], [('microwave', 87)], [('bandage', 74)], [('TheMonaLisa', 94)], [('pear', 144)], [('winebottle', 261)], [('sun', 288)], [('basket', 70)], [('baseballbat', 110)], [('snowflake', 202)], [('spreadsheet', 67)], [('rollerskates', 212)], [('eyeglasses', 62)], [('campfire', 59)], [('trafficlight', 71)], [('t-shirt', 172)], [('peanut', 58)], [('wineglass', 238)], [('wheel', 119)], [('pizza', 103)], [('television', 109)], [('cloud', 89)], [('zebra', 101)], [('poweroutlet', 125)], [('broccoli', 164)], [('bucket', 115)], [('swingset', 189)], [('lightning', 92)], [('pillow', 85)], [('hamburger', 76)], [('bus', 105)], [('horse', 105)], [('snorkel', 120)], [('guitar', 156)], [('giraffe', 67)], [('sailboat', 104)], [('truck', 47)], [('pear', 288)], [('potato', 59)], [('fork', 106)], [('mushroom', 201)], [('snowflake', 186)], [('octagon', 274)], [('spider', 43)], [('butterfly', 50)], [('zebra', 109)], [('blackberry', 108)], [('tiger', 67)], [('asparagus', 238)], [('grapes', 82)], [('dishwasher', 112)], [('bowtie', 411)], [('pineapple', 108)], [('anvil', 67)], [('door', 173)], [('microphone', 119)], [('megaphone', 90)], [('strawberry', 95)], [('dumbbell', 102)], [('popsicle', 178)], [('jacket', 143)], [('keyboard', 170)], [('strawberry', 96)], [('door', 160)], [('face', 64)], [('suitcase', 130)], [('swingset', 125)], [('flipflops', 78)], [('shoe', 109)], [('hockeystick', 153)], [('couch', 102)], [('triangle', 179)], [('hexagon', 58)], [('blackberry', 125)], [('skull', 148)], [('sock', 141)], [('hexagon', 73)], [('eyeglasses', 86)], [('square', 156)], [('eraser', 100)], [('icecream', 124)], [('carrot', 77)], [('baseball', 110)], [('onion', 103)], [('underwear', 64)], [('poweroutlet', 65)], [('headphones', 432)], [('giraffe', 172)], [('stairs', 174)], [('hand', 173)], [('hotairballoon', 223)], [('mushroom', 189)], [('t-shirt', 230)], [('bucket', 142)], [('clock', 109)], [('line', 157)], [('eraser', 56)], [('bench', 96)], [('rifle', 125)], [('apple', 172)]]\n"
     ]
    }
   ],
   "source": [
    "print(top_categpry)"
   ]
  },
  {
   "cell_type": "code",
   "execution_count": 42,
   "metadata": {},
   "outputs": [
    {
     "name": "stdout",
     "output_type": "stream",
     "text": [
      "[('sword', 73)]\n"
     ]
    }
   ],
   "source": [
    "print(top_categpry[1])"
   ]
  },
  {
   "cell_type": "code",
   "execution_count": 46,
   "metadata": {},
   "outputs": [],
   "source": [
    "top_data=pd.read_excel(r\"C:/Users/gaoru/Desktop/top_category.xlsx\")"
   ]
  },
  {
   "cell_type": "code",
   "execution_count": 50,
   "metadata": {},
   "outputs": [
    {
     "name": "stderr",
     "output_type": "stream",
     "text": [
      "C:\\Users\\gaoru\\AppData\\Local\\Continuum\\anaconda3\\lib\\site-packages\\ipykernel_launcher.py:3: SettingWithCopyWarning: \n",
      "A value is trying to be set on a copy of a slice from a DataFrame\n",
      "\n",
      "See the caveats in the documentation: http://pandas.pydata.org/pandas-docs/stable/indexing.html#indexing-view-versus-copy\n",
      "  This is separate from the ipykernel package so we can avoid doing imports until\n",
      "C:\\Users\\gaoru\\AppData\\Local\\Continuum\\anaconda3\\lib\\site-packages\\ipykernel_launcher.py:4: SettingWithCopyWarning: \n",
      "A value is trying to be set on a copy of a slice from a DataFrame\n",
      "\n",
      "See the caveats in the documentation: http://pandas.pydata.org/pandas-docs/stable/indexing.html#indexing-view-versus-copy\n",
      "  after removing the cwd from sys.path.\n"
     ]
    }
   ],
   "source": [
    "for i in range(top_data.shape[0]):\n",
    "    array = str(top_data[\"Category\"][i]).strip(\" \").split(\" \")\n",
    "    top_data[\"Category\"][i]=array [0]\n",
    "    top_data[\"Number\"][i]=array [1]"
   ]
  },
  {
   "cell_type": "code",
   "execution_count": 64,
   "metadata": {},
   "outputs": [],
   "source": [
    "top_data.to_excel(r\"C:/Users/gaoru/Desktop/top_category_.xlsx\") "
   ]
  },
  {
   "cell_type": "code",
   "execution_count": 71,
   "metadata": {},
   "outputs": [
    {
     "name": "stdout",
     "output_type": "stream",
     "text": [
      "0     538\n",
      "1     467\n",
      "2     432\n",
      "3     411\n",
      "4     344\n",
      "5     288\n",
      "6     288\n",
      "7     280\n",
      "8     274\n",
      "9     263\n",
      "10    261\n",
      "Name: Number, dtype: int64\n",
      "0      hourglass\n",
      "1           line\n",
      "2     headphones\n",
      "3         bowtie\n",
      "4            mug\n",
      "5            sun\n",
      "6           pear\n",
      "7        rainbow\n",
      "8        octagon\n",
      "9       popsicle\n",
      "10    winebottle\n",
      "Name: Category, dtype: object\n"
     ]
    }
   ],
   "source": [
    "top_data=pd.read_excel(r\"C:/Users/gaoru/Desktop/top_category_.xlsx\")\n",
    "top_10_number=top_data[\"Number\"][:11]#np.argpartition(top_data[\"Number\"], -10)[-10:]\n",
    "top_10_category = top_data[\"Category\"][:11]#top_data[\"Category\"][top_10_number]\n",
    "\n",
    "print(top_10_number)\n",
    "print(top_10_category)"
   ]
  },
  {
   "cell_type": "code",
   "execution_count": 74,
   "metadata": {},
   "outputs": [
    {
     "data": {
      "image/png": "[encoded data removed]",
      "text/plain": [
       "<Figure size 800x640 with 1 Axes>"
      ]
     },
     "metadata": {},
     "output_type": "display_data"
    }
   ],
   "source": [
    "from matplotlib.pyplot import figure\n",
    "figure(num=None, figsize=(10, 8), dpi=80, facecolor='w', edgecolor='k')\n",
    "\n",
    "plt.bar(range(len(top_10_number)), top_10_number, align='center')\n",
    "plt.xticks(range(len(top_10_category)), top_10_category, size='small')\n",
    "\n",
    "plt.show()"
   ]
  },
  {
   "cell_type": "code",
   "execution_count": null,
   "metadata": {},
   "outputs": [],
   "source": []
  }
 ],
 "metadata": {
  "kernelspec": {
   "display_name": "Python 3",
   "language": "python",
   "name": "python3"
  },
  "language_info": {
   "codemirror_mode": {
    "name": "ipython",
    "version": 3
   },
   "file_extension": ".py",
   "mimetype": "text/x-python",
   "name": "python",
   "nbconvert_exporter": "python",
   "pygments_lexer": "ipython3",
   "version": "3.7.3"
  }
 },
 "nbformat": 4,
 "nbformat_minor": 2
}
