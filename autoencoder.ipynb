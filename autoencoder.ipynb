{
 "cells": [
  {
   "cell_type": "code",
   "execution_count": 1,
   "metadata": {},
   "outputs": [
    {
     "name": "stdout",
     "output_type": "stream",
     "text": [
      "Device: cuda:0\n"
     ]
    }
   ],
   "source": [
    "import time\n",
    "import numpy as np\n",
    "import torch\n",
    "import torch.nn.functional as F\n",
    "from torchvision import datasets\n",
    "from torchvision import transforms\n",
    "from torch.utils.data import DataLoader,TensorDataset\n",
    "import pandas as pd\n",
    "from sklearn.model_selection import train_test_split\n",
    "\n",
    "if torch.cuda.is_available():\n",
    "    torch.backends.cudnn.deterministic = True\n",
    "\n",
    "##########################\n",
    "### SETTINGS\n",
    "##########################\n",
    "\n",
    "# Device\n",
    "device = torch.device(\"cuda:0\" if torch.cuda.is_available() else \"cpu\")\n",
    "print('Device:', device)\n",
    "\n",
    "# Hyperparameters\n",
    "random_seed = 123\n",
    "learning_rate = 0.005\n",
    "num_epochs = 5\n",
    "batch_size = 256\n",
    "\n",
    "# Architecture\n",
    "num_features = 784\n",
    "num_hidden_1 = 18"
   ]
  },
  {
   "cell_type": "code",
   "execution_count": 2,
   "metadata": {},
   "outputs": [],
   "source": [
    "# Load data\n",
    "images = np.load(\"F:/Fall 2019/stat 479-ML/Project_Group_7/GITHUB/sample_1000_image.npy\")\n",
    "labels = np.load(\"F:/Fall 2019/stat 479-ML/Project_Group_7/GITHUB/sample_1000_label.npy\")\n",
    "\n",
    "# Normalize image data.  0-255 to 0-1\n",
    "images = images / 255\n",
    "df = pd.DataFrame(np.concatenate((images, labels), axis=1))\n",
    "\n",
    "# Rename the last column as \"label\"\n",
    "df.rename(columns={784:\"label\"}, inplace=True)\n",
    "\n",
    "# Convert label column to integer type\n",
    "df['label'] = df['label'].astype('int64')"
   ]
  },
  {
   "cell_type": "code",
   "execution_count": 3,
   "metadata": {},
   "outputs": [
    {
     "name": "stdout",
     "output_type": "stream",
     "text": [
      "(276000, 784)\n",
      "(276000,)\n"
     ]
    }
   ],
   "source": [
    "img = df.iloc[:, 0:-1]\n",
    "lbl = df['label']\n",
    "\n",
    "#Split dataset\n",
    "x_train1, x_test, y_train1, y_test = train_test_split(img, lbl, test_size = 0.20, random_state = 123, stratify = lbl)\n",
    "print(x_train1.shape)\n",
    "print(y_train1.shape)"
   ]
  },
  {
   "cell_type": "code",
   "execution_count": 4,
   "metadata": {},
   "outputs": [],
   "source": [
    "#Convert dataframe to tensor\n",
    "x_train1 = torch.tensor(x_train1.values)\n",
    "y_train1 = torch.tensor(y_train1.values)\n",
    "\n",
    "x_test = torch.tensor(x_test.values)\n",
    "y_test = torch.tensor(y_test.values)"
   ]
  },
  {
   "cell_type": "code",
   "execution_count": 5,
   "metadata": {},
   "outputs": [],
   "source": [
    "#Create dataloaders\n",
    "train_dataset = TensorDataset(x_train1, y_train1)\n",
    "test_dataset = TensorDataset(x_test, y_test)\n",
    "\n",
    "train_loader = DataLoader(dataset=train_dataset, \n",
    "                          batch_size=batch_size, \n",
    "                          shuffle=True)\n",
    "\n",
    "test_loader = DataLoader(dataset=test_dataset, \n",
    "                         batch_size=batch_size, \n",
    "                         shuffle=False)"
   ]
  },
  {
   "cell_type": "code",
   "execution_count": 6,
   "metadata": {},
   "outputs": [
    {
     "name": "stdout",
     "output_type": "stream",
     "text": [
      "Image batch dimensions: torch.Size([256, 784])\n",
      "Image label dimensions: torch.Size([256])\n"
     ]
    }
   ],
   "source": [
    "# Checking the dataset\n",
    "for images, labels in train_loader:  \n",
    "    print('Image batch dimensions:', images.shape)\n",
    "    print('Image label dimensions:', labels.shape)\n",
    "    break"
   ]
  },
  {
   "cell_type": "code",
   "execution_count": 7,
   "metadata": {
    "code_folding": []
   },
   "outputs": [],
   "source": [
    "##########################\n",
    "### MODEL\n",
    "##########################\n",
    "\n",
    "class Autoencoder(torch.nn.Module):\n",
    "\n",
    "    def __init__(self, num_features):\n",
    "        super(Autoencoder, self).__init__()\n",
    "        \n",
    "        ### ENCODER\n",
    "        \n",
    "        self.linear_1 = torch.nn.Linear(num_features, num_hidden_1)\n",
    "        # The following to lones are not necessary, \n",
    "        # but used here to demonstrate how to access the weights\n",
    "        # and use a different weight initialization.\n",
    "        # By default, PyTorch uses Xavier/Glorot initialization, which\n",
    "        # should usually be preferred.\n",
    "        self.linear_1.weight.detach().normal_(0.0, 0.1)\n",
    "        self.linear_1.bias.detach().zero_()\n",
    "        \n",
    "        ### DECODER\n",
    "        self.linear_2 = torch.nn.Linear(num_hidden_1, num_features)\n",
    "        self.linear_1.weight.detach().normal_(0.0, 0.1)\n",
    "        self.linear_1.bias.detach().zero_()\n",
    "        \n",
    "    def encoder(self, x):\n",
    "        encoded = self.linear_1(x)\n",
    "        encoded = F.leaky_relu(encoded)\n",
    "        return encoded\n",
    "    \n",
    "    def decoder(self, encoded_x):\n",
    "        logits = self.linear_2(encoded_x)\n",
    "        decoded = torch.sigmoid(logits)\n",
    "        return decoded\n",
    "        \n",
    "\n",
    "    def forward(self, x):\n",
    "        ### ENCODER\n",
    "        encoded = self.encoder(x)\n",
    "        \n",
    "        ### DECODER\n",
    "        decoded = self.decoder(encoded)\n",
    "        \n",
    "        return decoded\n",
    "\n",
    "    \n",
    "torch.manual_seed(random_seed)\n",
    "model = Autoencoder(num_features=num_features)\n",
    "model = model.to(device)\n",
    "\n",
    "optimizer = torch.optim.Adam(model.parameters(), lr=learning_rate)"
   ]
  },
  {
   "cell_type": "code",
   "execution_count": 9,
   "metadata": {
    "code_folding": []
   },
   "outputs": [
    {
     "name": "stdout",
     "output_type": "stream",
     "text": [
      "Epoch: 001/005 | Batch 000/1079 | Cost: 0.7179\n",
      "Epoch: 001/005 | Batch 050/1079 | Cost: 0.3772\n",
      "Epoch: 001/005 | Batch 100/1079 | Cost: 0.3297\n",
      "Epoch: 001/005 | Batch 150/1079 | Cost: 0.3102\n",
      "Epoch: 001/005 | Batch 200/1079 | Cost: 0.3037\n",
      "Epoch: 001/005 | Batch 250/1079 | Cost: 0.2880\n",
      "Epoch: 001/005 | Batch 300/1079 | Cost: 0.2895\n",
      "Epoch: 001/005 | Batch 350/1079 | Cost: 0.2788\n",
      "Epoch: 001/005 | Batch 400/1079 | Cost: 0.2827\n",
      "Epoch: 001/005 | Batch 450/1079 | Cost: 0.2800\n",
      "Epoch: 001/005 | Batch 500/1079 | Cost: 0.2745\n",
      "Epoch: 001/005 | Batch 550/1079 | Cost: 0.2818\n",
      "Epoch: 001/005 | Batch 600/1079 | Cost: 0.2754\n",
      "Epoch: 001/005 | Batch 650/1079 | Cost: 0.2805\n",
      "Epoch: 001/005 | Batch 700/1079 | Cost: 0.2667\n",
      "Epoch: 001/005 | Batch 750/1079 | Cost: 0.2720\n",
      "Epoch: 001/005 | Batch 800/1079 | Cost: 0.2636\n",
      "Epoch: 001/005 | Batch 850/1079 | Cost: 0.2697\n",
      "Epoch: 001/005 | Batch 900/1079 | Cost: 0.2635\n",
      "Epoch: 001/005 | Batch 950/1079 | Cost: 0.2701\n",
      "Epoch: 001/005 | Batch 1000/1079 | Cost: 0.2657\n",
      "Epoch: 001/005 | Batch 1050/1079 | Cost: 0.2677\n",
      "Time elapsed: 0.15 min\n",
      "Epoch: 002/005 | Batch 000/1079 | Cost: 0.2648\n",
      "Epoch: 002/005 | Batch 050/1079 | Cost: 0.2624\n",
      "Epoch: 002/005 | Batch 100/1079 | Cost: 0.2622\n",
      "Epoch: 002/005 | Batch 150/1079 | Cost: 0.2672\n",
      "Epoch: 002/005 | Batch 200/1079 | Cost: 0.2675\n",
      "Epoch: 002/005 | Batch 250/1079 | Cost: 0.2698\n",
      "Epoch: 002/005 | Batch 300/1079 | Cost: 0.2630\n",
      "Epoch: 002/005 | Batch 350/1079 | Cost: 0.2668\n",
      "Epoch: 002/005 | Batch 400/1079 | Cost: 0.2586\n",
      "Epoch: 002/005 | Batch 450/1079 | Cost: 0.2718\n",
      "Epoch: 002/005 | Batch 500/1079 | Cost: 0.2666\n",
      "Epoch: 002/005 | Batch 550/1079 | Cost: 0.2646\n",
      "Epoch: 002/005 | Batch 600/1079 | Cost: 0.2614\n",
      "Epoch: 002/005 | Batch 650/1079 | Cost: 0.2558\n",
      "Epoch: 002/005 | Batch 700/1079 | Cost: 0.2725\n",
      "Epoch: 002/005 | Batch 750/1079 | Cost: 0.2643\n",
      "Epoch: 002/005 | Batch 800/1079 | Cost: 0.2655\n",
      "Epoch: 002/005 | Batch 850/1079 | Cost: 0.2729\n",
      "Epoch: 002/005 | Batch 900/1079 | Cost: 0.2592\n",
      "Epoch: 002/005 | Batch 950/1079 | Cost: 0.2621\n",
      "Epoch: 002/005 | Batch 1000/1079 | Cost: 0.2583\n",
      "Epoch: 002/005 | Batch 1050/1079 | Cost: 0.2604\n",
      "Time elapsed: 0.32 min\n",
      "Epoch: 003/005 | Batch 000/1079 | Cost: 0.2668\n",
      "Epoch: 003/005 | Batch 050/1079 | Cost: 0.2625\n",
      "Epoch: 003/005 | Batch 100/1079 | Cost: 0.2562\n",
      "Epoch: 003/005 | Batch 150/1079 | Cost: 0.2630\n",
      "Epoch: 003/005 | Batch 200/1079 | Cost: 0.2665\n",
      "Epoch: 003/005 | Batch 250/1079 | Cost: 0.2659\n",
      "Epoch: 003/005 | Batch 300/1079 | Cost: 0.2625\n",
      "Epoch: 003/005 | Batch 350/1079 | Cost: 0.2603\n",
      "Epoch: 003/005 | Batch 400/1079 | Cost: 0.2623\n",
      "Epoch: 003/005 | Batch 450/1079 | Cost: 0.2626\n",
      "Epoch: 003/005 | Batch 500/1079 | Cost: 0.2639\n",
      "Epoch: 003/005 | Batch 550/1079 | Cost: 0.2571\n",
      "Epoch: 003/005 | Batch 600/1079 | Cost: 0.2535\n",
      "Epoch: 003/005 | Batch 650/1079 | Cost: 0.2570\n",
      "Epoch: 003/005 | Batch 700/1079 | Cost: 0.2638\n",
      "Epoch: 003/005 | Batch 750/1079 | Cost: 0.2663\n",
      "Epoch: 003/005 | Batch 800/1079 | Cost: 0.2668\n",
      "Epoch: 003/005 | Batch 850/1079 | Cost: 0.2600\n",
      "Epoch: 003/005 | Batch 900/1079 | Cost: 0.2587\n",
      "Epoch: 003/005 | Batch 950/1079 | Cost: 0.2570\n",
      "Epoch: 003/005 | Batch 1000/1079 | Cost: 0.2602\n",
      "Epoch: 003/005 | Batch 1050/1079 | Cost: 0.2619\n",
      "Time elapsed: 0.51 min\n",
      "Epoch: 004/005 | Batch 000/1079 | Cost: 0.2651\n",
      "Epoch: 004/005 | Batch 050/1079 | Cost: 0.2535\n",
      "Epoch: 004/005 | Batch 100/1079 | Cost: 0.2551\n",
      "Epoch: 004/005 | Batch 150/1079 | Cost: 0.2648\n",
      "Epoch: 004/005 | Batch 200/1079 | Cost: 0.2620\n",
      "Epoch: 004/005 | Batch 250/1079 | Cost: 0.2597\n",
      "Epoch: 004/005 | Batch 300/1079 | Cost: 0.2661\n",
      "Epoch: 004/005 | Batch 350/1079 | Cost: 0.2591\n",
      "Epoch: 004/005 | Batch 400/1079 | Cost: 0.2644\n",
      "Epoch: 004/005 | Batch 450/1079 | Cost: 0.2561\n",
      "Epoch: 004/005 | Batch 500/1079 | Cost: 0.2610\n",
      "Epoch: 004/005 | Batch 550/1079 | Cost: 0.2726\n",
      "Epoch: 004/005 | Batch 600/1079 | Cost: 0.2709\n",
      "Epoch: 004/005 | Batch 650/1079 | Cost: 0.2676\n",
      "Epoch: 004/005 | Batch 700/1079 | Cost: 0.2551\n",
      "Epoch: 004/005 | Batch 750/1079 | Cost: 0.2710\n",
      "Epoch: 004/005 | Batch 800/1079 | Cost: 0.2590\n",
      "Epoch: 004/005 | Batch 850/1079 | Cost: 0.2645\n",
      "Epoch: 004/005 | Batch 900/1079 | Cost: 0.2698\n",
      "Epoch: 004/005 | Batch 950/1079 | Cost: 0.2650\n",
      "Epoch: 004/005 | Batch 1000/1079 | Cost: 0.2645\n",
      "Epoch: 004/005 | Batch 1050/1079 | Cost: 0.2599\n",
      "Time elapsed: 0.67 min\n",
      "Epoch: 005/005 | Batch 000/1079 | Cost: 0.2569\n",
      "Epoch: 005/005 | Batch 050/1079 | Cost: 0.2515\n",
      "Epoch: 005/005 | Batch 100/1079 | Cost: 0.2590\n",
      "Epoch: 005/005 | Batch 150/1079 | Cost: 0.2628\n",
      "Epoch: 005/005 | Batch 200/1079 | Cost: 0.2519\n",
      "Epoch: 005/005 | Batch 250/1079 | Cost: 0.2569\n",
      "Epoch: 005/005 | Batch 300/1079 | Cost: 0.2610\n",
      "Epoch: 005/005 | Batch 350/1079 | Cost: 0.2618\n",
      "Epoch: 005/005 | Batch 400/1079 | Cost: 0.2581\n",
      "Epoch: 005/005 | Batch 450/1079 | Cost: 0.2602\n",
      "Epoch: 005/005 | Batch 500/1079 | Cost: 0.2516\n",
      "Epoch: 005/005 | Batch 550/1079 | Cost: 0.2562\n",
      "Epoch: 005/005 | Batch 600/1079 | Cost: 0.2570\n",
      "Epoch: 005/005 | Batch 650/1079 | Cost: 0.2694\n",
      "Epoch: 005/005 | Batch 700/1079 | Cost: 0.2592\n",
      "Epoch: 005/005 | Batch 750/1079 | Cost: 0.2646\n",
      "Epoch: 005/005 | Batch 800/1079 | Cost: 0.2638\n",
      "Epoch: 005/005 | Batch 850/1079 | Cost: 0.2566\n",
      "Epoch: 005/005 | Batch 900/1079 | Cost: 0.2625\n",
      "Epoch: 005/005 | Batch 950/1079 | Cost: 0.2613\n",
      "Epoch: 005/005 | Batch 1000/1079 | Cost: 0.2610\n",
      "Epoch: 005/005 | Batch 1050/1079 | Cost: 0.2564\n",
      "Time elapsed: 0.84 min\n",
      "Total Training Time: 0.84 min\n"
     ]
    }
   ],
   "source": [
    "## Training\n",
    "start_time = time.time()\n",
    "for epoch in range(num_epochs):\n",
    "    for batch_idx, (features, targets) in enumerate(train_loader):\n",
    "        \n",
    "        # don't need labels, only the images (features)\n",
    "        features = features.view(-1, 28*28).float().to(device)\n",
    "            \n",
    "        ### FORWARD AND BACK PROP\n",
    "        decoded = model(features)\n",
    "        cost = F.binary_cross_entropy(decoded, features)\n",
    "        optimizer.zero_grad()\n",
    "        \n",
    "        cost.backward()\n",
    "        \n",
    "        ### UPDATE MODEL PARAMETERS\n",
    "        optimizer.step()\n",
    "        \n",
    "        ### LOGGING\n",
    "        if not batch_idx % 50:\n",
    "            print ('Epoch: %03d/%03d | Batch %03d/%03d | Cost: %.4f' \n",
    "                   %(epoch+1, num_epochs, batch_idx, \n",
    "                     len(train_loader), cost))\n",
    "            \n",
    "    print('Time elapsed: %.2f min' % ((time.time() - start_time)/60))\n",
    "    \n",
    "print('Total Training Time: %.2f min' % ((time.time() - start_time)/60))"
   ]
  },
  {
   "cell_type": "code",
   "execution_count": 10,
   "metadata": {},
   "outputs": [
    {
     "name": "stdout",
     "output_type": "stream",
     "text": [
      "Image batch dimensions: torch.Size([15, 784])\n",
      "Image label dimensions: torch.Size([15])\n"
     ]
    },
    {
     "data": {
      "image/png": "[encoded data removed]",
      "text/plain": [
       "<Figure size 1440x180 with 30 Axes>"
      ]
     },
     "metadata": {
      "needs_background": "light"
     },
     "output_type": "display_data"
    }
   ],
   "source": [
    "#Evaluation\n",
    "%matplotlib inline\n",
    "import matplotlib.pyplot as plt\n",
    "\n",
    "##########################\n",
    "### VISUALIZATION\n",
    "##########################\n",
    "\n",
    "\n",
    "train_loader = DataLoader(dataset=train_dataset, \n",
    "                          batch_size=15, \n",
    "                          shuffle=True)\n",
    "\n",
    "# Checking the dataset\n",
    "for images, labels in train_loader:  \n",
    "    print('Image batch dimensions:', images.shape)\n",
    "    print('Image label dimensions:', labels.shape)\n",
    "    break\n",
    "    \n",
    "# =============================================================\n",
    "\n",
    "n_images = 15\n",
    "image_width = 28\n",
    "\n",
    "fig, axes = plt.subplots(nrows=2, ncols=n_images, \n",
    "                         sharex=True, sharey=True, figsize=(20, 2.5))\n",
    "orig_images = features[:n_images]\n",
    "decoded_images = decoded[:n_images]\n",
    "\n",
    "for i in range(n_images):\n",
    "    for ax, img in zip(axes, [orig_images, decoded_images]):\n",
    "        curr_img = img[i].detach().to(torch.device('cpu'))\n",
    "        ax[i].imshow(curr_img.view((image_width, image_width)), cmap='binary')\n"
   ]
  },
  {
   "cell_type": "code",
   "execution_count": 11,
   "metadata": {},
   "outputs": [
    {
     "name": "stdout",
     "output_type": "stream",
     "text": [
      "Image batch dimensions: torch.Size([15, 784])\n",
      "Image label dimensions: torch.Size([15])\n"
     ]
    },
    {
     "data": {
      "image/png": "[encoded data removed]",
      "text/plain": [
       "<Figure size 1440x180 with 30 Axes>"
      ]
     },
     "metadata": {
      "needs_background": "light"
     },
     "output_type": "display_data"
    }
   ],
   "source": [
    "test_loader = DataLoader(dataset=test_dataset, \n",
    "                         batch_size=15, \n",
    "                         shuffle=True)\n",
    "\n",
    "# Checking the dataset\n",
    "for images, labels in test_loader:  \n",
    "    print('Image batch dimensions:', images.shape)\n",
    "    print('Image label dimensions:', labels.shape)\n",
    "    break\n",
    "    \n",
    "# =============================================================\n",
    "\n",
    "n_images = 15\n",
    "image_width = 28\n",
    "\n",
    "fig, axes = plt.subplots(nrows=2, ncols=n_images, \n",
    "                         sharex=True, sharey=True, figsize=(20, 2.5))\n",
    "orig_images = features[:n_images]\n",
    "decoded_images = decoded[:n_images]\n",
    "\n",
    "for i in range(n_images):\n",
    "    for ax, img in zip(axes, [orig_images, decoded_images]):\n",
    "        curr_img = img[i].detach().to(torch.device('cpu'))\n",
    "        ax[i].imshow(curr_img.view((image_width, image_width)), cmap='binary')"
   ]
  },
  {
   "cell_type": "code",
   "execution_count": null,
   "metadata": {},
   "outputs": [],
   "source": []
  }
 ],
 "metadata": {
  "kernelspec": {
   "display_name": "Python 3",
   "language": "python",
   "name": "python3"
  },
  "language_info": {
   "codemirror_mode": {
    "name": "ipython",
    "version": 3
   },
   "file_extension": ".py",
   "mimetype": "text/x-python",
   "name": "python",
   "nbconvert_exporter": "python",
   "pygments_lexer": "ipython3",
   "version": "3.7.3"
  }
 },
 "nbformat": 4,
 "nbformat_minor": 2
}
